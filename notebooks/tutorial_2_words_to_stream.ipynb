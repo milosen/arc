{
 "cells": [
  {
   "cell_type": "markdown",
   "id": "4b0859a1-27fb-4496-b4fd-f87ab45ea567",
   "metadata": {},
   "source": [
    "# Tutorial 2\n",
    "\n",
    "We will load the words and generate a Lexicon with minimal feature overlap between the words. Then, we will follow up with the 2 main ways we can generate random streams, the `Word`-based and the `Syllable`-based stream generation.\n",
    "\n",
    "First, we load the words from tutorial 1 (or let the script below generate them from scratch)."
   ]
  },
  {
   "cell_type": "code",
   "execution_count": 1,
   "id": "0c75e7ba-dc5a-4e87-923a-c9423d498d20",
   "metadata": {},
   "outputs": [
    {
     "name": "stdout",
     "output_type": "stream",
     "text": [
      "zɛːkøːmyː|kɛːluːfyː|laːɡɛːfoː|reːɡaːfuː|ryːɡiːfaː|ʃiːmoːkuː|ʃaːmuːɡyː|ʃoːbeːhøː|køːʃɛːmuː|tiːhøːvaː|... (10124 elements total)\n"
     ]
    }
   ],
   "source": [
    "import os\n",
    "\n",
    "from arc import load_words\n",
    "\n",
    "FORCE_RECOMPUTE = False\n",
    "\n",
    "if os.path.exists(\"words.json\") and not FORCE_RECOMPUTE:\n",
    "    words = load_words(\"words.json\")\n",
    "else:\n",
    "    from arc import load_phonemes\n",
    "    feature_phonemes = load_phonemes()\n",
    "    \n",
    "    from arc.core.syllable import make_feature_syllables\n",
    "    feature_syllables = make_feature_syllables(feature_phonemes, phoneme_pattern=\"cV\")\n",
    "\n",
    "    from arc.io import read_syllables_corpus\n",
    "    german_syllable_corpus = read_syllables_corpus()  # defaults to the german corpus that comes with ARC\n",
    "\n",
    "    syllables_valid_german = feature_syllables.intersection(german_syllable_corpus)\n",
    "\n",
    "    from arc.tpc.filter import filter_uniform_syllables, filter_common_phoneme_syllables\n",
    "    print(\"Syllables valid german: \", syllables_valid_german)\n",
    "    \n",
    "    syllables_german_filtered = filter_uniform_syllables(syllables_valid_german)\n",
    "    print(\"Syllables with uniform probability of occurence: \", syllables_german_filtered)\n",
    "    \n",
    "    syllables_german_filtered = filter_common_phoneme_syllables(syllables_german_filtered)\n",
    "    print(\"Syllables with common phonemes: \", syllables_german_filtered)\n",
    "\n",
    "    from arc.core.word import make_words\n",
    "    print(\"Make words...\")\n",
    "    words = make_words(syllables_german_filtered, n_words=11_000, max_tries=100_000, progress_bar=True)\n",
    "\n",
    "    from arc.tpc.filter import filter_common_phoneme_words\n",
    "    print(\"Select words with common phonemes (german) ...\")\n",
    "    words = filter_common_phoneme_words(words, position=0)\n",
    "\n",
    "    print(\"Save words ...\")\n",
    "    words.save(\"words.json\")\n",
    "    \n",
    "print(words)"
   ]
  },
  {
   "cell_type": "raw",
   "id": "696c0bbf-02ac-408e-b16e-02d19839dada",
   "metadata": {},
   "source": []
  },
  {
   "cell_type": "code",
   "execution_count": 3,
   "id": "0ec6c786-721b-4328-b796-77281ca79ef1",
   "metadata": {},
   "outputs": [
    {
     "name": "stdout",
     "output_type": "stream",
     "text": [
      "Select words with common bigrams and trigrams (german) ...\n",
      "Sample subset of words (n=200) ...\n"
     ]
    }
   ],
   "source": [
    "print(\"Select words with common bigrams and trigrams (german) ...\")\n",
    "from arc.tpc.filter import filter_gram_stats\n",
    "words = filter_gram_stats(words)\n",
    "\n",
    "print(\"Sample subset of words (n=200) ...\")\n",
    "words = words.get_subset(200)"
   ]
  },
  {
   "cell_type": "markdown",
   "id": "06413261-d35b-4c93-b6da-ff39cc51805b",
   "metadata": {},
   "source": [
    "## Lexicon\n",
    "\n",
    "Great, now we generate minimum-overlap lexica. Let's start with 4 words each. \n",
    "\n",
    "By default, the function will generate 5 `Lexicon`s max. Let's generate 2 and print some info."
   ]
  },
  {
   "cell_type": "code",
   "execution_count": 4,
   "id": "6491055a-9398-44dc-8b61-b457bf928f15",
   "metadata": {},
   "outputs": [
    {
     "name": "stderr",
     "output_type": "stream",
     "text": [
      "WARNING:root:Increasing allowed overlaps: MAX_PAIRWISE_OVERLAP=1, MAX_CUMULATIVE_OVERLAP=1\n",
      "WARNING:root:Increasing allowed overlaps: MAX_PAIRWISE_OVERLAP=1, MAX_CUMULATIVE_OVERLAP=2\n",
      "WARNING:root:Increasing allowed overlaps: MAX_PAIRWISE_OVERLAP=1, MAX_CUMULATIVE_OVERLAP=3\n"
     ]
    },
    {
     "name": "stdout",
     "output_type": "stream",
     "text": [
      "fuːɡiːryː|ʃiːbyːhoː|kuːloːfaː|heːpoːzuː (4 elements total) , cumulative_overlap: 3 , max_pairwise_overlap: 1\n",
      "fuːɡiːryː|ʃiːbyːhoː|heːpoːzyː|kuːloːfaː (4 elements total) , cumulative_overlap: 3 , max_pairwise_overlap: 1\n"
     ]
    }
   ],
   "source": [
    "from arc.tpc.lexicon import make_lexicons_from_words\n",
    "\n",
    "lexicons = make_lexicons_from_words(words, n_lexicons=2)\n",
    "\n",
    "for lexicon in lexicons:\n",
    "    print(lexicon, \", cumulative_overlap:\", lexicon.info[\"cumulative_overlap\"], \", max_pairwise_overlap:\", lexicon.info[\"max_pairwise_overlap\"])"
   ]
  },
  {
   "cell_type": "markdown",
   "id": "9a0c5caf",
   "metadata": {},
   "source": [
    "By default, Lexicons with the minimum possible cumulative overlap between the word features will be generated first, starting at zero overlap. If it is not possible to generate all the requested Lexicons with the given parameters, the allowed overlap will be increased, which will be indicated by a warning message.\n",
    "\n",
    "This process will be repeated, until any of the following statements is true\n",
    "- the requested number of Lexicons has been generated\n",
    "- the maximum allowed overlap is reached (set via `max_overlap`)\n",
    "- the set of all word combinations is exhausted\n",
    "\n",
    "If one or more Lexicons is returned, their info fields hold the cumulative overlap between all word pairs that is achieved by the Lexicon as well as the maximum pairwise overlap used.\n",
    "\n",
    "## Stream\n",
    "\n",
    "### Single Stream\n",
    "\n",
    "The stream generation internally generates a Lexicon first, and then a Stream based on that. The following cell, however, generates a stream directly from words for convenience. The cell should execute quickly. If it doesn't, try reducing the number of words per lexicon or increasing the allowed rhythmicity index."
   ]
  },
  {
   "cell_type": "code",
   "execution_count": null,
   "id": "9ddd7657-fb12-471b-b7b7-c391d9559f4b",
   "metadata": {},
   "outputs": [],
   "source": []
  },
  {
   "cell_type": "code",
   "execution_count": 6,
   "id": "0994a9a6-9991-4089-bb50-cdf8dd8c01e1",
   "metadata": {},
   "outputs": [
    {
     "name": "stderr",
     "output_type": "stream",
     "text": [
      "WARNING:root:Increasing allowed overlaps: MAX_PAIRWISE_OVERLAP=1, MAX_CUMULATIVE_OVERLAP=1\n",
      "WARNING:root:Increasing allowed overlaps: MAX_PAIRWISE_OVERLAP=1, MAX_CUMULATIVE_OVERLAP=2\n",
      "WARNING:root:Increasing allowed overlaps: MAX_PAIRWISE_OVERLAP=1, MAX_CUMULATIVE_OVERLAP=3\n"
     ]
    },
    {
     "name": "stdout",
     "output_type": "stream",
     "text": [
      "\n",
      "heːpoːzuːkuːloːfaːʃiːbyːhoːfuːɡiːryːʃiːbyːhoːkuːloːfaːfuːɡiːryːheːpoːzuːfuːɡiːryːkuːloːfaːheːpoːzuːʃiːbyːhoːfuːɡiːryːkuːloːfaːʃiːbyːhoːheːpoːzuːkuːloːfaːfuːɡiːryːheːpoːzuːʃiːbyːhoːkuːloːfaːheːpoːzuːfuːɡiːryːʃiːbyːhoːfuːɡiːryːʃiːbyːhoːheːpoːzuːkuːloːfaːʃiːbyːhoːkuːloːfaːheːpoːzuːfuːɡiːryːʃiːbyːhoːheːpoːzuːkuːloːfaːfuːɡiːryːkuːloːfaːheːpoːzuːʃiːbyːhoːfuːɡiːryːheːpoːzuːʃiːbyːhoːkuːloːfaːfuːɡiːryːheːpoːzuːfuːɡiːryːkuːloːfaːʃiːbyːhoːkuːloːfaːfuːɡiːryːʃiːbyːhoːheːpoːzuːʃiːbyːhoːfuːɡiːryːkuːloːfaːheːpoːzuːfuːɡiːryːheːpoːzuːkuːloːfaːʃiːbyːhoːkuːloːfaːʃiːbyːhoːfuːɡiːryːheːpoːzuːʃiːbyːhoːheːpoːzuːfuːɡiːryːkuːloːfaːheːpoːzuːkuːloːfaːfuːɡiːryːʃiːbyːhoːheːpoːzuːfuːɡiːryːʃiːbyːhoːkuːloːfaːheːpoːzuːʃiːbyːhoːfuːɡiːryːkuːloːfaːʃiːbyːhoːfuːɡiːryːheːpoːzuːkuːloːfaːfuːɡiːryːheːpoːzuːʃiːbyːhoːkuːloːfaːfuːɡiːryːʃiːbyːhoːkuːloːfaːheːpoːzuːkuːloːfaːʃiːbyːhoːheːpoːzuːfuːɡiːryːkuːloːfaːheːpoːzuːʃiːbyːhoːfuːɡiːryːʃiːbyːhoːheːpoːzuːkuːloːfaːfuːɡiːryːkuːloːfaːʃiːbyːhoːheːpoːzuːfuːɡiːryːʃiːbyːhoːkuːloːfaːfuːɡiːryːheːpoːzuːfuːɡiːryːkuːloːfaːʃiːbyːhoːheːpoːzuːʃiːbyːhoːfuːɡiːryːheːpoːzuːkuːloːfaːfuːɡiːryːʃiːbyːhoːheːpoːzuːkuːloːfaːheːpoːzuːfuːɡiːryːkuːloːfaːʃiːbyːhoːfuːɡiːryːheːpoːzuːʃiːbyːhoːkuːloːfaːheːpoːzuːʃiːbyːhoːkuːloːfaːfuːɡiːryːʃiːbyːhoːfuːɡiːryːkuːloːfaːheːpoːzuːfuːɡiːryːheːpoːzuːkuːloːfaːʃiːbyːhoːfuːɡiːryːkuːloːfaːheːpoːzuːʃiːbyːhoːheːpoːzuːfuːɡiːryːʃiːbyːhoːkuːloːfaːʃiːbyːhoːkuːloːfaːheːpoːzuːfuːɡiːryːkuːloːfaːfuːɡiːryːheːpoːzuːʃiːbyːhoːheːpoːzuːkuːloːfaːʃiːbyːhoːfuːɡiːryːheːpoːzuːkuːloːfaːfuːɡiːryːʃiːbyːhoːheːpoːzuːʃiːbyːhoːfuːɡiːryːkuːloːfaːfuːɡiːryːʃiːbyːhoːkuːloːfaːheːpoːzuːkuːloːfaːheːpoːzuːfuːɡiːryːʃiːbyːhoːkuːloːfaːʃiːbyːhoːfuːɡiːryːheːpoːzuːʃiːbyːhoːheːpoːzuːfuːɡiːryːkuːloːfaːfuːɡiːryːheːpoːzuːkuːloːfaːʃiːbyːhoː\n",
      "\n",
      "rhythmicity_indexes: {'phon_1_son': 0.09649122807017543, 'phon_1_back': 0.0, 'phon_1_hi': 0.0, 'phon_1_lab': 0.12280701754385964, 'phon_1_cor': 0.09824561403508772, 'phon_1_cont': 0.0, 'phon_1_lat': 0.0, 'phon_1_nas': 0.0, 'phon_1_voi': 0.14385964912280702, 'phon_2_back': 0.0, 'phon_2_hi': 0.0, 'phon_2_lo': 0.0, 'phon_2_lab': 0.02280701754385965, 'phon_2_tense': 0.0, 'phon_2_long': 0.0}\n",
      "\n",
      "lexicon: fuːɡiːryː|ʃiːbyːhoː|kuːloːfaː|heːpoːzuː (4 elements total)\n",
      "\n",
      "rand_mode: word\n",
      "\n",
      "phoneme_feature_labels: ['syl', 'son', 'cons', 'cont', 'delrel', 'lat', 'nas', 'strid', 'voi', 'sg', 'cg', 'ant', 'cor', 'distr', 'lab', 'hi', 'lo', 'back', 'round', 'tense', 'long']\n",
      "\n",
      "syllable_feature_labels: [['son', 'back', 'hi', 'lab', 'cor', 'cont', 'lat', 'nas', 'voi'], ['back', 'hi', 'lo', 'lab', 'tense', 'long']]\n",
      "\n",
      "phoneme_pattern: cV\n",
      "\n",
      "bigram_pval: 0.05\n",
      "\n",
      "bigrams_count: 887\n",
      "\n",
      "trigram_pval: 0.05\n",
      "\n",
      "trigrams_count: 13030\n",
      "\n",
      "cumulative_overlap: 3\n",
      "\n",
      "max_pairwise_overlap: 1\n",
      "\n"
     ]
    }
   ],
   "source": [
    "from arc.tpc.stream import make_stream_from_words\n",
    "\n",
    "stream = make_stream_from_words(words, rand_mode=\"word\", n_words=4, max_rhythmicity=0.2, max_lexicons=100, max_tries_randomize=10)\n",
    "\n",
    "print(\"\")\n",
    "\n",
    "print(stream)\n",
    "\n",
    "print(\"\")\n",
    "\n",
    "for key, val in stream.info.items():\n",
    "    print(f\"{key}: {str(val)}\")\n",
    "    print(\"\")"
   ]
  },
  {
   "cell_type": "code",
   "execution_count": null,
   "id": "a917d545-995f-4640-8b2b-53c2884d645a",
   "metadata": {},
   "outputs": [],
   "source": []
  },
  {
   "cell_type": "markdown",
   "id": "9186f7db",
   "metadata": {},
   "source": [
    "As you can see, the `.info` field holds some useful information about the generated stream, i.e. which Lexicon has been used to generate it, the rythmicity indexes achieved for each feature, and which randomization mode has been used. The randomization mode can be `syllable` or `word`. It can be immediately varified that the randomization mode is `word`, since the individual words of the Lexicon can be recognized in the stream. Contrastingly, syllable level randomization means that the words are further brocken down into syllables, and the syllables are shuffled across the whole lexicon, destroying word-level information.\n",
    "\n",
    "Next, we will use this distinction to generate a compatible set of streams for testing statistical learning hypotheses.\n",
    "\n",
    "### Set of Compatible Streams\n",
    "\n",
    "If this runs quickly, then we can step it up and generate a complete set of compatible lexicons for our study. If `streams` is empty, try increasing the allowed maximum rythmicity)."
   ]
  },
  {
   "cell_type": "code",
   "execution_count": 7,
   "id": "82199da6",
   "metadata": {},
   "outputs": [
    {
     "name": "stderr",
     "output_type": "stream",
     "text": [
      "WARNING:root:Increasing allowed overlaps: MAX_PAIRWISE_OVERLAP=1, MAX_CUMULATIVE_OVERLAP=1\n",
      "WARNING:root:Increasing allowed overlaps: MAX_PAIRWISE_OVERLAP=1, MAX_CUMULATIVE_OVERLAP=2\n",
      "WARNING:root:Increasing allowed overlaps: MAX_PAIRWISE_OVERLAP=1, MAX_CUMULATIVE_OVERLAP=3\n",
      "WARNING:root:Increasing allowed overlaps: MAX_PAIRWISE_OVERLAP=1, MAX_CUMULATIVE_OVERLAP=4\n",
      "WARNING:root:Increasing allowed overlaps: MAX_PAIRWISE_OVERLAP=1, MAX_CUMULATIVE_OVERLAP=1\n",
      "WARNING:root:Increasing allowed overlaps: MAX_PAIRWISE_OVERLAP=1, MAX_CUMULATIVE_OVERLAP=2\n",
      "WARNING:root:Increasing allowed overlaps: MAX_PAIRWISE_OVERLAP=1, MAX_CUMULATIVE_OVERLAP=3\n",
      "WARNING:root:Increasing allowed overlaps: MAX_PAIRWISE_OVERLAP=1, MAX_CUMULATIVE_OVERLAP=4\n"
     ]
    },
    {
     "name": "stdout",
     "output_type": "stream",
     "text": [
      "========= Stream Nr.  1  =========\n",
      "\n",
      "fuːɡiːryːheːpoːzuːʃiːbyːhoːkuːloːfaːfuːɡiːryːʃiːbyːhoːheːpoːzuːkuːloːfaːʃiːbyːhoːfuːɡiːryːkuːloːfaːheːpoːzuːfuːɡiːryːʃiːbyːhoːkuːloːfaːheːpoːzuːfuːɡiːryːheːpoːzuːkuːloːfaːʃiːbyːhoːheːpoːzuːʃiːbyːhoːfuːɡiːryːkuːloːfaːheːpoːzuːkuːloːfaːfuːɡiːryːʃiːbyːhoːkuːloːfaːfuːɡiːryːheːpoːzuːʃiːbyːhoːfuːɡiːryːkuːloːfaːʃiːbyːhoːheːpoːzuːkuːloːfaːheːpoːzuːfuːɡiːryːʃiːbyːhoːheːpoːzuːfuːɡiːryːkuːloːfaːʃiːbyːhoːfuːɡiːryːkuːloːfaːheːpoːzuːʃiːbyːhoːheːpoːzuːfuːɡiːryːʃiːbyːhoːkuːloːfaːʃiːbyːhoːkuːloːfaːfuːɡiːryːheːpoːzuːʃiːbyːhoːfuːɡiːryːheːpoːzuːkuːloːfaːʃiːbyːhoːheːpoːzuːkuːloːfaːfuːɡiːryːʃiːbyːhoːkuːloːfaːheːpoːzuːfuːɡiːryːheːpoːzuːʃiːbyːhoːkuːloːfaːfuːɡiːryːheːpoːzuːkuːloːfaːʃiːbyːhoːfuːɡiːryːkuːloːfaːfuːɡiːryːʃiːbyːhoːheːpoːzuːkuːloːfaːʃiːbyːhoːfuːɡiːryːheːpoːzuːʃiːbyːhoːheːpoːzuːfuːɡiːryːkuːloːfaːheːpoːzuːʃiːbyːhoːfuːɡiːryːkuːloːfaːheːpoːzuːfuːɡiːryːʃiːbyːhoːkuːloːfaːʃiːbyːhoːkuːloːfaːfuːɡiːryːheːpoːzuːkuːloːfaːheːpoːzuːʃiːbyːhoːfuːɡiːryːkuːloːfaːʃiːbyːhoːheːpoːzuːfuːɡiːryːʃiːbyːhoːheːpoːzuːkuːloːfaːfuːɡiːryːheːpoːzuːʃiːbyːhoːkuːloːfaːfuːɡiːryːʃiːbyːhoːfuːɡiːryːkuːloːfaːheːpoːzuːkuːloːfaːʃiːbyːhoːfuːɡiːryːheːpoːzuːfuːɡiːryːkuːloːfaːheːpoːzuːʃiːbyːhoːkuːloːfaːfuːɡiːryːʃiːbyːhoːheːpoːzuːfuːɡiːryːʃiːbyːhoːheːpoːzuːkuːloːfaːfuːɡiːryːheːpoːzuːʃiːbyːhoːkuːloːfaːheːpoːzuːfuːɡiːryːkuːloːfaːʃiːbyːhoːkuːloːfaːʃiːbyːhoːheːpoːzuːfuːɡiːryːheːpoːzuːkuːloːfaːfuːɡiːryːʃiːbyːhoːkuːloːfaːfuːɡiːryːheːpoːzuːʃiːbyːhoːheːpoːzuːkuːloːfaːʃiːbyːhoːfuːɡiːryːkuːloːfaːheːpoːzuːʃiːbyːhoːfuːɡiːryːkuːloːfaːheːpoːzuːfuːɡiːryːʃiːbyːhoːfuːɡiːryːkuːloːfaːʃiːbyːhoːheːpoːzuːʃiːbyːhoːfuːɡiːryːheːpoːzuːkuːloːfaːfuːɡiːryːʃiːbyːhoːkuːloːfaːheːpoːzuːʃiːbyːhoːkuːloːfaːheːpoːzuːfuːɡiːryːʃiːbyːhoːheːpoːzuːfuːɡiːryːkuːloːfaːfuːɡiːryːheːpoːzuːkuːloːfaːʃiːbyːhoː\n",
      "\n",
      "rhythmicity_indexes: {'phon_1_son': 0.09298245614035087, 'phon_1_back': 0.0, 'phon_1_hi': 0.0, 'phon_1_lab': 0.12280701754385964, 'phon_1_cor': 0.0912280701754386, 'phon_1_cont': 0.0, 'phon_1_lat': 0.0, 'phon_1_nas': 0.0, 'phon_1_voi': 0.14385964912280702, 'phon_2_back': 0.0, 'phon_2_hi': 0.0, 'phon_2_lo': 0.0, 'phon_2_lab': 0.028070175438596492, 'phon_2_tense': 0.0, 'phon_2_long': 0.0}\n",
      "\n",
      "lexicon: fuːɡiːryː|ʃiːbyːhoː|kuːloːfaː|heːpoːzuː (4 elements total)\n",
      "\n",
      "rand_mode: word\n",
      "\n",
      "phoneme_feature_labels: ['syl', 'son', 'cons', 'cont', 'delrel', 'lat', 'nas', 'strid', 'voi', 'sg', 'cg', 'ant', 'cor', 'distr', 'lab', 'hi', 'lo', 'back', 'round', 'tense', 'long']\n",
      "\n",
      "syllable_feature_labels: [['son', 'back', 'hi', 'lab', 'cor', 'cont', 'lat', 'nas', 'voi'], ['back', 'hi', 'lo', 'lab', 'tense', 'long']]\n",
      "\n",
      "phoneme_pattern: cV\n",
      "\n",
      "bigram_pval: 0.05\n",
      "\n",
      "bigrams_count: 887\n",
      "\n",
      "trigram_pval: 0.05\n",
      "\n",
      "trigrams_count: 13030\n",
      "\n",
      "cumulative_overlap: 3\n",
      "\n",
      "max_pairwise_overlap: 1\n",
      "\n",
      "========= Stream Nr.  2  =========\n",
      "\n",
      "heːbyːhoːfuːpoːzuːʃiːɡiːfaːkuːloːryːʃiːbyːryːheːɡiːzuːkuːpoːfaːfuːloːhoːʃiːpoːhoːkuːɡiːryːfuːbyːzuːheːloːfaːheːpoːryːkuːbyːfaːʃiːloːzuːfuːɡiːhoːheːbyːhoːʃiːɡiːryːkuːpoːzuːfuːloːfaːʃiːloːzuːkuːbyːryːfuːɡiːfaːheːpoːhoːkuːloːhoːfuːpoːryːheːɡiːzuːʃiːbyːfaːfuːbyːzuːheːloːryːʃiːpoːfaːkuːɡiːhoːheːbyːhoːfuːɡiːzuːkuːpoːfaːʃiːloːryːkuːɡiːhoːʃiːbyːzuːheːloːfaːfuːpoːryːfuːloːzuːʃiːɡiːfaːkuːbyːryːheːpoːhoːkuːloːhoːheːɡiːryːʃiːpoːzuːfuːbyːfaːheːpoːfaːkuːɡiːzuːfuːbyːhoːʃiːloːryːʃiːɡiːfaːfuːpoːryːheːbyːzuːkuːloːhoːkuːpoːzuːheːɡiːhoːfuːloːfaːʃiːbyːryːfuːɡiːryːkuːbyːfaːheːloːzuːʃiːpoːhoːheːɡiːzuːkuːpoːryːʃiːbyːfaːfuːloːhoːkuːloːfaːheːbyːhoːfuːpoːzuːʃiːɡiːryːkuːbyːzuːheːloːryːfuːɡiːhoːʃiːpoːfaːkuːɡiːfaːʃiːloːzuːfuːbyːryːheːpoːhoːheːloːzuːfuːpoːfaːkuːɡiːhoːʃiːbyːryːheːpoːhoːfuːbyːzuːkuːloːryːʃiːɡiːfaːfuːɡiːzuːʃiːloːfaːheːbyːhoːkuːpoːryːkuːbyːfaːʃiːpoːzuːheːɡiːryːfuːloːhoːheːɡiːryːkuːpoːzuːfuːloːfaːʃiːbyːhoːfuːbyːzuːʃiːpoːryːheːloːhoːkuːɡiːfaːheːbyːfaːfuːpoːhoːʃiːɡiːzuːkuːloːryːfuːɡiːhoːheːpoːfaːkuːbyːryːʃiːloːzuːheːpoːryːfuːloːzuːʃiːbyːfaːkuːɡiːhoːʃiːloːhoːfuːpoːzuːkuːbyːryːheːɡiːfaːheːbyːzuːfuːɡiːryːʃiːpoːhoːkuːloːfaːfuːbyːhoːheːloːryːkuːpoːfaːʃiːɡiːzuːheːɡiːhoːʃiːloːzuːfuːpoːfaːkuːbyːryːʃiːpoːzuːheːloːryːfuːbyːhoːkuːɡiːfaːheːpoːryːkuːloːhoːfuːɡiːzuːʃiːbyːfaːfuːloːfaːʃiːɡiːryːheːbyːzuːkuːpoːhoːheːloːzuːʃiːpoːfaːkuːɡiːhoːfuːbyːryːfuːɡiːfaːʃiːloːryːheːpoːzuːkuːbyːhoːʃiːɡiːzuːheːbyːfaːfuːpoːryːkuːloːhoːkuːpoːhoːheːɡiːryːʃiːbyːzuːfuːloːfaːheːpoːfaːʃiːbyːhoːkuːloːzuːfuːɡiːryːkuːɡiːhoːfuːloːfaːheːbyːryːʃiːpoːzuːkuːpoːryːfuːbyːzuːʃiːloːhoːheːɡiːfaːkuːbyːfaːfuːpoːhoːʃiːɡiːzuːheːloːryːheːpoːhoːfuːɡiːryːʃiːloːfaːkuːbyːzuːʃiːɡiːhoːkuːloːryːheːbyːfaːfuːpoːzuːheːɡiːzuːfuːloːhoːʃiːbyːryːkuːpoːfaːʃiːpoːryːfuːbyːhoːheːloːzuːkuːɡiːfaː\n",
      "\n",
      "rhythmicity_indexes: {'phon_1_son': 0.05087719298245614, 'phon_1_back': 0.02631578947368421, 'phon_1_hi': 0.02631578947368421, 'phon_1_lab': 0.0456140350877193, 'phon_1_cor': 0.05789473684210526, 'phon_1_cont': 0.005263157894736842, 'phon_1_lat': 0.010526315789473684, 'phon_1_nas': 0.0, 'phon_1_voi': 0.10175438596491228, 'phon_2_back': 0.02280701754385965, 'phon_2_hi': 0.02456140350877193, 'phon_2_lo': 0.031578947368421054, 'phon_2_lab': 0.04035087719298246, 'phon_2_tense': 0.0, 'phon_2_long': 0.0}\n",
      "\n",
      "lexicon: fuːɡiːryː|ʃiːbyːhoː|kuːloːfaː|heːpoːzuː (4 elements total)\n",
      "\n",
      "rand_mode: syllable\n",
      "\n",
      "phoneme_feature_labels: ['syl', 'son', 'cons', 'cont', 'delrel', 'lat', 'nas', 'strid', 'voi', 'sg', 'cg', 'ant', 'cor', 'distr', 'lab', 'hi', 'lo', 'back', 'round', 'tense', 'long']\n",
      "\n",
      "syllable_feature_labels: [['son', 'back', 'hi', 'lab', 'cor', 'cont', 'lat', 'nas', 'voi'], ['back', 'hi', 'lo', 'lab', 'tense', 'long']]\n",
      "\n",
      "phoneme_pattern: cV\n",
      "\n",
      "bigram_pval: 0.05\n",
      "\n",
      "bigrams_count: 887\n",
      "\n",
      "trigram_pval: 0.05\n",
      "\n",
      "trigrams_count: 13030\n",
      "\n",
      "cumulative_overlap: 3\n",
      "\n",
      "max_pairwise_overlap: 1\n",
      "\n",
      "========= Stream Nr.  3  =========\n",
      "\n",
      "ʃiːbyːhoːheːpoːzuːkuːloːfaːfuːɡiːryːheːpoːzuːʃiːbyːhoːfuːɡiːryːkuːloːfaːheːpoːzuːfuːɡiːryːʃiːbyːhoːkuːloːfaːfuːɡiːryːheːpoːzuːkuːloːfaːʃiːbyːhoːfuːɡiːryːkuːloːfaːheːpoːzuːʃiːbyːhoːkuːloːfaːʃiːbyːhoːheːpoːzuːfuːɡiːryːʃiːbyːhoːheːpoːzuːfuːɡiːryːkuːloːfaːʃiːbyːhoːfuːɡiːryːheːpoːzuːkuːloːfaːheːpoːzuːʃiːbyːhoːkuːloːfaːfuːɡiːryːʃiːbyːhoːkuːloːfaːheːpoːzuːfuːɡiːryːkuːloːfaːfuːɡiːryːʃiːbyːhoːheːpoːzuːkuːloːfaːʃiːbyːhoːfuːɡiːryːheːpoːzuːfuːɡiːryːheːpoːzuːʃiːbyːhoːkuːloːfaːheːpoːzuːkuːloːfaːʃiːbyːhoːfuːɡiːryːheːpoːzuːfuːɡiːryːkuːloːfaːʃiːbyːhoːkuːloːfaːheːpoːzuːʃiːbyːhoːfuːɡiːryːkuːloːfaːfuːɡiːryːheːpoːzuːʃiːbyːhoːfuːɡiːryːkuːloːfaːʃiːbyːhoːheːpoːzuːfuːɡiːryːʃiːbyːhoːheːpoːzuːkuːloːfaːfuːɡiːryːʃiːbyːhoːkuːloːfaːheːpoːzuːʃiːbyːhoːfuːɡiːryːkuːloːfaːheːpoːzuːʃiːbyːhoːkuːloːfaːfuːɡiːryːheːpoːzuːkuːloːfaːheːpoːzuːfuːɡiːryːʃiːbyːhoːheːpoːzuːkuːloːfaːfuːɡiːryːʃiːbyːhoːheːpoːzuːkuːloːfaːʃiːbyːhoːfuːɡiːryːkuːloːfaːfuːɡiːryːheːpoːzuːʃiːbyːhoːheːpoːzuːfuːɡiːryːʃiːbyːhoːkuːloːfaːʃiːbyːhoːfuːɡiːryːkuːloːfaːheːpoːzuːfuːɡiːryːheːpoːzuːkuːloːfaːʃiːbyːhoːkuːloːfaːfuːɡiːryːʃiːbyːhoːheːpoːzuːʃiːbyːhoːkuːloːfaːheːpoːzuːfuːɡiːryːheːpoːzuːkuːloːfaːfuːɡiːryːʃiːbyːhoːheːpoːzuːʃiːbyːhoːfuːɡiːryːkuːloːfaːfuːɡiːryːʃiːbyːhoːkuːloːfaːheːpoːzuːʃiːbyːhoːheːpoːzuːfuːɡiːryːkuːloːfaːfuːɡiːryːʃiːbyːhoːheːpoːzuːkuːloːfaːheːpoːzuːfuːɡiːryːkuːloːfaːʃiːbyːhoːfuːɡiːryːheːpoːzuːʃiːbyːhoːkuːloːfaːʃiːbyːhoːkuːloːfaːfuːɡiːryːheːpoːzuːkuːloːfaːheːpoːzuːfuːɡiːryːʃiːbyːhoːfuːɡiːryːkuːloːfaːʃiːbyːhoːheːpoːzuːʃiːbyːhoːfuːɡiːryːheːpoːzuːkuːloːfaːʃiːbyːhoːheːpoːzuːkuːloːfaːfuːɡiːryːkuːloːfaːheːpoːzuːʃiːbyːhoːfuːɡiːryːkuːloːfaːʃiːbyːhoːfuːɡiːryːheːpoːzuːkuːloːfaːʃiːbyːhoːheːpoːzuːfuːɡiːryːheːpoːzuːʃiːbyːhoːkuːloːfaːfuːɡiːryːʃiːbyːhoːkuːloːfaːheːpoːzuːfuːɡiːryː\n",
      "\n",
      "rhythmicity_indexes: {'phon_1_son': 0.08596491228070176, 'phon_1_back': 0.0, 'phon_1_hi': 0.0, 'phon_1_lab': 0.12280701754385964, 'phon_1_cor': 0.09824561403508772, 'phon_1_cont': 0.0, 'phon_1_lat': 0.0, 'phon_1_nas': 0.0, 'phon_1_voi': 0.14736842105263157, 'phon_2_back': 0.0, 'phon_2_hi': 0.0, 'phon_2_lo': 0.0, 'phon_2_lab': 0.021052631578947368, 'phon_2_tense': 0.0, 'phon_2_long': 0.0}\n",
      "\n",
      "lexicon: fuːɡiːryː|ʃiːbyːhoː|kuːloːfaː|heːpoːzuː (4 elements total)\n",
      "\n",
      "rand_mode: word\n",
      "\n",
      "phoneme_feature_labels: ['syl', 'son', 'cons', 'cont', 'delrel', 'lat', 'nas', 'strid', 'voi', 'sg', 'cg', 'ant', 'cor', 'distr', 'lab', 'hi', 'lo', 'back', 'round', 'tense', 'long']\n",
      "\n",
      "syllable_feature_labels: [['son', 'back', 'hi', 'lab', 'cor', 'cont', 'lat', 'nas', 'voi'], ['back', 'hi', 'lo', 'lab', 'tense', 'long']]\n",
      "\n",
      "phoneme_pattern: cV\n",
      "\n",
      "bigram_pval: 0.05\n",
      "\n",
      "bigrams_count: 887\n",
      "\n",
      "trigram_pval: 0.05\n",
      "\n",
      "trigrams_count: 13030\n",
      "\n",
      "cumulative_overlap: 3\n",
      "\n",
      "max_pairwise_overlap: 1\n",
      "\n",
      "========= Stream Nr.  4  =========\n",
      "\n",
      "ʃiːpoːzuːheːbyːryːkuːloːfaːfuːɡiːhoːʃiːbyːhoːheːpoːryːfuːloːzuːkuːɡiːfaːʃiːloːryːheːɡiːzuːfuːbyːfaːkuːpoːhoːfuːpoːfaːheːloːhoːkuːbyːzuːʃiːɡiːryːʃiːloːzuːfuːbyːfaːkuːɡiːryːheːpoːhoːfuːɡiːhoːkuːpoːryːʃiːbyːzuːheːloːfaːheːbyːryːfuːpoːzuːkuːloːhoːʃiːɡiːfaːfuːloːryːkuːbyːhoːheːɡiːzuːʃiːpoːfaːʃiːloːhoːkuːbyːzuːheːpoːryːfuːɡiːfaːfuːbyːryːkuːloːfaːheːɡiːhoːʃiːpoːzuːfuːpoːhoːheːloːzuːʃiːbyːfaːkuːɡiːryːheːbyːhoːfuːloːryːʃiːɡiːzuːkuːpoːfaːʃiːloːhoːfuːɡiːzuːkuːpoːfaːheːbyːryːfuːpoːryːʃiːbyːfaːkuːloːzuːheːɡiːhoːkuːbyːhoːʃiːɡiːryːheːpoːzuːfuːloːfaːʃiːpoːhoːheːloːryːkuːɡiːfaːfuːbyːzuːʃiːɡiːryːkuːbyːfaːfuːloːzuːheːpoːhoːʃiːbyːryːheːloːhoːfuːpoːfaːkuːɡiːzuːfuːɡiːhoːkuːpoːryːʃiːloːfaːheːbyːzuːʃiːpoːzuːkuːloːryːfuːbyːhoːheːɡiːfaːʃiːɡiːzuːkuːpoːhoːheːbyːfaːfuːloːryːheːpoːfaːkuːɡiːhoːfuːbyːryːʃiːloːzuːʃiːbyːhoːkuːloːfaːheːɡiːryːfuːpoːzuːheːloːhoːʃiːpoːryːkuːbyːzuːfuːɡiːfaːʃiːɡiːryːheːbyːzuːkuːpoːfaːfuːloːhoːkuːɡiːhoːfuːbyːfaːʃiːloːzuːheːpoːryːfuːpoːhoːheːɡiːzuːʃiːbyːryːkuːloːfaːkuːbyːhoːʃiːpoːzuːfuːɡiːfaːheːloːryːʃiːbyːryːheːloːzuːfuːpoːfaːkuːɡiːhoːʃiːloːfaːfuːbyːhoːheːɡiːryːkuːpoːzuːheːbyːfaːʃiːpoːryːfuːɡiːzuːkuːloːhoːkuːbyːzuːʃiːɡiːfaːheːpoːhoːfuːloːryːʃiːloːzuːkuːɡiːfaːfuːbyːryːheːpoːhoːfuːɡiːzuːheːloːhoːʃiːpoːryːkuːbyːfaːkuːloːfaːʃiːbyːhoːheːɡiːryːfuːpoːzuːfuːloːryːʃiːɡiːhoːkuːpoːfaːheːbyːzuːʃiːloːryːfuːpoːhoːkuːbyːzuːheːɡiːfaːʃiːɡiːryːheːloːzuːkuːpoːfaːfuːbyːhoːheːpoːryːʃiːbyːfaːkuːloːhoːfuːɡiːzuːfuːloːfaːheːbyːryːkuːɡiːhoːʃiːpoːzuːʃiːpoːryːfuːɡiːzuːkuːbyːfaːheːloːhoːfuːloːfaːkuːpoːzuːheːɡiːryːʃiːbyːhoːheːpoːfaːfuːbyːryːkuːloːzuːʃiːɡiːhoːʃiːloːryːheːbyːzuːfuːpoːhoːkuːɡiːfaːʃiːbyːhoːfuːpoːzuːheːloːfaːkuːɡiːryːfuːɡiːfaːheːbyːzuːkuːpoːhoːʃiːloːryːkuːloːzuːfuːbyːfaːʃiːɡiːhoːheːpoːryːʃiːpoːfaːfuːloːhoːkuːbyːryːheːɡiːzuː\n",
      "\n",
      "rhythmicity_indexes: {'phon_1_son': 0.03859649122807018, 'phon_1_back': 0.02982456140350877, 'phon_1_hi': 0.02982456140350877, 'phon_1_lab': 0.056140350877192984, 'phon_1_cor': 0.05087719298245614, 'phon_1_cont': 0.0017543859649122807, 'phon_1_lat': 0.015789473684210527, 'phon_1_nas': 0.0, 'phon_1_voi': 0.11052631578947368, 'phon_2_back': 0.01929824561403509, 'phon_2_hi': 0.02456140350877193, 'phon_2_lo': 0.005263157894736842, 'phon_2_lab': 0.04736842105263158, 'phon_2_tense': 0.0, 'phon_2_long': 0.0}\n",
      "\n",
      "lexicon: fuːɡiːryː|ʃiːbyːhoː|kuːloːfaː|heːpoːzuː (4 elements total)\n",
      "\n",
      "rand_mode: syllable\n",
      "\n",
      "phoneme_feature_labels: ['syl', 'son', 'cons', 'cont', 'delrel', 'lat', 'nas', 'strid', 'voi', 'sg', 'cg', 'ant', 'cor', 'distr', 'lab', 'hi', 'lo', 'back', 'round', 'tense', 'long']\n",
      "\n",
      "syllable_feature_labels: [['son', 'back', 'hi', 'lab', 'cor', 'cont', 'lat', 'nas', 'voi'], ['back', 'hi', 'lo', 'lab', 'tense', 'long']]\n",
      "\n",
      "phoneme_pattern: cV\n",
      "\n",
      "bigram_pval: 0.05\n",
      "\n",
      "bigrams_count: 887\n",
      "\n",
      "trigram_pval: 0.05\n",
      "\n",
      "trigrams_count: 13030\n",
      "\n",
      "cumulative_overlap: 3\n",
      "\n",
      "max_pairwise_overlap: 1\n",
      "\n"
     ]
    }
   ],
   "source": [
    "from arc.tpc.stream import make_compatible_streams\n",
    "streams = make_compatible_streams(words, n_words=4, max_rhythmicity=0.2)\n",
    "\n",
    "for i, stream in enumerate(streams):\n",
    "    print(\"========= Stream Nr. \", i + 1, \" =========\")\n",
    "    \n",
    "    print(\"\")\n",
    "    \n",
    "    print(stream)\n",
    "    \n",
    "    print(\"\")\n",
    "    \n",
    "    for key, val in stream.info.items():\n",
    "        print(f\"{key}: {str(val)}\")\n",
    "        print(\"\")"
   ]
  },
  {
   "cell_type": "code",
   "execution_count": null,
   "id": "a8408e0b",
   "metadata": {},
   "outputs": [],
   "source": []
  },
  {
   "cell_type": "code",
   "execution_count": null,
   "id": "9b1ae373-3aea-4d63-a182-1c7ef684aa87",
   "metadata": {},
   "outputs": [],
   "source": []
  },
  {
   "cell_type": "code",
   "execution_count": null,
   "id": "d576d9a4-34a2-4ddb-8872-2c74b50ec1ea",
   "metadata": {},
   "outputs": [],
   "source": []
  }
 ],
 "metadata": {
  "kernelspec": {
   "display_name": "arc",
   "language": "python",
   "name": "arc"
  },
  "language_info": {
   "codemirror_mode": {
    "name": "ipython",
    "version": 3
   },
   "file_extension": ".py",
   "mimetype": "text/x-python",
   "name": "python",
   "nbconvert_exporter": "python",
   "pygments_lexer": "ipython3",
   "version": "3.9.18"
  }
 },
 "nbformat": 4,
 "nbformat_minor": 5
}
