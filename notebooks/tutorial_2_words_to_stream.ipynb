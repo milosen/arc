{
 "cells": [
  {
   "cell_type": "code",
   "execution_count": null,
   "id": "223cbd42-e4cc-4aeb-9636-cf7f21267d7f",
   "metadata": {},
   "outputs": [],
   "source": [
    "from arc.data import make_lexicon_generator, sample_min_overlap_lexicon, word_overlap_matrix\n",
    "\n",
    "from arc.types import from_json, Word\n",
    "\n",
    "words = from_json(\"words_200_filtered.json\")\n",
    "\n",
    "lexicon_generator_1 = make_lexicon_generator(words, n_words=4, max_overlap=1, max_yields=1000)\n",
    "lexicon_generator_2 = sample_min_overlap_lexicon(words, word_overlap_matrix(words), n_words=4, max_overlap=1, max_yields=1000)\n",
    "\n",
    "for lex, llex in zip(lexicon_generator_1, lexicon_generator_2):\n",
    "    print(lex, lex.info[\"cumulative_overlap\"], llex, llex.info[\"cumulative_overlap\"])"
   ]
  },
  {
   "cell_type": "code",
   "execution_count": null,
   "id": "3b9a8ae9-ae2e-4270-96d0-19da8a2cb9e8",
   "metadata": {},
   "outputs": [],
   "source": []
  }
 ],
 "metadata": {
  "kernelspec": {
   "display_name": "arc",
   "language": "python",
   "name": "arc"
  },
  "language_info": {
   "codemirror_mode": {
    "name": "ipython",
    "version": 3
   },
   "file_extension": ".py",
   "mimetype": "text/x-python",
   "name": "python",
   "nbconvert_exporter": "python",
   "pygments_lexer": "ipython3",
   "version": "3.8.18"
  }
 },
 "nbformat": 4,
 "nbformat_minor": 5
}
