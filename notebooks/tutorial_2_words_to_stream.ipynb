{
 "cells": [
  {
   "cell_type": "code",
   "execution_count": null,
   "id": "223cbd42-e4cc-4aeb-9636-cf7f21267d7f",
   "metadata": {},
   "outputs": [],
   "source": [
    "from arc.data import make_lexicon_generator, sample_min_overlap_lexicon, word_overlap_matrix\n",
    "\n",
    "from arc.types import from_json, Word\n",
    "\n",
    "words = from_json(\"words_200_filtered.json\")\n",
    "\n",
    "lexicon_generator_1 = make_lexicon_generator(words, n_words=4, max_overlap=1, max_yields=1000)\n",
    "lexicon_generator_2 = sample_min_overlap_lexicon(words, word_overlap_matrix(words), n_words=4, max_overlap=1, max_yields=1000)\n",
    "\n",
    "for lex, llex in zip(lexicon_generator_1, lexicon_generator_2):\n",
    "    print(lex, lex.info[\"cumulative_overlap\"], llex, llex.info[\"cumulative_overlap\"])"
   ]
  },
  {
   "cell_type": "markdown",
   "id": "4b0859a1-27fb-4496-b4fd-f87ab45ea567",
   "metadata": {},
   "source": [
    "# Tutorial 2\n",
    "\n",
    "We will load the words and generate a Lexicon with minimal feature overlap between the words. Then, we will follow up with the 2 main ways we can generate random streams, the `Word`-based and the `Syllable`-based stream generation.\n",
    "\n",
    "First, we load the words from tutorial 1."
   ]
  },
  {
   "cell_type": "code",
   "execution_count": 3,
   "id": "0c75e7ba-dc5a-4e87-923a-c9423d498d20",
   "metadata": {},
   "outputs": [
    {
     "name": "stdout",
     "output_type": "stream",
     "text": [
      "beːhoːzuː|biːʃøːheː|buːsaːhøː|byːseːhiː|bøːseːhuː|deːfaːhiː|deːhoːfaː|deːhoːfiː|doːhuːfaː|faːhoːtuː|... (100 elements total)\n"
     ]
    }
   ],
   "source": [
    "from arc import load_words\n",
    "\n",
    "words = load_words(\"arc_results/arc_Words.json\")\n",
    "print(words)"
   ]
  },
  {
   "cell_type": "markdown",
   "id": "06413261-d35b-4c93-b6da-ff39cc51805b",
   "metadata": {},
   "source": [
    "Great, now we generate minimum-overlap lexicons with 4 words each. By default, the generator will yield 10 `Lexicon`s max. Let's generate 20 and print some info."
   ]
  },
  {
   "cell_type": "code",
   "execution_count": 9,
   "id": "6491055a-9398-44dc-8b61-b457bf928f15",
   "metadata": {},
   "outputs": [
    {
     "data": {
      "application/vnd.jupyter.widget-view+json": {
       "model_id": "31011b1e794a4c0fbcdf2d233375a4b4",
       "version_major": 2,
       "version_minor": 0
      },
      "text/plain": [
       "Output()"
      ]
     },
     "metadata": {},
     "output_type": "display_data"
    },
    {
     "data": {
      "text/html": [
       "<pre style=\"white-space:pre;overflow-x:auto;line-height:normal;font-family:Menlo,'DejaVu Sans Mono',consolas,'Courier New',monospace\"></pre>\n"
      ],
      "text/plain": []
     },
     "metadata": {},
     "output_type": "display_data"
    },
    {
     "data": {
      "text/html": [
       "<pre style=\"white-space:pre;overflow-x:auto;line-height:normal;font-family:Menlo,'DejaVu Sans Mono',consolas,'Courier New',monospace\">\n",
       "</pre>\n"
      ],
      "text/plain": [
       "\n"
      ]
     },
     "metadata": {},
     "output_type": "display_data"
    },
    {
     "name": "stderr",
     "output_type": "stream",
     "text": [
      "WARNING:root:Increasing allowed overlaps: MAX_PAIRWISE_OVERLAP=1, MAX_CUM_OVERLAP=1\n",
      "WARNING:root:Increasing allowed overlaps: MAX_PAIRWISE_OVERLAP=1, MAX_CUM_OVERLAP=2\n",
      "WARNING:root:Increasing allowed overlaps: MAX_PAIRWISE_OVERLAP=1, MAX_CUM_OVERLAP=3\n",
      "WARNING:root:Increasing allowed overlaps: MAX_PAIRWISE_OVERLAP=1, MAX_CUM_OVERLAP=4\n",
      "WARNING:root:Increasing allowed overlaps: MAX_PAIRWISE_OVERLAP=1, MAX_CUM_OVERLAP=5\n"
     ]
    },
    {
     "name": "stdout",
     "output_type": "stream",
     "text": [
      "heːvaːdoːtiːhuːfyːzyːbeːhoːfoːniːkuːɡaːsiːmɛː {'cumulative_overlap': 5.0}\n",
      "heːvaːdoːdeːhoːfiːfaːkoːreːfoːniːkaːʃiːpeːhuː {'cumulative_overlap': 5.0}\n",
      "beːhoːzuːbiːʃøːheːhuːfiːtɛːluːɡaːfyːʃaːmuːkɛː {'cumulative_overlap': 5.0}\n",
      "heːvaːdoːdeːhoːfiːfaːkoːreːfoːriːkɛːʃiːpeːhuː {'cumulative_overlap': 5.0}\n",
      "beːhoːzuːbiːʃøːheːhuːfiːdoːluːɡaːfyːʃaːbyːhiː {'cumulative_overlap': 5.0}\n",
      "beːhoːzuːheːvaːdoːbyːseːhiːtoːfyːhøːɡiːroːfaː {'cumulative_overlap': 5.0}\n",
      "deːhoːfaːhuːfiːtyːkaːsuːmyːfoːniːkuːfuːɡaːroː {'cumulative_overlap': 5.0}\n",
      "huːfiːtyːfaːnyːkoːzyːbeːhoːluːɡaːfyːɡiːʃoːmyː {'cumulative_overlap': 5.0}\n",
      "deːhoːfaːhøːtoːfiːfoːriːkɛːfuːɡaːnɛːʃiːpeːhuː {'cumulative_overlap': 5.0}\n",
      "heːvaːdoːhøːtoːfiːfaːnyːkoːtyːhoːfuːʃiːpeːhuː {'cumulative_overlap': 5.0}\n",
      "beːhoːzuːheːvaːdoːbyːseːhiːtoːfyːhøːɡiːroːfaː {'cumulative_overlap': 5.0}\n",
      "heːvaːdoːdeːhoːfiːfaːkoːreːtoːfyːhøːfuːniːkaː {'cumulative_overlap': 5.0}\n",
      "beːhoːzuːheːvaːdoːbyːseːhiːtoːfyːhøːɡiːroːfaː {'cumulative_overlap': 5.0}\n",
      "deːhoːfaːhøːtoːfiːfoːriːkɛːfuːɡaːnɛːʃiːpeːhuː {'cumulative_overlap': 5.0}\n",
      "heːvaːdoːdeːhoːfiːfaːkoːreːtoːfyːhøːfoːniːkuː {'cumulative_overlap': 5.0}\n",
      "ʃoːpeːhiːheːvaːdoːfaːkoːreːtiːhuːfyːfoːniːkaː {'cumulative_overlap': 5.0}\n",
      "deːhoːfaːhøːtoːfiːfoːtyːhiːmeːɡiːʃøːʃiːpeːhuː {'cumulative_overlap': 5.0}\n",
      "ʃoːpeːhiːhuːfiːdoːtyːhoːfuːfaːɡiːloːfoːniːkuː {'cumulative_overlap': 5.0}\n",
      "deːfaːhiːhuːfiːdoːtyːhoːfuːfoːniːkaːɡaːsuːmyː {'cumulative_overlap': 5.0}\n",
      "beːhoːzuːbiːʃøːheːhuːfiːtyːluːɡaːfyːʃaːmuːkɛː {'cumulative_overlap': 5.0}\n"
     ]
    }
   ],
   "source": [
    "from arc.data import make_lexicon_generator\n",
    "\n",
    "lexicon_generator = make_lexicon_generator(words, n_words=5, max_yields=20)\n",
    "\n",
    "for lex in lexicon_generator:\n",
    "    print(lex, lex.info)"
   ]
  },
  {
   "cell_type": "code",
   "execution_count": null,
   "id": "0994a9a6-9991-4089-bb50-cdf8dd8c01e1",
   "metadata": {},
   "outputs": [],
   "source": []
  }
 ],
 "metadata": {
  "kernelspec": {
   "display_name": "arc",
   "language": "python",
   "name": "arc"
  },
  "language_info": {
   "codemirror_mode": {
    "name": "ipython",
    "version": 3
   },
   "file_extension": ".py",
   "mimetype": "text/x-python",
   "name": "python",
   "nbconvert_exporter": "python",
   "pygments_lexer": "ipython3",
   "version": "3.9.1"
  }
 },
 "nbformat": 4,
 "nbformat_minor": 5
}
