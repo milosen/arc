{
 "cells": [
  {
   "cell_type": "code",
   "execution_count": null,
   "id": "de8ef3fd-6fe6-46ed-9211-6b3b8c76b7e3",
   "metadata": {},
   "outputs": [],
   "source": []
  },
  {
   "cell_type": "code",
   "execution_count": null,
   "id": "b38768ae-6d3a-43cd-943f-394683b7962b",
   "metadata": {},
   "outputs": [],
   "source": [
    "from arc.io import read_phonemes\n",
    "phonemes = read_phonemes(\"../resources/phonemes.json\")"
   ]
  },
  {
   "cell_type": "code",
   "execution_count": null,
   "id": "74aa8911-4c55-4c92-a774-0d48a6126d5b",
   "metadata": {},
   "outputs": [],
   "source": [
    "print(phonemes, phonemes[0].get_feature(\"lab\"))"
   ]
  },
  {
   "cell_type": "code",
   "execution_count": null,
   "id": "5a857502-e57a-4aa9-9577-cbf8f3d52ce0",
   "metadata": {},
   "outputs": [],
   "source": [
    "from arc.data import make_feature_syllables\n",
    "syllables = make_feature_syllables(phonemes, phoneme_pattern=\"cV\")\n",
    "print(syllables)"
   ]
  },
  {
   "cell_type": "code",
   "execution_count": null,
   "id": "4afce11c-8228-4ca6-b89f-14ecd0ef564d",
   "metadata": {},
   "outputs": [],
   "source": [
    "from arc.filter import filter_with_corpus\n",
    "syllables = filter_with_corpus(syllables, \"../resources/example_corpus/syll.txt\")\n",
    "print(syllables)"
   ]
  },
  {
   "cell_type": "code",
   "execution_count": null,
   "id": "05f67b45-848d-4228-af5b-00934297b558",
   "metadata": {},
   "outputs": [],
   "source": [
    "from arc.filter import filter_uniform_syllables\n",
    "syllables = filter_uniform_syllables(syllables)\n",
    "print(syllables)"
   ]
  },
  {
   "cell_type": "code",
   "execution_count": null,
   "id": "cc3de342-d19a-4eaa-9216-f00648eeb61a",
   "metadata": {},
   "outputs": [],
   "source": [
    "from arc.filter import filter_common_phoneme_syllables\n",
    "syllables = filter_common_phoneme_syllables(syllables, '../resources/example_corpus/german_IPA_seg.csv')\n",
    "print(syllables)"
   ]
  },
  {
   "cell_type": "code",
   "execution_count": null,
   "id": "7837841d-8d86-4e6e-9e86-7a7497480444",
   "metadata": {},
   "outputs": [],
   "source": [
    "from arc.io import export_speech_synthesiser\n",
    "export_speech_synthesiser(syllables)"
   ]
  },
  {
   "cell_type": "code",
   "execution_count": null,
   "id": "4e32d88d-c32c-47a8-91f9-373c6b0b6020",
   "metadata": {},
   "outputs": [],
   "source": [
    "from arc.data import make_words\n",
    "words = make_words(syllables)\n",
    "print(words)"
   ]
  },
  {
   "cell_type": "code",
   "execution_count": null,
   "id": "0ef31c38-be5e-408a-8ebd-d6876f30f0f9",
   "metadata": {},
   "outputs": [],
   "source": [
    "import random\n",
    "\n",
    "random.choice(words)"
   ]
  },
  {
   "cell_type": "code",
   "execution_count": null,
   "id": "b8a8bd19-72e3-4a7d-b3d9-e85b49e12795",
   "metadata": {},
   "outputs": [],
   "source": [
    "from arc.filter import filter_common_onset_words\n",
    "words = filter_common_onset_words(words, '../resources/example_corpus/german_IPA_seg.csv')\n",
    "print(words)"
   ]
  },
  {
   "cell_type": "code",
   "execution_count": null,
   "id": "5546f1ec-89b7-4275-9f3c-22681daa0fe1",
   "metadata": {},
   "outputs": [],
   "source": [
    "from arc.filter import filter_gram_stats\n",
    "words = filter_gram_stats(words, \n",
    "                          bigrams='../resources/example_corpus/ipa_bigrams_german.csv', \n",
    "                          trigrams='../resources/example_corpus/ipa_trigrams_german.csv')"
   ]
  },
  {
   "cell_type": "code",
   "execution_count": null,
   "id": "d22a7d3f-6722-4d31-8a58-f961c7183392",
   "metadata": {},
   "outputs": [],
   "source": [
    "print(words)"
   ]
  },
  {
   "cell_type": "code",
   "execution_count": null,
   "id": "a430f124-cb84-42b4-82b7-29e7cd112bc9",
   "metadata": {},
   "outputs": [],
   "source": [
    "words = words.sample(100)\n",
    "print(words)"
   ]
  },
  {
   "cell_type": "code",
   "execution_count": null,
   "id": "8275c803-2730-4976-ac80-ecaa80e6b676",
   "metadata": {},
   "outputs": [],
   "source": []
  }
 ],
 "metadata": {
  "kernelspec": {
   "display_name": "arc",
   "language": "python",
   "name": "arc"
  },
  "language_info": {
   "codemirror_mode": {
    "name": "ipython",
    "version": 3
   },
   "file_extension": ".py",
   "mimetype": "text/x-python",
   "name": "python",
   "nbconvert_exporter": "python",
   "pygments_lexer": "ipython3",
   "version": "3.9.1"
  }
 },
 "nbformat": 4,
 "nbformat_minor": 5
}
