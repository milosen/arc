{
 "cells": [
  {
   "cell_type": "markdown",
   "id": "4b0859a1-27fb-4496-b4fd-f87ab45ea567",
   "metadata": {},
   "source": [
    "# Controlled Stream Generation\n",
    "\n",
    "We will generate words and a Lexicon with minimal feature overlap between the words. Next, we introduce the 3 main ways to generate random streams, depending on how the transition probabilities (TPs) of their syllables are structured: word-structured TPs, fully random (uniform) TPs, and position-controlled TPs. Finally, we compare the Streams generated with controlled Lexicons (ours) against random baseline Streams and Streams generated based on reference lexicons from the literature. We compare the Streams based on the repetitiveness of the syllable features.\n",
    "\n",
    "First, we generate/reload the words register (see arc types tutorial).\n",
    "\n",
    "## Syllable and Word Generation"
   ]
  },
  {
   "cell_type": "code",
   "execution_count": 2,
   "id": "0c75e7ba-dc5a-4e87-923a-c9423d498d20",
   "metadata": {},
   "outputs": [
    {
     "name": "stdout",
     "output_type": "stream",
     "text": [
      "Load phonemes...\n",
      "k͡p|ɡ͡b|c|ɡ|k|q|ɖ|ɟ|ɠ|ɢ|... (5275 elements total)\n",
      "Make syllables...\n",
      "ɡaː|ɡiː|ɡyː|ɡɛː|kaː|koː|kuː|køː|kɛː|baː|... (76 elements total)\n",
      "Make words...\n"
     ]
    },
    {
     "name": "stderr",
     "output_type": "stream",
     "text": [
      "100%|█████████▉| 9987/10000 [00:12<00:00, 206.56it/s] "
     ]
    },
    {
     "name": "stdout",
     "output_type": "stream",
     "text": [
      "bigram control...\n",
      "trigram control...\n",
      "positional control...\n"
     ]
    },
    {
     "name": "stderr",
     "output_type": "stream",
     "text": [
      "100%|██████████| 10000/10000 [00:22<00:00, 454.49it/s]\n"
     ]
    },
    {
     "name": "stdout",
     "output_type": "stream",
     "text": [
      "loːkuːfiː|nyːfaːkuː|huːfiːtyː|moːzuːɡaː|tɛːheːfoː|raːkɛːfiː|nuːkoːfaː|kaːfuːnɛː|hiːtoːfyː|kuːnɛːfoː|... (1839 elements total)\n",
      "Save words ...\n"
     ]
    }
   ],
   "source": [
    "from arc import load_phonemes, make_syllables, make_words\n",
    "import numpy as np \n",
    "import random\n",
    "\n",
    "np.random.seed(100)\n",
    "random.seed(100)\n",
    "\n",
    "print(\"Load phonemes...\")\n",
    "phonemes = load_phonemes()\n",
    "print(phonemes)\n",
    "\n",
    "print(\"Make syllables...\")\n",
    "syllables = make_syllables(phonemes, phoneme_pattern=\"cV\", unigram_control=True, language_alpha=0.05)\n",
    "print(syllables)\n",
    "\n",
    "print(\"Make words...\")\n",
    "words = make_words(syllables, n_words=10_000, max_tries=100_000)\n",
    "print(words)\n",
    "\n",
    "print(\"Save words ...\")\n",
    "words.save(\"words.json\")"
   ]
  },
  {
   "cell_type": "code",
   "execution_count": 4,
   "id": "9b1cfc2f",
   "metadata": {},
   "outputs": [
    {
     "name": "stdout",
     "output_type": "stream",
     "text": [
      "[True, True, True, True]\n"
     ]
    }
   ],
   "source": [
    "best_lexicon = [\"heːdoːfaː\", \"riːfoːɡyː\", \"ʃuːhiːboː\", \"vaːkuːniː\"]\n",
    "np.random.seed(6923)\n",
    "random.seed(6923)\n",
    "print([word in words for word in best_lexicon])"
   ]
  },
  {
   "cell_type": "code",
   "execution_count": 8,
   "id": "c87b6ef9",
   "metadata": {},
   "outputs": [
    {
     "name": "stdout",
     "output_type": "stream",
     "text": [
      "[True, False, False, False]\n"
     ]
    }
   ],
   "source": [
    "import itertools\n",
    "\n",
    "best_lexicon = [\"heːdoːfaː\", \"riːfoːɡyː\", \"ʃuːhiːboː\", \"vaːkuːniː\"]\n",
    "\n",
    "np.random.seed(6923)\n",
    "random.seed(6923)\n",
    "subset_words = words.get_subset(200)\n",
    "is_in = [word in subset_words for word in best_lexicon]\n",
    "print(is_in)"
   ]
  },
  {
   "cell_type": "markdown",
   "id": "06413261-d35b-4c93-b6da-ff39cc51805b",
   "metadata": {},
   "source": [
    "## Lexicon Generation\n",
    "\n",
    "Now we generate lexica with minimal feature repetitiveness. Let's start with 4 words each. \n",
    "\n",
    "By default, the function will generate 5 `Lexicon`s max. Let's generate 2 and print some info."
   ]
  },
  {
   "cell_type": "code",
   "execution_count": 5,
   "id": "6491055a-9398-44dc-8b61-b457bf928f15",
   "metadata": {},
   "outputs": [
    {
     "name": "stderr",
     "output_type": "stream",
     "text": [
      "WARNING:root:Increasing allowed overlaps: MAX_PAIRWISE_OVERLAP=1, MAX_CUMULATIVE_OVERLAP=1\n",
      "WARNING:root:Increasing allowed overlaps: MAX_PAIRWISE_OVERLAP=1, MAX_CUMULATIVE_OVERLAP=2\n"
     ]
    },
    {
     "name": "stdout",
     "output_type": "stream",
     "text": [
      "\n",
      "Lexicon: toːheːfaː|roːfyːɡiː|muːkaːzyː|fiːdeːhøː\n",
      "cumulative_feature_repetitiveness: 2\n",
      "max_pairwise_feature_repetitiveness: 1\n",
      "\n",
      "Lexicon: hiːdoːvaː|biːhuːzyː|koːfuːnɛː|tɛːheːfiː\n",
      "cumulative_feature_repetitiveness: 2\n",
      "max_pairwise_feature_repetitiveness: 1\n",
      "\n"
     ]
    }
   ],
   "source": [
    "from arc import make_lexicons, load_words\n",
    "\n",
    "words = load_words(\"words.json\")\n",
    "\n",
    "lexicons = make_lexicons(words, n_lexicons=2, n_words=4, control_features=True)\n",
    "print(\"\")\n",
    "\n",
    "for lexicon in lexicons:\n",
    "    print(\"Lexicon:\", lexicon)\n",
    "    print(\"cumulative_feature_repetitiveness:\", lexicon.info[\"cumulative_feature_repetitiveness\"])\n",
    "    print(\"max_pairwise_feature_repetitiveness:\", lexicon.info[\"max_pairwise_feature_repetitiveness\"])\n",
    "    print(\"\")"
   ]
  },
  {
   "cell_type": "markdown",
   "id": "9a0c5caf",
   "metadata": {},
   "source": [
    "By default, Lexicons with the minimum possible cumulative feature repetitiveness will be generated first, starting at zero. This means words will be joined into a lexicon if the features of all word pairs in the lexicon have no overlap. If it is not possible to generate the requested number Lexicons with zero overlap, the allowed overlap will be incremented untill all lexicons are collected, which will be indicated by a warning message.\n",
    "\n",
    "This process will be repeated, until any of the following statements is true\n",
    "- the requested number of Lexicons has been generated\n",
    "- the maximum allowed overlap is reached (set via `max_overlap`)\n",
    "- the set of all word combinations is exhausted\n",
    "\n",
    "If one or more Lexicons is returned, their info fields hold the cumulative overlap between all word pairs that is achieved by the Lexicon as well as the maximum pairwise overlap used."
   ]
  },
  {
   "cell_type": "markdown",
   "id": "9186f7db",
   "metadata": {},
   "source": [
    "## Stream Generation\n",
    "\n",
    "We want to generate a complete set of compatible lexicons for our study, i.e. to generate a compatible set of streams for testing statistical learning hypotheses. If `streams` is empty, try increasing the allowed maximum rythmicity.\n",
    "\n",
    "As you can see, the `.info` field holds some useful information about the generated stream, i.e. which Lexicon has been used to generate it, the rythmicity indexes achieved for each feature, and which randomization/TP-structure mode has been used.\n",
    "\n",
    "The function `make_streams` will try to generate one stream for each lexicon and TP mode, and will discard those that do not meet the max_rhythmicity requirement. By default, all streams from a lexicon will be discarded if the lexicon can't generate streams for all requested TP modes."
   ]
  },
  {
   "cell_type": "code",
   "execution_count": 6,
   "id": "21ea9483-fdad-470c-9caf-abff48b46a57",
   "metadata": {},
   "outputs": [],
   "source": [
    "def print_stream_info(stream):\n",
    "    print(\"Stream:\", \"|\".join([syll.id for syll in stream]))\n",
    "    print(\"TP mode:\", stream.info[\"stream_tp_mode\"])\n",
    "    print(\"Lexicon:\", stream.info[\"lexicon\"])\n",
    "    print(\"Feature PRIs:\", stream.info[\"rhythmicity_indexes\"])\n",
    "    print(\"\")\n"
   ]
  },
  {
   "cell_type": "code",
   "execution_count": 7,
   "id": "82199da6",
   "metadata": {},
   "outputs": [
    {
     "name": "stderr",
     "output_type": "stream",
     "text": [
      "WARNING:root:Increasing allowed overlaps: MAX_PAIRWISE_OVERLAP=1, MAX_CUMULATIVE_OVERLAP=1\n",
      "WARNING:root:Increasing allowed overlaps: MAX_PAIRWISE_OVERLAP=1, MAX_CUMULATIVE_OVERLAP=2\n"
     ]
    },
    {
     "name": "stdout",
     "output_type": "stream",
     "text": [
      "\n",
      "Stream: høː|hoː|deː|nøː|heː|ɡiː|zuː|paː|boː|zyː|vaː|foː|heː|foː|zuː|boː|høː|vaː|ɡiː|zyː|nøː|deː|hoː|paː|vaː|boː|heː|hoː|ɡiː|høː|foː|deː|zyː|paː|nøː|zuː|høː|zuː|hoː|zyː|deː|foː|boː|nøː|paː|ɡiː|vaː|heː|deː|heː|høː|nøː|boː|vaː|paː|zuː|zyː|foː|ɡiː|hoː|zuː|foː|nøː|hoː|høː|boː|ɡiː|paː|deː|vaː|zyː|heː|zuː|heː|nøː|høː|zyː|ɡiː|foː|hoː|vaː|deː|boː|paː|heː|vaː|zuː|nøː|foː|zyː|hoː|boː|deː|paː|høː|ɡiː|heː|paː|hoː|foː|høː|deː|ɡiː|nøː|zyː|boː|zuː|vaː|nøː|ɡiː|boː|hoː|heː|zyː|zuː|deː|høː|paː|foː|vaː|høː|heː|boː|foː|paː|zyː|vaː|hoː|nøː|deː|zuː|ɡiː|deː|nøː|vaː|zyː|høː|foː|heː|ɡiː|zuː|boː|paː|hoː|vaː|deː|foː|zyː|hoː|paː|zuː|ɡiː|høː|boː|nøː|heː|paː|vaː|boː|hoː|zyː|zuː|høː|deː|heː|nøː|foː|ɡiː|zyː|boː|foː|vaː|zuː|hoː|heː|høː|nøː|ɡiː|deː|paː|zyː|ɡiː|nøː|vaː|paː|høː|hoː|zuː|deː|boː|heː|foː|zuː|vaː|ɡiː|foː|nøː|boː|høː|zyː|paː|heː|hoː|deː|ɡiː|vaː|høː|paː|boː|zuː|nøː|zyː|heː|deː|hoː|foː|boː|ɡiː|hoː|nøː|høː|zuː|zyː|foː|paː|deː|vaː|heː|zuː|foː|høː|ɡiː|heː|vaː|hoː|boː|deː|zyː|nøː|paː|foː|deː|zuː|paː|ɡiː|boː|vaː|nøː|hoː|høː|heː|zyː|høː|vaː|foː|hoː|ɡiː|paː|nøː|zuː|heː|boː|zyː|deː|høː|paː|ɡiː|heː|foː|nøː|zuː|deː|hoː|vaː|boː|zyː|paː|hoː|høː|heː|zyː|ɡiː|deː|zuː|vaː|foː|boː|nøː|ɡiː|paː|boː|deː|høː|foː|zyː|nøː|hoː|zuː|heː|vaː|heː|zuː|nøː|vaː|paː|deː|foː|høː|ɡiː|hoː|zyː|boː|paː|foː|zuː|ɡiː|vaː|zyː|deː|boː|heː|nøː|høː|hoː|boː|hoː|heː|ɡiː|foː|paː|nøː|deː|zyː|vaː|zuː|høː|boː|vaː|nøː|paː|heː|høː|zuː|zyː|foː|hoː|deː|ɡiː|zyː|hoː|ɡiː|høː|nøː|boː|foː|vaː|deː|heː|paː|zuː|paː|zyː|høː|vaː|ɡiː|boː|zuː|hoː|foː|heː|deː|nøː|zyː|zuː|foː|ɡiː|nøː|heː|boː|høː|deː|vaː|hoː|paː|høː|zyː|heː|hoː|nøː|foː|deː|paː|vaː|zuː|boː|ɡiː|zuː|ɡiː|vaː|høː|foː|hoː|nøː|heː|zyː|boː|deː|paː|foː|paː|zuː|zyː|vaː|hoː|ɡiː|heː|høː|deː|boː|nøː|foː|zuː|deː|nøː|ɡiː|zyː|hoː|høː|boː|heː|vaː|paː|vaː|foː|deː|høː|heː|zuː|paː|hoː|zyː|nøː|boː|ɡiː|foː|ɡiː|boː|paː|zyː|zuː|heː|deː|vaː|høː|nøː|hoː|deː|zuː|vaː|zyː|høː|hoː|boː|foː|nøː|paː|heː|ɡiː|hoː|paː|høː|ɡiː|nøː|vaː|heː|boː|zuː|foː|zyː|deː|ɡiː|paː|boː|zyː|foː|heː|nøː|høː|zuː|hoː|vaː|deː|heː|hoː|foː|boː|vaː|nøː|zuː|høː|paː|deː|zyː|ɡiː|høː|zyː|heː|paː|ɡiː|deː|foː|vaː|boː|hoː|zuː|nøː|zyː|paː|nøː|deː|hoː|heː|foː|høː|vaː|ɡiː|zuː|boː|høː|deː|zyː|vaː|nøː|hoː|zuː|ɡiː|foː|boː|heː|paː|vaː|boː|høː|nøː|foː|zyː|deː|hoː|heː|ɡiː|zuː|paː|zuː|deː|høː|paː|heː|hoː|boː|foː|ɡiː|zyː|nøː|vaː|heː|boː|zyː|hoː|ɡiː|høː|vaː|paː|foː|nøː|deː|zuː\n",
      "TP mode: random\n",
      "Lexicon: høːdeːfoː|zuːhoːpaː|heːboːzyː|vaːɡiːnøː\n",
      "Feature PRIs: {'phon_1_son': 0.05964912280701754, 'phon_1_back': 0.005263157894736842, 'phon_1_hi': 0.005263157894736842, 'phon_1_lab': 0.07368421052631578, 'phon_1_cor': 0.0824561403508772, 'phon_1_cont': 0.015789473684210527, 'phon_1_lat': 0.0, 'phon_1_nas': 0.005263157894736842, 'phon_1_voi': 0.043859649122807015, 'phon_2_back': 0.07192982456140351, 'phon_2_hi': 0.05964912280701754, 'phon_2_lo': 0.02982456140350877, 'phon_2_lab': 0.056140350877192984, 'phon_2_tense': 0.0, 'phon_2_long': 0.0}\n",
      "\n",
      "Stream: høː|deː|foː|vaː|ɡiː|nøː|heː|boː|zyː|zuː|hoː|paː|høː|deː|foː|zuː|hoː|paː|heː|boː|zyː|vaː|ɡiː|nøː|zuː|hoː|paː|vaː|ɡiː|nøː|høː|deː|foː|heː|boː|zyː|høː|deː|foː|zuː|hoː|paː|vaː|ɡiː|nøː|heː|boː|zyː|zuː|hoː|paː|heː|boː|zyː|vaː|ɡiː|nøː|høː|deː|foː|vaː|ɡiː|nøː|zuː|hoː|paː|høː|deː|foː|heː|boː|zyː|zuː|hoː|paː|vaː|ɡiː|nøː|heː|boː|zyː|høː|deː|foː|heː|boː|zyː|vaː|ɡiː|nøː|zuː|hoː|paː|høː|deː|foː|zuː|hoː|paː|heː|boː|zyː|høː|deː|foː|vaː|ɡiː|nøː|høː|deː|foː|vaː|ɡiː|nøː|zuː|hoː|paː|heː|boː|zyː|vaː|ɡiː|nøː|heː|boː|zyː|høː|deː|foː|zuː|hoː|paː|vaː|ɡiː|nøː|høː|deː|foː|heː|boː|zyː|zuː|hoː|paː|heː|boː|zyː|høː|deː|foː|zuː|hoː|paː|vaː|ɡiː|nøː|heː|boː|zyː|zuː|hoː|paː|høː|deː|foː|vaː|ɡiː|nøː|zuː|hoː|paː|høː|deː|foː|heː|boː|zyː|vaː|ɡiː|nøː|heː|boː|zyː|høː|deː|foː|vaː|ɡiː|nøː|zuː|hoː|paː|vaː|ɡiː|nøː|høː|deː|foː|zuː|hoː|paː|heː|boː|zyː|høː|deː|foː|heː|boː|zyː|zuː|hoː|paː|vaː|ɡiː|nøː|høː|deː|foː|heː|boː|zyː|vaː|ɡiː|nøː|zuː|hoː|paː|heː|boː|zyː|vaː|ɡiː|nøː|høː|deː|foː|zuː|hoː|paː|vaː|ɡiː|nøː|zuː|hoː|paː|heː|boː|zyː|høː|deː|foː|zuː|hoː|paː|høː|deː|foː|vaː|ɡiː|nøː|heː|boː|zyː|vaː|ɡiː|nøː|heː|boː|zyː|zuː|hoː|paː|høː|deː|foː|heː|boː|zyː|zuː|hoː|paː|vaː|ɡiː|nøː|høː|deː|foː|heː|boː|zyː|vaː|ɡiː|nøː|høː|deː|foː|zuː|hoː|paː|høː|deː|foː|vaː|ɡiː|nøː|heː|boː|zyː|zuː|hoː|paː|høː|deː|foː|vaː|ɡiː|nøː|zuː|hoː|paː|heː|boː|zyː|vaː|ɡiː|nøː|heː|boː|zyː|zuː|hoː|paː|høː|deː|foː|zuː|hoː|paː|vaː|ɡiː|nøː|høː|deː|foː|heː|boː|zyː|vaː|ɡiː|nøː|høː|deː|foː|zuː|hoː|paː|heː|boː|zyː|høː|deː|foː|heː|boː|zyː|zuː|hoː|paː|vaː|ɡiː|nøː|zuː|hoː|paː|heː|boː|zyː|høː|deː|foː|vaː|ɡiː|nøː|heː|boː|zyː|høː|deː|foː|vaː|ɡiː|nøː|zuː|hoː|paː|heː|boː|zyː|zuː|hoː|paː|vaː|ɡiː|nøː|høː|deː|foː|heː|boː|zyː|vaː|ɡiː|nøː|zuː|hoː|paː|høː|deː|foː|vaː|ɡiː|nøː|heː|boː|zyː|høː|deː|foː|zuː|hoː|paː|vaː|ɡiː|nøː|høː|deː|foː|heː|boː|zyː|zuː|hoː|paː|høː|deː|foː|zuː|hoː|paː|heː|boː|zyː|vaː|ɡiː|nøː|zuː|hoː|paː|høː|deː|foː|vaː|ɡiː|nøː|heː|boː|zyː|høː|deː|foː|heː|boː|zyː|vaː|ɡiː|nøː|zuː|hoː|paː|heː|boː|zyː|zuː|hoː|paː|høː|deː|foː|vaː|ɡiː|nøː|høː|deː|foː|zuː|hoː|paː|vaː|ɡiː|nøː|heː|boː|zyː|zuː|hoː|paː|heː|boː|zyː|vaː|ɡiː|nøː|høː|deː|foː|zuː|hoː|paː|vaː|ɡiː|nøː|heː|boː|zyː|høː|deː|foː|vaː|ɡiː|nøː|zuː|hoː|paː|høː|deː|foː|heː|boː|zyː|zuː|hoː|paː|høː|deː|foː|heː|boː|zyː|vaː|ɡiː|nøː|heː|boː|zyː|høː|deː|foː|zuː|hoː|paː|vaː|ɡiː|nøː|høː|deː|foː|vaː|ɡiː|nøː|zuː|hoː|paː|heː|boː|zyː\n",
      "TP mode: word_structured\n",
      "Lexicon: høːdeːfoː|zuːhoːpaː|heːboːzyː|vaːɡiːnøː\n",
      "Feature PRIs: {'phon_1_son': 0.0912280701754386, 'phon_1_back': 0.0, 'phon_1_hi': 0.0, 'phon_1_lab': 0.09473684210526316, 'phon_1_cor': 0.1, 'phon_1_cont': 0.02456140350877193, 'phon_1_lat': 0.0, 'phon_1_nas': 0.0, 'phon_1_voi': 0.008771929824561403, 'phon_2_back': 0.0, 'phon_2_hi': 0.0, 'phon_2_lo': 0.0, 'phon_2_lab': 0.0, 'phon_2_tense': 0.0, 'phon_2_long': 0.0}\n",
      "\n",
      "Stream: vaː|hoː|foː|zuː|deː|paː|høː|boː|zyː|heː|ɡiː|nøː|heː|hoː|nøː|høː|ɡiː|zyː|zuː|boː|paː|vaː|deː|foː|vaː|boː|nøː|zuː|ɡiː|foː|heː|deː|zyː|høː|hoː|paː|heː|boː|foː|høː|deː|nøː|vaː|ɡiː|paː|zuː|hoː|zyː|vaː|hoː|foː|zuː|boː|zyː|høː|ɡiː|paː|heː|deː|nøː|heː|boː|foː|vaː|ɡiː|nøː|zuː|hoː|paː|høː|deː|zyː|zuː|deː|paː|vaː|boː|nøː|høː|hoː|zyː|heː|ɡiː|foː|høː|boː|paː|zuː|ɡiː|zyː|vaː|deː|foː|heː|hoː|nøː|vaː|boː|zyː|heː|hoː|foː|zuː|deː|paː|høː|ɡiː|nøː|høː|boː|paː|zuː|hoː|nøː|vaː|deː|foː|heː|ɡiː|zyː|zuː|ɡiː|paː|heː|boː|foː|vaː|hoː|zyː|høː|deː|nøː|zuː|boː|nøː|heː|deː|zyː|vaː|ɡiː|foː|høː|hoː|paː|vaː|boː|foː|zuː|hoː|zyː|heː|deː|paː|høː|ɡiː|nøː|zuː|deː|foː|vaː|hoː|nøː|heː|ɡiː|zyː|høː|boː|paː|zuː|boː|zyː|vaː|ɡiː|paː|heː|hoː|foː|høː|deː|nøː|vaː|deː|zyː|zuː|ɡiː|foː|heː|boː|nøː|høː|hoː|paː|vaː|hoː|paː|høː|boː|nøː|heː|ɡiː|foː|zuː|deː|zyː|høː|hoː|nøː|zuː|boː|paː|vaː|ɡiː|zyː|heː|deː|foː|vaː|boː|foː|heː|hoː|zyː|zuː|ɡiː|nøː|høː|deː|paː|zuː|hoː|foː|høː|ɡiː|paː|heː|boː|zyː|vaː|deː|nøː|vaː|ɡiː|zyː|heː|deː|paː|høː|hoː|foː|zuː|boː|nøː|høː|deː|zyː|vaː|boː|foː|heː|hoː|nøː|zuː|ɡiː|paː|zuː|hoː|paː|vaː|deː|nøː|heː|boː|zyː|høː|ɡiː|foː|høː|boː|paː|heː|ɡiː|nøː|vaː|hoː|zyː|zuː|deː|foː|vaː|deː|paː|zuː|hoː|nøː|heː|boː|zyː|høː|ɡiː|foː|vaː|ɡiː|nøː|zuː|deː|zyː|heː|hoː|foː|høː|boː|paː|høː|hoː|zyː|vaː|boː|foː|zuː|ɡiː|paː|heː|deː|nøː|høː|deː|foː|heː|ɡiː|zyː|zuː|boː|nøː|vaː|hoː|paː|vaː|hoː|paː|zuː|deː|foː|heː|boː|nøː|høː|ɡiː|zyː|høː|hoː|nøː|heː|deː|paː|vaː|ɡiː|foː|zuː|boː|zyː|zuː|hoː|foː|høː|deː|zyː|heː|ɡiː|nøː|vaː|boː|paː|høː|boː|foː|vaː|deː|nøː|zuː|ɡiː|paː|heː|hoː|zyː|vaː|ɡiː|paː|heː|boː|foː|zuː|deː|zyː|høː|hoː|nøː|zuː|hoː|paː|vaː|boː|nøː|høː|deː|foː|heː|ɡiː|zyː|vaː|deː|nøː|heː|hoː|zyː|zuː|ɡiː|foː|høː|boː|paː|zuː|boː|zyː|heː|deː|paː|høː|ɡiː|nøː|vaː|hoː|foː|vaː|boː|paː|heː|ɡiː|zyː|zuː|deː|foː|høː|hoː|nøː|heː|boː|foː|vaː|ɡiː|nøː|høː|deː|paː|zuː|hoː|zyː|heː|deː|zyː|høː|boː|nøː|zuː|ɡiː|paː|vaː|hoː|foː|heː|hoː|paː|høː|ɡiː|foː|zuː|boː|zyː|vaː|deː|nøː|vaː|boː|paː|høː|deː|zyː|zuː|ɡiː|foː|heː|hoː|nøː|vaː|hoː|paː|heː|boː|zyː|høː|ɡiː|nøː|zuː|deː|foː|høː|hoː|foː|zuː|boː|nøː|heː|ɡiː|zyː|vaː|deː|paː|zuː|hoː|zyː|heː|deː|nøː|høː|boː|foː|vaː|ɡiː|paː|vaː|boː|paː|zuː|ɡiː|zyː|heː|hoː|nøː|høː|deː|foː|vaː|ɡiː|paː|heː|deː|zyː|zuː|hoː|foː|høː|boː|nøː|zuː|boː|foː|heː|ɡiː|nøː|vaː|deː|paː|høː|hoː|zyː|høː|ɡiː|foː|zuː|deː|nøː|heː|boː|zyː|vaː|hoː|paː\n",
      "TP mode: position_controlled\n",
      "Lexicon: høːdeːfoː|zuːhoːpaː|heːboːzyː|vaːɡiːnøː\n",
      "Feature PRIs: {'phon_1_son': 0.056140350877192984, 'phon_1_back': 0.010526315789473684, 'phon_1_hi': 0.010526315789473684, 'phon_1_lab': 0.042105263157894736, 'phon_1_cor': 0.054385964912280704, 'phon_1_cont': 0.08596491228070176, 'phon_1_lat': 0.0, 'phon_1_nas': 0.010526315789473684, 'phon_1_voi': 0.014035087719298246, 'phon_2_back': 0.012280701754385965, 'phon_2_hi': 0.005263157894736842, 'phon_2_lo': 0.015789473684210527, 'phon_2_lab': 0.008771929824561403, 'phon_2_tense': 0.0, 'phon_2_long': 0.0}\n",
      "\n",
      "Stream: hoː|fyː|nuː|foː|huː|tuː|poː|ɡaː|vaː|heː|toː|ʃaː|tuː|ʃaː|hoː|huː|foː|poː|nuː|heː|ɡaː|fyː|vaː|toː|vaː|tuː|heː|ʃaː|nuː|fyː|ɡaː|hoː|foː|toː|poː|huː|heː|tuː|hoː|poː|foː|fyː|huː|nuː|vaː|ʃaː|toː|ɡaː|nuː|ɡaː|ʃaː|vaː|poː|toː|fyː|hoː|tuː|foː|heː|huː|ɡaː|huː|poː|hoː|ʃaː|heː|nuː|tuː|fyː|toː|foː|vaː|huː|fyː|foː|tuː|vaː|nuː|ʃaː|ɡaː|poː|heː|hoː|toː|hoː|heː|foː|ɡaː|toː|huː|vaː|fyː|ʃaː|poː|tuː|nuː|toː|nuː|hoː|vaː|ɡaː|heː|fyː|poː|ʃaː|foː|huː|tuː|ɡaː|foː|nuː|huː|ʃaː|fyː|tuː|toː|heː|poː|vaː|hoː|nuː|poː|fyː|heː|vaː|foː|ʃaː|huː|toː|tuː|hoː|ɡaː|tuː|huː|hoː|toː|nuː|vaː|fyː|heː|poː|foː|ʃaː|ɡaː|hoː|fyː|huː|vaː|nuː|tuː|toː|heː|ɡaː|poː|ʃaː|foː|hoː|tuː|poː|nuː|toː|ʃaː|huː|fyː|vaː|ɡaː|foː|heː|foː|hoː|nuː|fyː|poː|huː|heː|vaː|toː|ɡaː|tuː|ʃaː|toː|vaː|tuː|fyː|ɡaː|huː|ʃaː|hoː|poː|heː|nuː|foː|nuː|ɡaː|vaː|huː|foː|fyː|hoː|ʃaː|tuː|heː|toː|poː|vaː|heː|hoː|foː|poː|toː|tuː|huː|ɡaː|ʃaː|fyː|nuː|poː|tuː|ɡaː|nuː|huː|hoː|vaː|foː|toː|fyː|ʃaː|heː|ʃaː|nuː|heː|huː|toː|foː|tuː|vaː|poː|hoː|ɡaː|fyː|foː|ɡaː|toː|huː|poː|fyː|tuː|nuː|ʃaː|vaː|hoː|heː|fyː|toː|hoː|huː|nuː|tuː|foː|vaː|ʃaː|poː|ɡaː|heː|tuː|heː|huː|toː|fyː|nuː|hoː|poː|vaː|ɡaː|foː|ʃaː|toː|ʃaː|ɡaː|heː|hoː|huː|poː|fyː|foː|nuː|vaː|tuː|ɡaː|tuː|nuː|ʃaː|huː|vaː|heː|foː|toː|poː|hoː|fyː|ʃaː|heː|tuː|hoː|toː|vaː|nuː|huː|ɡaː|fyː|poː|foː|vaː|fyː|huː|foː|tuː|poː|ɡaː|ʃaː|hoː|heː|nuː|toː|huː|heː|vaː|toː|tuː|foː|fyː|ɡaː|nuː|hoː|ʃaː|poː|toː|heː|fyː|tuː|vaː|hoː|ɡaː|poː|nuː|foː|huː|ʃaː|nuː|fyː|heː|ʃaː|foː|ɡaː|vaː|poː|huː|tuː|toː|hoː|nuː|ɡaː|huː|hoː|tuː|fyː|toː|foː|heː|poː|ʃaː|vaː|foː|hoː|vaː|huː|nuː|poː|heː|toː|ɡaː|ʃaː|fyː|tuː|huː|fyː|hoː|foː|poː|tuː|ʃaː|heː|ɡaː|toː|nuː|vaː|ʃaː|tuː|toː|fyː|vaː|nuː|heː|huː|foː|ɡaː|hoː|poː|vaː|heː|ʃaː|poː|foː|fyː|nuː|toː|tuː|ɡaː|huː|hoː|tuː|ʃaː|nuː|poː|ɡaː|foː|vaː|hoː|toː|heː|fyː|huː|fyː|vaː|ʃaː|hoː|nuː|heː|tuː|foː|huː|ɡaː|toː|poː|huː|heː|nuː|foː|poː|toː|vaː|ɡaː|fyː|hoː|ʃaː|tuː|poː|hoː|ɡaː|nuː|huː|ʃaː|toː|foː|heː|vaː|tuː|fyː|heː|hoː|foː|nuː|fyː|ʃaː|ɡaː|vaː|toː|huː|poː|tuː|hoː|heː|foː|ʃaː|vaː|poː|fyː|toː|ɡaː|tuː|huː|nuː|ɡaː|hoː|vaː|fyː|foː|tuː|heː|poː|nuː|ʃaː|huː|toː|hoː|fyː|poː|heː|ɡaː|huː|tuː|nuː|vaː|foː|toː|ʃaː|foː|hoː|huː|vaː|tuː|heː|toː|nuː|ɡaː|poː|ʃaː|fyː|ɡaː|heː|hoː|nuː|tuː|vaː|huː|ʃaː|foː|poː|toː|fyː|toː|vaː|heː|fyː|ɡaː|hoː|tuː|ʃaː|poː|foː|huː|nuː|hoː|fyː|heː|toː|foː|tuː|vaː|ɡaː|ʃaː|nuː|poː|huː|fyː|vaː|foː|ʃaː|tuː|toː|poː|nuː|hoː|huː|heː|ɡaː\n",
      "TP mode: random\n",
      "Lexicon: vaːtoːhuː|heːpoːʃaː|nuːɡaːfoː|fyːhoːtuː\n",
      "Feature PRIs: {'phon_1_son': 0.08596491228070176, 'phon_1_back': 0.005263157894736842, 'phon_1_hi': 0.005263157894736842, 'phon_1_lab': 0.07719298245614035, 'phon_1_cor': 0.07894736842105263, 'phon_1_cont': 0.021052631578947368, 'phon_1_lat': 0.0, 'phon_1_nas': 0.0, 'phon_1_voi': 0.07894736842105263, 'phon_2_back': 0.0, 'phon_2_hi': 0.06315789473684211, 'phon_2_lo': 0.07017543859649122, 'phon_2_lab': 0.06315789473684211, 'phon_2_tense': 0.0, 'phon_2_long': 0.0}\n",
      "\n",
      "Stream: heː|poː|ʃaː|nuː|ɡaː|foː|fyː|hoː|tuː|vaː|toː|huː|fyː|hoː|tuː|nuː|ɡaː|foː|heː|poː|ʃaː|vaː|toː|huː|nuː|ɡaː|foː|vaː|toː|huː|heː|poː|ʃaː|fyː|hoː|tuː|heː|poː|ʃaː|nuː|ɡaː|foː|vaː|toː|huː|fyː|hoː|tuː|vaː|toː|huː|nuː|ɡaː|foː|fyː|hoː|tuː|heː|poː|ʃaː|vaː|toː|huː|heː|poː|ʃaː|fyː|hoː|tuː|nuː|ɡaː|foː|fyː|hoː|tuː|vaː|toː|huː|heː|poː|ʃaː|nuː|ɡaː|foː|vaː|toː|huː|fyː|hoː|tuː|nuː|ɡaː|foː|heː|poː|ʃaː|vaː|toː|huː|nuː|ɡaː|foː|heː|poː|ʃaː|fyː|hoː|tuː|vaː|toː|huː|fyː|hoː|tuː|heː|poː|ʃaː|nuː|ɡaː|foː|fyː|hoː|tuː|heː|poː|ʃaː|vaː|toː|huː|nuː|ɡaː|foː|heː|poː|ʃaː|fyː|hoː|tuː|nuː|ɡaː|foː|vaː|toː|huː|heː|poː|ʃaː|fyː|hoː|tuː|vaː|toː|huː|nuː|ɡaː|foː|fyː|hoː|tuː|nuː|ɡaː|foː|vaː|toː|huː|heː|poː|ʃaː|nuː|ɡaː|foː|heː|poː|ʃaː|vaː|toː|huː|fyː|hoː|tuː|nuː|ɡaː|foː|heː|poː|ʃaː|fyː|hoː|tuː|vaː|toː|huː|nuː|ɡaː|foː|fyː|hoː|tuː|heː|poː|ʃaː|vaː|toː|huː|fyː|hoː|tuː|heː|poː|ʃaː|nuː|ɡaː|foː|vaː|toː|huː|fyː|hoː|tuː|vaː|toː|huː|nuː|ɡaː|foː|heː|poː|ʃaː|vaː|toː|huː|heː|poː|ʃaː|nuː|ɡaː|foː|fyː|hoː|tuː|heː|poː|ʃaː|vaː|toː|huː|fyː|hoː|tuː|nuː|ɡaː|foː|heː|poː|ʃaː|vaː|toː|huː|nuː|ɡaː|foː|fyː|hoː|tuː|nuː|ɡaː|foː|fyː|hoː|tuː|vaː|toː|huː|heː|poː|ʃaː|nuː|ɡaː|foː|vaː|toː|huː|fyː|hoː|tuː|heː|poː|ʃaː|nuː|ɡaː|foː|heː|poː|ʃaː|fyː|hoː|tuː|vaː|toː|huː|nuː|ɡaː|foː|vaː|toː|huː|heː|poː|ʃaː|fyː|hoː|tuː|heː|poː|ʃaː|fyː|hoː|tuː|nuː|ɡaː|foː|vaː|toː|huː|heː|poː|ʃaː|vaː|toː|huː|nuː|ɡaː|foː|fyː|hoː|tuː|vaː|toː|huː|fyː|hoː|tuː|nuː|ɡaː|foː|heː|poː|ʃaː|fyː|hoː|tuː|heː|poː|ʃaː|nuː|ɡaː|foː|vaː|toː|huː|fyː|hoː|tuː|nuː|ɡaː|foː|heː|poː|ʃaː|vaː|toː|huː|nuː|ɡaː|foː|fyː|hoː|tuː|vaː|toː|huː|heː|poː|ʃaː|vaː|toː|huː|nuː|ɡaː|foː|heː|poː|ʃaː|fyː|hoː|tuː|heː|poː|ʃaː|nuː|ɡaː|foː|vaː|toː|huː|fyː|hoː|tuː|vaː|toː|huː|heː|poː|ʃaː|nuː|ɡaː|foː|fyː|hoː|tuː|heː|poː|ʃaː|nuː|ɡaː|foː|fyː|hoː|tuː|vaː|toː|huː|heː|poː|ʃaː|vaː|toː|huː|fyː|hoː|tuː|nuː|ɡaː|foː|vaː|toː|huː|heː|poː|ʃaː|fyː|hoː|tuː|nuː|ɡaː|foː|fyː|hoː|tuː|vaː|toː|huː|nuː|ɡaː|foː|heː|poː|ʃaː|nuː|ɡaː|foː|heː|poː|ʃaː|vaː|toː|huː|fyː|hoː|tuː|nuː|ɡaː|foː|vaː|toː|huː|fyː|hoː|tuː|heː|poː|ʃaː|vaː|toː|huː|nuː|ɡaː|foː|fyː|hoː|tuː|heː|poː|ʃaː|fyː|hoː|tuː|nuː|ɡaː|foː|vaː|toː|huː|heː|poː|ʃaː|fyː|hoː|tuː|vaː|toː|huː|heː|poː|ʃaː|nuː|ɡaː|foː|vaː|toː|huː|fyː|hoː|tuː|heː|poː|ʃaː|nuː|ɡaː|foː|fyː|hoː|tuː|heː|poː|ʃaː|vaː|toː|huː|nuː|ɡaː|foː|heː|poː|ʃaː|fyː|hoː|tuː|vaː|toː|huː|nuː|ɡaː|foː|vaː|toː|huː|heː|poː|ʃaː|fyː|hoː|tuː|nuː|ɡaː|foː\n",
      "TP mode: word_structured\n",
      "Lexicon: vaːtoːhuː|heːpoːʃaː|nuːɡaːfoː|fyːhoːtuː\n",
      "Feature PRIs: {'phon_1_son': 0.09298245614035087, 'phon_1_back': 0.0, 'phon_1_hi': 0.0, 'phon_1_lab': 0.09649122807017543, 'phon_1_cor': 0.09824561403508772, 'phon_1_cont': 0.0, 'phon_1_lat': 0.0, 'phon_1_nas': 0.0, 'phon_1_voi': 0.028070175438596492, 'phon_2_back': 0.0, 'phon_2_hi': 0.042105263157894736, 'phon_2_lo': 0.0, 'phon_2_lab': 0.042105263157894736, 'phon_2_tense': 0.0, 'phon_2_long': 0.0}\n",
      "\n",
      "Stream: nuː|hoː|huː|fyː|ɡaː|tuː|heː|toː|foː|vaː|poː|ʃaː|vaː|ɡaː|huː|nuː|toː|tuː|fyː|poː|foː|heː|hoː|ʃaː|nuː|poː|huː|vaː|toː|ʃaː|heː|ɡaː|foː|fyː|hoː|tuː|nuː|ɡaː|ʃaː|fyː|toː|huː|heː|poː|tuː|vaː|hoː|foː|nuː|poː|ʃaː|vaː|hoː|tuː|fyː|ɡaː|huː|heː|toː|foː|heː|poː|tuː|vaː|ɡaː|ʃaː|fyː|hoː|foː|nuː|toː|huː|fyː|poː|huː|nuː|hoː|ʃaː|heː|ɡaː|foː|vaː|toː|tuː|nuː|ɡaː|tuː|heː|hoː|huː|vaː|poː|foː|fyː|toː|ʃaː|nuː|toː|tuː|vaː|poː|ʃaː|heː|ɡaː|foː|fyː|hoː|huː|heː|hoː|ʃaː|vaː|toː|huː|nuː|ɡaː|tuː|fyː|poː|foː|nuː|poː|tuː|heː|toː|ʃaː|fyː|ɡaː|huː|vaː|hoː|foː|heː|poː|huː|fyː|toː|foː|vaː|ɡaː|ʃaː|nuː|hoː|tuː|nuː|ɡaː|ʃaː|heː|hoː|foː|vaː|toː|huː|fyː|poː|tuː|vaː|hoː|tuː|nuː|poː|foː|heː|toː|ʃaː|fyː|ɡaː|huː|nuː|toː|tuː|heː|ɡaː|foː|fyː|hoː|ʃaː|vaː|poː|huː|heː|poː|ʃaː|nuː|hoː|huː|vaː|ɡaː|tuː|fyː|toː|foː|nuː|toː|foː|heː|poː|ʃaː|vaː|ɡaː|tuː|fyː|hoː|huː|fyː|poː|huː|heː|hoː|tuː|nuː|ɡaː|foː|vaː|toː|ʃaː|heː|toː|tuː|vaː|hoː|ʃaː|fyː|ɡaː|huː|nuː|poː|foː|nuː|hoː|foː|fyː|toː|huː|vaː|poː|tuː|heː|ɡaː|ʃaː|nuː|toː|tuː|fyː|hoː|huː|vaː|ɡaː|ʃaː|heː|poː|foː|heː|hoː|foː|nuː|ɡaː|huː|fyː|poː|tuː|vaː|toː|ʃaː|vaː|hoː|tuː|heː|toː|huː|nuː|poː|ʃaː|fyː|ɡaː|foː|fyː|toː|foː|vaː|poː|huː|heː|ɡaː|tuː|nuː|hoː|ʃaː|nuː|hoː|foː|heː|poː|tuː|vaː|toː|ʃaː|fyː|ɡaː|huː|vaː|ɡaː|foː|fyː|toː|huː|nuː|poː|ʃaː|heː|hoː|tuː|fyː|poː|foː|nuː|toː|tuː|heː|ɡaː|ʃaː|vaː|hoː|huː|heː|toː|foː|vaː|poː|huː|fyː|hoː|ʃaː|nuː|ɡaː|tuː|nuː|toː|ʃaː|fyː|poː|foː|heː|hoː|tuː|vaː|ɡaː|huː|fyː|hoː|huː|vaː|poː|tuː|nuː|ɡaː|ʃaː|heː|toː|foː|vaː|hoː|ʃaː|nuː|poː|huː|heː|ɡaː|foː|fyː|toː|tuː|fyː|ɡaː|tuː|heː|poː|ʃaː|vaː|toː|huː|nuː|hoː|foː|nuː|toː|foː|vaː|poː|tuː|fyː|ɡaː|ʃaː|heː|hoː|huː|heː|toː|huː|nuː|poː|ʃaː|fyː|hoː|tuː|vaː|ɡaː|foː|nuː|hoː|ʃaː|vaː|toː|tuː|heː|ɡaː|huː|fyː|poː|foː|heː|poː|huː|vaː|hoː|foː|fyː|toː|ʃaː|nuː|ɡaː|tuː|nuː|poː|tuː|fyː|toː|ʃaː|heː|ɡaː|foː|vaː|hoː|huː|heː|toː|tuː|vaː|poː|huː|fyː|ɡaː|ʃaː|nuː|hoː|foː|heː|poː|ʃaː|vaː|toː|foː|fyː|hoː|tuː|nuː|ɡaː|huː|nuː|toː|huː|vaː|ɡaː|tuː|heː|hoː|ʃaː|fyː|poː|foː|nuː|toː|ʃaː|fyː|ɡaː|huː|vaː|poː|tuː|heː|hoː|foː|heː|toː|huː|nuː|hoː|tuː|fyː|poː|foː|vaː|ɡaː|ʃaː|vaː|toː|foː|nuː|poː|huː|fyː|hoː|ʃaː|heː|ɡaː|tuː|nuː|ɡaː|foː|fyː|toː|tuː|vaː|hoː|huː|heː|poː|ʃaː|nuː|ɡaː|huː|heː|hoː|foː|vaː|toː|tuː|fyː|poː|ʃaː|vaː|hoː|huː|nuː|poː|foː|fyː|ɡaː|tuː|heː|toː|ʃaː|fyː|toː|huː|vaː|poː|tuː|nuː|hoː|ʃaː|heː|ɡaː|foː|heː|poː|huː|fyː|hoː|tuː|vaː|ɡaː|ʃaː|nuː|toː|foː\n",
      "TP mode: position_controlled\n",
      "Lexicon: vaːtoːhuː|heːpoːʃaː|nuːɡaːfoː|fyːhoːtuː\n",
      "Feature PRIs: {'phon_1_son': 0.05087719298245614, 'phon_1_back': 0.010526315789473684, 'phon_1_hi': 0.010526315789473684, 'phon_1_lab': 0.06491228070175438, 'phon_1_cor': 0.056140350877192984, 'phon_1_cont': 0.008771929824561403, 'phon_1_lat': 0.0, 'phon_1_nas': 0.03684210526315789, 'phon_1_voi': 0.08421052631578947, 'phon_2_back': 0.0, 'phon_2_hi': 0.07719298245614035, 'phon_2_lo': 0.0035087719298245615, 'phon_2_lab': 0.07719298245614035, 'phon_2_tense': 0.0, 'phon_2_long': 0.0}\n",
      "\n",
      "Stream: fuː|toː|ʃeː|heː|nɛː|roː|ɡiː|koː|buː|fiː|faː|hiː|roː|ʃeː|ɡiː|nɛː|fuː|koː|faː|buː|toː|hiː|heː|fiː|ʃeː|fiː|heː|koː|ɡiː|fuː|buː|hiː|nɛː|toː|roː|faː|koː|fiː|buː|faː|nɛː|ʃeː|roː|fuː|hiː|ɡiː|heː|toː|heː|ʃeː|nɛː|hiː|toː|fuː|fiː|ɡiː|faː|roː|buː|koː|fuː|faː|heː|buː|roː|fiː|nɛː|koː|toː|ɡiː|hiː|ʃeː|toː|koː|roː|heː|ɡiː|buː|ʃeː|fuː|nɛː|fiː|hiː|faː|ʃeː|faː|ɡiː|toː|fiː|koː|hiː|buː|heː|fuː|roː|nɛː|buː|nɛː|ɡiː|fiː|toː|faː|fuː|ʃeː|hiː|koː|heː|roː|koː|ʃeː|buː|ɡiː|roː|hiː|fiː|fuː|heː|faː|toː|nɛː|heː|hiː|fuː|ɡiː|ʃeː|koː|nɛː|faː|fiː|roː|toː|buː|fuː|koː|roː|hiː|fiː|toː|faː|buː|ʃeː|nɛː|ɡiː|heː|toː|nɛː|fiː|buː|heː|fuː|ʃeː|roː|ɡiː|koː|hiː|faː|heː|ɡiː|fuː|toː|buː|fiː|roː|faː|ʃeː|hiː|koː|nɛː|ʃeː|fiː|koː|buː|nɛː|roː|toː|heː|hiː|ɡiː|faː|fuː|nɛː|fuː|ɡiː|ʃeː|buː|toː|fiː|heː|faː|hiː|roː|koː|faː|nɛː|buː|roː|ʃeː|toː|koː|ɡiː|fiː|fuː|hiː|heː|buː|fuː|roː|heː|fiː|ɡiː|nɛː|koː|ʃeː|faː|toː|hiː|buː|hiː|nɛː|faː|ɡiː|toː|roː|fuː|heː|ʃeː|koː|fiː|hiː|ʃeː|fuː|fiː|faː|roː|nɛː|heː|koː|toː|ɡiː|buː|ɡiː|roː|buː|koː|fuː|faː|fiː|nɛː|hiː|toː|ʃeː|heː|roː|fiː|ʃeː|ɡiː|hiː|fuː|buː|faː|koː|heː|nɛː|toː|fuː|buː|ɡiː|heː|toː|faː|hiː|koː|fiː|nɛː|roː|ʃeː|fuː|heː|hiː|ʃeː|fiː|ɡiː|faː|toː|roː|koː|buː|nɛː|ʃeː|ɡiː|toː|buː|roː|fiː|hiː|nɛː|faː|koː|heː|fuː|ɡiː|fiː|heː|nɛː|hiː|buː|toː|ʃeː|koː|faː|fuː|roː|heː|buː|ʃeː|roː|toː|ɡiː|fuː|koː|hiː|fiː|faː|nɛː|fiː|buː|faː|ɡiː|roː|nɛː|koː|fuː|hiː|heː|ʃeː|toː|nɛː|heː|fiː|fuː|toː|koː|roː|ɡiː|ʃeː|faː|buː|hiː|toː|fiː|roː|hiː|faː|heː|ɡiː|nɛː|fuː|ʃeː|buː|koː|ʃeː|hiː|ɡiː|buː|fuː|faː|fiː|koː|nɛː|toː|heː|roː|fuː|fiː|ʃeː|nɛː|ɡiː|koː|toː|hiː|roː|buː|heː|faː|roː|faː|ʃeː|heː|koː|ɡiː|hiː|fuː|nɛː|buː|fiː|toː|fuː|ʃeː|buː|koː|roː|heː|faː|toː|fiː|nɛː|hiː|ɡiː|heː|nɛː|fuː|roː|toː|buː|ɡiː|koː|hiː|faː|ʃeː|fiː|koː|ɡiː|toː|ʃeː|roː|buː|hiː|nɛː|heː|fiː|faː|fuː|koː|toː|nɛː|fiː|fuː|heː|ʃeː|faː|ɡiː|roː|hiː|buː|faː|nɛː|ʃeː|hiː|roː|koː|buː|heː|fuː|ɡiː|fiː|toː|heː|ɡiː|faː|fiː|buː|roː|nɛː|koː|fuː|toː|hiː|ʃeː|fuː|buː|fiː|heː|toː|roː|ʃeː|ɡiː|hiː|koː|nɛː|faː|hiː|heː|koː|faː|roː|fiː|ɡiː|ʃeː|toː|fuː|nɛː|buː|toː|koː|heː|roː|faː|buː|nɛː|ɡiː|fuː|hiː|fiː|ʃeː|nɛː|roː|ɡiː|buː|fuː|fiː|hiː|toː|faː|koː|ʃeː|heː|buː|ʃeː|koː|fiː|roː|fuː|faː|heː|hiː|toː|ɡiː|nɛː|toː|buː|hiː|fuː|fiː|roː|heː|koː|nɛː|ʃeː|faː|ɡiː|roː|fuː|toː|ɡiː|hiː|nɛː|fiː|ʃeː|buː|heː|faː|koː|ʃeː|fiː|toː|faː|nɛː|roː|koː|hiː|heː|buː|fuː|ɡiː|fuː|buː|ʃeː|nɛː|koː|faː|roː|toː|fiː|ɡiː|heː|hiː\n",
      "TP mode: random\n",
      "Lexicon: nɛːfaːkoː|ʃeːhiːbuː|heːtoːfiː|fuːɡiːroː\n",
      "Feature PRIs: {'phon_1_son': 0.09298245614035087, 'phon_1_back': 0.0456140350877193, 'phon_1_hi': 0.0456140350877193, 'phon_1_lab': 0.08421052631578947, 'phon_1_cor': 0.09824561403508772, 'phon_1_cont': 0.01929824561403509, 'phon_1_lat': 0.0, 'phon_1_nas': 0.0, 'phon_1_voi': 0.09649122807017543, 'phon_2_back': 0.054385964912280704, 'phon_2_hi': 0.05964912280701754, 'phon_2_lo': 0.0, 'phon_2_lab': 0.03859649122807018, 'phon_2_tense': 0.0, 'phon_2_long': 0.0}\n",
      "\n",
      "Stream: heː|toː|fiː|nɛː|faː|koː|fuː|ɡiː|roː|ʃeː|hiː|buː|fuː|ɡiː|roː|nɛː|faː|koː|heː|toː|fiː|ʃeː|hiː|buː|nɛː|faː|koː|ʃeː|hiː|buː|heː|toː|fiː|fuː|ɡiː|roː|ʃeː|hiː|buː|heː|toː|fiː|nɛː|faː|koː|fuː|ɡiː|roː|nɛː|faː|koː|ʃeː|hiː|buː|fuː|ɡiː|roː|heː|toː|fiː|ʃeː|hiː|buː|nɛː|faː|koː|heː|toː|fiː|fuː|ɡiː|roː|heː|toː|fiː|ʃeː|hiː|buː|fuː|ɡiː|roː|nɛː|faː|koː|fuː|ɡiː|roː|heː|toː|fiː|nɛː|faː|koː|ʃeː|hiː|buː|heː|toː|fiː|fuː|ɡiː|roː|ʃeː|hiː|buː|nɛː|faː|koː|ʃeː|hiː|buː|fuː|ɡiː|roː|heː|toː|fiː|nɛː|faː|koː|fuː|ɡiː|roː|ʃeː|hiː|buː|nɛː|faː|koː|heː|toː|fiː|ʃeː|hiː|buː|heː|toː|fiː|fuː|ɡiː|roː|nɛː|faː|koː|heː|toː|fiː|fuː|ɡiː|roː|nɛː|faː|koː|ʃeː|hiː|buː|fuː|ɡiː|roː|ʃeː|hiː|buː|heː|toː|fiː|nɛː|faː|koː|fuː|ɡiː|roː|heː|toː|fiː|ʃeː|hiː|buː|nɛː|faː|koː|heː|toː|fiː|ʃeː|hiː|buː|nɛː|faː|koː|fuː|ɡiː|roː|nɛː|faː|koː|heː|toː|fiː|fuː|ɡiː|roː|ʃeː|hiː|buː|heː|toː|fiː|nɛː|faː|koː|ʃeː|hiː|buː|fuː|ɡiː|roː|nɛː|faː|koː|heː|toː|fiː|ʃeː|hiː|buː|fuː|ɡiː|roː|ʃeː|hiː|buː|nɛː|faː|koː|fuː|ɡiː|roː|heː|toː|fiː|fuː|ɡiː|roː|nɛː|faː|koː|ʃeː|hiː|buː|heː|toː|fiː|nɛː|faː|koː|fuː|ɡiː|roː|ʃeː|hiː|buː|heː|toː|fiː|ʃeː|hiː|buː|fuː|ɡiː|roː|nɛː|faː|koː|heː|toː|fiː|nɛː|faː|koː|fuː|ɡiː|roː|heː|toː|fiː|ʃeː|hiː|buː|nɛː|faː|koː|ʃeː|hiː|buː|heː|toː|fiː|fuː|ɡiː|roː|heː|toː|fiː|nɛː|faː|koː|ʃeː|hiː|buː|fuː|ɡiː|roː|ʃeː|hiː|buː|nɛː|faː|koː|heː|toː|fiː|fuː|ɡiː|roː|nɛː|faː|koː|heː|toː|fiː|ʃeː|hiː|buː|fuː|ɡiː|roː|ʃeː|hiː|buː|heː|toː|fiː|nɛː|faː|koː|fuː|ɡiː|roː|ʃeː|hiː|buː|heː|toː|fiː|fuː|ɡiː|roː|nɛː|faː|koː|ʃeː|hiː|buː|nɛː|faː|koː|fuː|ɡiː|roː|heː|toː|fiː|fuː|ɡiː|roː|heː|toː|fiː|ʃeː|hiː|buː|nɛː|faː|koː|ʃeː|hiː|buː|fuː|ɡiː|roː|heː|toː|fiː|nɛː|faː|koː|fuː|ɡiː|roː|heː|toː|fiː|nɛː|faː|koː|ʃeː|hiː|buː|heː|toː|fiː|fuː|ɡiː|roː|ʃeː|hiː|buː|nɛː|faː|koː|heː|toː|fiː|ʃeː|hiː|buː|nɛː|faː|koː|fuː|ɡiː|roː|heː|toː|fiː|ʃeː|hiː|buː|fuː|ɡiː|roː|nɛː|faː|koː|ʃeː|hiː|buː|fuː|ɡiː|roː|nɛː|faː|koː|heː|toː|fiː|nɛː|faː|koː|heː|toː|fiː|fuː|ɡiː|roː|ʃeː|hiː|buː|nɛː|faː|koː|fuː|ɡiː|roː|ʃeː|hiː|buː|heː|toː|fiː|fuː|ɡiː|roː|nɛː|faː|koː|ʃeː|hiː|buː|heː|toː|fiː|fuː|ɡiː|roː|ʃeː|hiː|buː|nɛː|faː|koː|heː|toː|fiː|nɛː|faː|koː|fuː|ɡiː|roː|heː|toː|fiː|ʃeː|hiː|buː|fuː|ɡiː|roː|nɛː|faː|koː|heː|toː|fiː|ʃeː|hiː|buː|fuː|ɡiː|roː|ʃeː|hiː|buː|heː|toː|fiː|nɛː|faː|koː|heː|toː|fiː|fuː|ɡiː|roː|nɛː|faː|koː|ʃeː|hiː|buː|nɛː|faː|koː|ʃeː|hiː|buː|fuː|ɡiː|roː|heː|toː|fiː|nɛː|faː|koː|fuː|ɡiː|roː|heː|toː|fiː|ʃeː|hiː|buː\n",
      "TP mode: word_structured\n",
      "Lexicon: nɛːfaːkoː|ʃeːhiːbuː|heːtoːfiː|fuːɡiːroː\n",
      "Feature PRIs: {'phon_1_son': 0.09473684210526316, 'phon_1_back': 0.0, 'phon_1_hi': 0.0, 'phon_1_lab': 0.0824561403508772, 'phon_1_cor': 0.1, 'phon_1_cont': 0.0, 'phon_1_lat': 0.0, 'phon_1_nas': 0.0, 'phon_1_voi': 0.014035087719298246, 'phon_2_back': 0.02631578947368421, 'phon_2_hi': 0.010526315789473684, 'phon_2_lo': 0.0, 'phon_2_lab': 0.0, 'phon_2_tense': 0.0, 'phon_2_long': 0.0}\n",
      "\n",
      "Stream: ʃeː|toː|koː|fuː|hiː|buː|heː|faː|roː|nɛː|ɡiː|fiː|ʃeː|ɡiː|koː|heː|hiː|roː|fuː|faː|buː|nɛː|toː|fiː|nɛː|hiː|fiː|fuː|toː|roː|heː|ɡiː|buː|ʃeː|faː|koː|nɛː|faː|fiː|heː|toː|buː|fuː|ɡiː|roː|ʃeː|hiː|koː|ʃeː|hiː|fiː|nɛː|ɡiː|buː|fuː|faː|koː|heː|toː|roː|nɛː|faː|roː|fuː|hiː|buː|heː|ɡiː|fiː|ʃeː|toː|koː|ʃeː|ɡiː|koː|nɛː|hiː|roː|heː|faː|fiː|fuː|toː|buː|nɛː|toː|fiː|heː|hiː|koː|fuː|ɡiː|roː|ʃeː|faː|buː|ʃeː|toː|fiː|heː|ɡiː|roː|fuː|faː|koː|nɛː|hiː|buː|fuː|hiː|koː|heː|faː|roː|nɛː|toː|buː|ʃeː|ɡiː|fiː|nɛː|faː|fiː|ʃeː|hiː|roː|heː|toː|koː|fuː|ɡiː|buː|heː|hiː|fiː|fuː|toː|roː|ʃeː|faː|buː|nɛː|ɡiː|koː|ʃeː|faː|roː|nɛː|ɡiː|fiː|heː|hiː|buː|fuː|toː|koː|ʃeː|hiː|koː|heː|toː|buː|nɛː|faː|fiː|fuː|ɡiː|roː|ʃeː|ɡiː|buː|heː|faː|koː|nɛː|toː|roː|fuː|hiː|fiː|nɛː|hiː|roː|heː|ɡiː|koː|fuː|faː|buː|ʃeː|toː|fiː|ʃeː|faː|koː|fuː|toː|roː|nɛː|ɡiː|buː|heː|hiː|fiː|heː|ɡiː|koː|nɛː|hiː|roː|fuː|faː|fiː|ʃeː|toː|buː|ʃeː|hiː|buː|fuː|ɡiː|fiː|nɛː|faː|roː|heː|toː|koː|heː|faː|buː|nɛː|toː|fiː|fuː|hiː|koː|ʃeː|ɡiː|roː|ʃeː|ɡiː|koː|nɛː|hiː|fiː|fuː|faː|buː|heː|toː|roː|heː|faː|fiː|ʃeː|toː|koː|fuː|hiː|buː|nɛː|ɡiː|roː|ʃeː|faː|roː|nɛː|toː|buː|fuː|ɡiː|fiː|heː|hiː|koː|heː|ɡiː|buː|ʃeː|hiː|roː|fuː|toː|fiː|nɛː|faː|koː|ʃeː|faː|fiː|fuː|ɡiː|roː|heː|toː|koː|nɛː|hiː|buː|heː|ɡiː|fiː|nɛː|faː|buː|ʃeː|hiː|koː|fuː|toː|roː|nɛː|toː|fiː|heː|hiː|roː|fuː|faː|koː|ʃeː|ɡiː|buː|nɛː|ɡiː|koː|heː|faː|roː|ʃeː|toː|buː|fuː|hiː|fiː|ʃeː|ɡiː|fiː|heː|faː|roː|nɛː|toː|buː|fuː|hiː|koː|heː|toː|fiː|fuː|ɡiː|buː|nɛː|faː|koː|ʃeː|hiː|roː|ʃeː|toː|roː|heː|hiː|fiː|nɛː|ɡiː|koː|fuː|faː|buː|heː|ɡiː|roː|fuː|toː|koː|nɛː|hiː|buː|ʃeː|faː|fiː|ʃeː|ɡiː|buː|nɛː|faː|fiː|heː|hiː|koː|fuː|toː|roː|ʃeː|toː|koː|heː|ɡiː|fiː|nɛː|hiː|buː|fuː|faː|roː|fuː|hiː|fiː|ʃeː|faː|koː|nɛː|ɡiː|roː|heː|toː|buː|heː|faː|buː|ʃeː|hiː|roː|nɛː|toː|fiː|fuː|ɡiː|koː|ʃeː|toː|fiː|nɛː|ɡiː|roː|heː|hiː|buː|fuː|faː|koː|ʃeː|faː|fiː|fuː|hiː|koː|heː|ɡiː|buː|nɛː|toː|roː|nɛː|faː|buː|heː|toː|koː|fuː|ɡiː|fiː|ʃeː|hiː|roː|fuː|toː|buː|ʃeː|ɡiː|koː|nɛː|hiː|fiː|heː|faː|roː|ʃeː|ɡiː|buː|nɛː|hiː|koː|heː|faː|roː|fuː|toː|fiː|heː|ɡiː|koː|ʃeː|hiː|buː|fuː|faː|fiː|nɛː|toː|roː|ʃeː|faː|koː|nɛː|ɡiː|fiː|fuː|hiː|roː|heː|toː|buː|heː|hiː|fiː|ʃeː|toː|koː|fuː|ɡiː|roː|nɛː|faː|buː|ʃeː|hiː|buː|heː|toː|roː|fuː|faː|fiː|nɛː|ɡiː|koː|nɛː|hiː|fiː|heː|faː|roː|ʃeː|ɡiː|buː|fuː|toː|koː|ʃeː|faː|buː|nɛː|toː|fiː|fuː|ɡiː|roː|heː|hiː|koː|fuː|hiː|roː|nɛː|faː|koː|heː|ɡiː|fiː|ʃeː|toː|buː\n",
      "TP mode: position_controlled\n",
      "Lexicon: nɛːfaːkoː|ʃeːhiːbuː|heːtoːfiː|fuːɡiːroː\n",
      "Feature PRIs: {'phon_1_son': 0.043859649122807015, 'phon_1_back': 0.012280701754385965, 'phon_1_hi': 0.012280701754385965, 'phon_1_lab': 0.042105263157894736, 'phon_1_cor': 0.07894736842105263, 'phon_1_cont': 0.012280701754385965, 'phon_1_lat': 0.0, 'phon_1_nas': 0.015789473684210527, 'phon_1_voi': 0.06491228070175438, 'phon_2_back': 0.054385964912280704, 'phon_2_hi': 0.0456140350877193, 'phon_2_lo': 0.015789473684210527, 'phon_2_lab': 0.014035087719298246, 'phon_2_tense': 0.0, 'phon_2_long': 0.0}\n",
      "\n",
      "Stream: kɛː|tiː|luː|huː|vaː|ɡiː|hoː|fiː|roː|ʃaː|piː|faː|tiː|roː|kɛː|fiː|huː|ʃaː|faː|luː|piː|vaː|hoː|ɡiː|roː|ɡiː|tiː|piː|kɛː|huː|luː|ʃaː|vaː|fiː|faː|hoː|piː|tiː|fiː|ɡiː|faː|huː|roː|hoː|vaː|luː|kɛː|ʃaː|kɛː|ɡiː|luː|tiː|ʃaː|fiː|vaː|huː|hoː|faː|roː|piː|hoː|luː|roː|huː|piː|ɡiː|ʃaː|tiː|kɛː|vaː|faː|fiː|kɛː|roː|faː|ɡiː|fiː|tiː|hoː|ʃaː|luː|vaː|piː|huː|fiː|hoː|kɛː|luː|ɡiː|piː|roː|vaː|tiː|huː|faː|ʃaː|ɡiː|kɛː|hoː|tiː|vaː|roː|fiː|luː|faː|piː|ʃaː|huː|ɡiː|huː|tiː|faː|vaː|kɛː|piː|fiː|ʃaː|roː|luː|hoː|huː|kɛː|faː|ʃaː|hoː|roː|tiː|ɡiː|vaː|luː|fiː|piː|luː|tiː|fiː|faː|kɛː|vaː|ʃaː|roː|ɡiː|hoː|piː|huː|kɛː|huː|luː|vaː|ɡiː|tiː|faː|hoː|ʃaː|piː|fiː|roː|huː|tiː|piː|ʃaː|faː|fiː|ɡiː|vaː|kɛː|roː|luː|hoː|tiː|huː|vaː|hoː|roː|faː|kɛː|piː|ɡiː|fiː|ʃaː|luː|kɛː|ʃaː|hoː|ɡiː|huː|roː|fiː|vaː|piː|tiː|luː|faː|vaː|tiː|kɛː|faː|piː|luː|roː|hoː|fiː|huː|ɡiː|ʃaː|tiː|roː|vaː|ʃaː|fiː|luː|piː|faː|ɡiː|kɛː|hoː|huː|hoː|kɛː|tiː|ʃaː|ɡiː|roː|piː|vaː|faː|luː|huː|fiː|hoː|faː|tiː|vaː|fiː|piː|roː|kɛː|ɡiː|luː|ʃaː|huː|faː|roː|ʃaː|kɛː|luː|fiː|tiː|ɡiː|piː|hoː|vaː|huː|ʃaː|vaː|roː|tiː|hoː|luː|ɡiː|faː|huː|piː|kɛː|fiː|kɛː|piː|hoː|fiː|tiː|vaː|huː|luː|ʃaː|roː|faː|ɡiː|fiː|ʃaː|kɛː|vaː|roː|tiː|luː|piː|faː|huː|ɡiː|hoː|ɡiː|tiː|kɛː|faː|fiː|vaː|piː|huː|hoː|luː|roː|ʃaː|huː|fiː|ɡiː|ʃaː|piː|luː|vaː|tiː|faː|roː|kɛː|hoː|faː|ʃaː|vaː|ɡiː|luː|tiː|fiː|huː|piː|roː|hoː|kɛː|ʃaː|tiː|roː|piː|kɛː|fiː|hoː|vaː|faː|luː|ɡiː|huː|kɛː|luː|huː|tiː|ʃaː|ɡiː|vaː|hoː|roː|fiː|faː|piː|ɡiː|roː|vaː|kɛː|huː|ʃaː|faː|tiː|hoː|piː|fiː|luː|hoː|huː|faː|vaː|ʃaː|fiː|roː|luː|kɛː|ɡiː|piː|tiː|huː|vaː|luː|fiː|piː|ʃaː|hoː|tiː|ɡiː|faː|kɛː|roː|huː|roː|ɡiː|kɛː|tiː|piː|vaː|fiː|faː|hoː|ʃaː|luː|faː|ɡiː|kɛː|ʃaː|hoː|vaː|tiː|roː|huː|luː|piː|fiː|kɛː|faː|tiː|fiː|luː|ʃaː|piː|vaː|hoː|roː|ɡiː|huː|tiː|hoː|kɛː|luː|fiː|vaː|ʃaː|faː|roː|piː|huː|ɡiː|tiː|kɛː|piː|ɡiː|fiː|hoː|huː|ʃaː|vaː|roː|luː|faː|fiː|piː|tiː|huː|vaː|luː|ɡiː|hoː|ʃaː|kɛː|roː|faː|luː|huː|piː|ʃaː|ɡiː|roː|vaː|faː|kɛː|hoː|fiː|tiː|faː|vaː|fiː|huː|kɛː|tiː|luː|hoː|ɡiː|piː|roː|ʃaː|tiː|ɡiː|luː|vaː|piː|kɛː|fiː|ʃaː|roː|hoː|faː|huː|faː|hoː|piː|luː|tiː|vaː|ɡiː|ʃaː|fiː|roː|kɛː|huː|fiː|kɛː|ɡiː|vaː|huː|hoː|tiː|piː|faː|ʃaː|luː|roː|tiː|ʃaː|huː|roː|fiː|ɡiː|faː|piː|hoː|luː|kɛː|vaː|kɛː|roː|ʃaː|huː|faː|piː|ɡiː|tiː|fiː|hoː|luː|vaː|ʃaː|vaː|tiː|piː|huː|luː|ɡiː|roː|kɛː|faː|hoː|fiː|kɛː|ɡiː|ʃaː|hoː|huː|tiː|roː|vaː|piː|fiː|faː|luː|piː|tiː|faː|ʃaː|fiː|roː|huː|ɡiː|kɛː|vaː|luː|hoː\n",
      "TP mode: random\n",
      "Lexicon: roːfiːkɛː|faːɡiːluː|tiːhuːvaː|hoːʃaːpiː\n",
      "Feature PRIs: {'phon_1_son': 0.07368421052631578, 'phon_1_back': 0.042105263157894736, 'phon_1_hi': 0.042105263157894736, 'phon_1_lab': 0.07543859649122807, 'phon_1_cor': 0.0912280701754386, 'phon_1_cont': 0.008771929824561403, 'phon_1_lat': 0.005263157894736842, 'phon_1_nas': 0.0, 'phon_1_voi': 0.07192982456140351, 'phon_2_back': 0.021052631578947368, 'phon_2_hi': 0.031578947368421054, 'phon_2_lo': 0.06666666666666667, 'phon_2_lab': 0.0456140350877193, 'phon_2_tense': 0.0, 'phon_2_long': 0.0}\n",
      "\n",
      "Stream: faː|ɡiː|luː|hoː|ʃaː|piː|roː|fiː|kɛː|tiː|huː|vaː|roː|fiː|kɛː|hoː|ʃaː|piː|tiː|huː|vaː|faː|ɡiː|luː|roː|fiː|kɛː|faː|ɡiː|luː|tiː|huː|vaː|hoː|ʃaː|piː|faː|ɡiː|luː|tiː|huː|vaː|hoː|ʃaː|piː|roː|fiː|kɛː|tiː|huː|vaː|roː|fiː|kɛː|faː|ɡiː|luː|hoː|ʃaː|piː|tiː|huː|vaː|faː|ɡiː|luː|roː|fiː|kɛː|hoː|ʃaː|piː|tiː|huː|vaː|faː|ɡiː|luː|hoː|ʃaː|piː|roː|fiː|kɛː|hoː|ʃaː|piː|faː|ɡiː|luː|tiː|huː|vaː|roː|fiː|kɛː|tiː|huː|vaː|hoː|ʃaː|piː|faː|ɡiː|luː|roː|fiː|kɛː|faː|ɡiː|luː|tiː|huː|vaː|roː|fiː|kɛː|hoː|ʃaː|piː|faː|ɡiː|luː|roː|fiː|kɛː|tiː|huː|vaː|hoː|ʃaː|piː|roː|fiː|kɛː|faː|ɡiː|luː|hoː|ʃaː|piː|tiː|huː|vaː|roː|fiː|kɛː|hoː|ʃaː|piː|faː|ɡiː|luː|tiː|huː|vaː|hoː|ʃaː|piː|roː|fiː|kɛː|tiː|huː|vaː|faː|ɡiː|luː|hoː|ʃaː|piː|tiː|huː|vaː|faː|ɡiː|luː|roː|fiː|kɛː|faː|ɡiː|luː|hoː|ʃaː|piː|tiː|huː|vaː|roː|fiː|kɛː|hoː|ʃaː|piː|faː|ɡiː|luː|roː|fiː|kɛː|tiː|huː|vaː|hoː|ʃaː|piː|roː|fiː|kɛː|faː|ɡiː|luː|tiː|huː|vaː|hoː|ʃaː|piː|tiː|huː|vaː|roː|fiː|kɛː|faː|ɡiː|luː|roː|fiː|kɛː|tiː|huː|vaː|faː|ɡiː|luː|hoː|ʃaː|piː|faː|ɡiː|luː|roː|fiː|kɛː|hoː|ʃaː|piː|tiː|huː|vaː|roː|fiː|kɛː|tiː|huː|vaː|hoː|ʃaː|piː|faː|ɡiː|luː|tiː|huː|vaː|hoː|ʃaː|piː|roː|fiː|kɛː|faː|ɡiː|luː|tiː|huː|vaː|roː|fiː|kɛː|hoː|ʃaː|piː|faː|ɡiː|luː|tiː|huː|vaː|faː|ɡiː|luː|roː|fiː|kɛː|hoː|ʃaː|piː|roː|fiː|kɛː|faː|ɡiː|luː|hoː|ʃaː|piː|tiː|huː|vaː|faː|ɡiː|luː|roː|fiː|kɛː|tiː|huː|vaː|hoː|ʃaː|piː|tiː|huː|vaː|roː|fiː|kɛː|hoː|ʃaː|piː|faː|ɡiː|luː|hoː|ʃaː|piː|roː|fiː|kɛː|faː|ɡiː|luː|tiː|huː|vaː|hoː|ʃaː|piː|roː|fiː|kɛː|tiː|huː|vaː|faː|ɡiː|luː|hoː|ʃaː|piː|tiː|huː|vaː|roː|fiː|kɛː|faː|ɡiː|luː|roː|fiː|kɛː|hoː|ʃaː|piː|faː|ɡiː|luː|tiː|huː|vaː|hoː|ʃaː|piː|tiː|huː|vaː|faː|ɡiː|luː|roː|fiː|kɛː|hoː|ʃaː|piː|faː|ɡiː|luː|tiː|huː|vaː|roː|fiː|kɛː|faː|ɡiː|luː|hoː|ʃaː|piː|roː|fiː|kɛː|tiː|huː|vaː|faː|ɡiː|luː|tiː|huː|vaː|roː|fiː|kɛː|hoː|ʃaː|piː|tiː|huː|vaː|hoː|ʃaː|piː|roː|fiː|kɛː|faː|ɡiː|luː|roː|fiː|kɛː|tiː|huː|vaː|faː|ɡiː|luː|hoː|ʃaː|piː|roː|fiː|kɛː|hoː|ʃaː|piː|tiː|huː|vaː|faː|ɡiː|luː|hoː|ʃaː|piː|faː|ɡiː|luː|roː|fiː|kɛː|tiː|huː|vaː|faː|ɡiː|luː|tiː|huː|vaː|hoː|ʃaː|piː|roː|fiː|kɛː|tiː|huː|vaː|roː|fiː|kɛː|faː|ɡiː|luː|hoː|ʃaː|piː|roː|fiː|kɛː|faː|ɡiː|luː|tiː|huː|vaː|hoː|ʃaː|piː|faː|ɡiː|luː|roː|fiː|kɛː|hoː|ʃaː|piː|tiː|huː|vaː|faː|ɡiː|luː|hoː|ʃaː|piː|tiː|huː|vaː|roː|fiː|kɛː|tiː|huː|vaː|hoː|ʃaː|piː|faː|ɡiː|luː|roː|fiː|kɛː|tiː|huː|vaː|faː|ɡiː|luː|hoː|ʃaː|piː|roː|fiː|kɛː|faː|ɡiː|luː|tiː|huː|vaː|roː|fiː|kɛː|hoː|ʃaː|piː\n",
      "TP mode: word_structured\n",
      "Lexicon: roːfiːkɛː|faːɡiːluː|tiːhuːvaː|hoːʃaːpiː\n",
      "Feature PRIs: {'phon_1_son': 0.09298245614035087, 'phon_1_back': 0.0, 'phon_1_hi': 0.0, 'phon_1_lab': 0.09649122807017543, 'phon_1_cor': 0.1, 'phon_1_cont': 0.0, 'phon_1_lat': 0.0, 'phon_1_nas': 0.0, 'phon_1_voi': 0.015789473684210527, 'phon_2_back': 0.014035087719298246, 'phon_2_hi': 0.031578947368421054, 'phon_2_lo': 0.0, 'phon_2_lab': 0.0, 'phon_2_tense': 0.0, 'phon_2_long': 0.0}\n",
      "\n",
      "Stream: tiː|ʃaː|vaː|faː|fiː|piː|roː|ɡiː|luː|hoː|huː|kɛː|hoː|ʃaː|piː|tiː|huː|luː|faː|ɡiː|kɛː|roː|fiː|vaː|hoː|ɡiː|vaː|roː|ʃaː|luː|tiː|fiː|kɛː|faː|huː|piː|hoː|fiː|luː|roː|huː|vaː|tiː|ɡiː|piː|faː|ʃaː|kɛː|tiː|fiː|vaː|faː|ʃaː|kɛː|roː|ɡiː|piː|hoː|huː|luː|hoː|ɡiː|kɛː|faː|fiː|luː|roː|ʃaː|vaː|tiː|huː|piː|roː|huː|kɛː|tiː|ʃaː|luː|faː|ɡiː|vaː|hoː|fiː|piː|faː|huː|vaː|roː|fiː|kɛː|hoː|ʃaː|piː|tiː|ɡiː|luː|tiː|ɡiː|vaː|hoː|ʃaː|luː|roː|huː|kɛː|faː|fiː|piː|faː|huː|luː|hoː|ɡiː|piː|roː|fiː|kɛː|tiː|ʃaː|vaː|tiː|huː|piː|hoː|fiː|vaː|roː|ɡiː|luː|faː|ʃaː|kɛː|hoː|huː|vaː|faː|ɡiː|kɛː|roː|ʃaː|piː|tiː|fiː|luː|tiː|fiː|kɛː|hoː|huː|luː|roː|ɡiː|vaː|faː|ʃaː|piː|hoː|fiː|vaː|roː|huː|kɛː|faː|ɡiː|piː|tiː|ʃaː|luː|hoː|ʃaː|kɛː|roː|fiː|piː|faː|huː|vaː|tiː|ɡiː|luː|faː|fiː|luː|tiː|huː|piː|roː|ʃaː|vaː|hoː|ɡiː|kɛː|tiː|huː|kɛː|faː|ɡiː|vaː|hoː|ʃaː|piː|roː|fiː|luː|roː|ʃaː|luː|tiː|fiː|vaː|faː|huː|piː|hoː|ɡiː|kɛː|tiː|ʃaː|vaː|roː|ɡiː|piː|faː|fiː|kɛː|hoː|huː|luː|hoː|fiː|piː|tiː|ɡiː|luː|faː|ʃaː|kɛː|roː|huː|vaː|tiː|huː|piː|roː|fiː|kɛː|faː|ʃaː|vaː|hoː|ɡiː|luː|tiː|ʃaː|piː|hoː|huː|kɛː|roː|ɡiː|vaː|faː|fiː|luː|faː|ɡiː|kɛː|hoː|ʃaː|luː|roː|huː|vaː|tiː|fiː|piː|tiː|ɡiː|piː|faː|huː|luː|hoː|fiː|vaː|roː|ʃaː|kɛː|tiː|ɡiː|piː|faː|fiː|vaː|hoː|huː|luː|roː|ʃaː|kɛː|faː|huː|piː|roː|ɡiː|vaː|tiː|ʃaː|luː|hoː|fiː|kɛː|tiː|fiː|luː|faː|ʃaː|piː|hoː|ɡiː|kɛː|roː|huː|vaː|faː|ɡiː|luː|tiː|huː|kɛː|hoː|ʃaː|vaː|roː|fiː|piː|tiː|ɡiː|kɛː|roː|ʃaː|vaː|hoː|huː|luː|faː|fiː|piː|roː|huː|piː|tiː|fiː|vaː|faː|ɡiː|luː|hoː|ʃaː|kɛː|tiː|ʃaː|luː|roː|fiː|kɛː|hoː|ɡiː|piː|faː|huː|vaː|roː|ɡiː|vaː|tiː|huː|kɛː|faː|ʃaː|piː|hoː|fiː|luː|tiː|fiː|vaː|roː|ɡiː|kɛː|hoː|huː|piː|faː|ʃaː|luː|tiː|huː|kɛː|roː|fiː|piː|hoː|ʃaː|vaː|faː|ɡiː|luː|hoː|ɡiː|vaː|tiː|ʃaː|piː|roː|huː|luː|faː|fiː|kɛː|faː|huː|vaː|hoː|fiː|luː|roː|ʃaː|kɛː|tiː|ɡiː|piː|tiː|huː|piː|roː|fiː|vaː|faː|ɡiː|kɛː|hoː|ʃaː|luː|faː|huː|luː|hoː|fiː|piː|tiː|ɡiː|vaː|roː|ʃaː|kɛː|faː|ʃaː|vaː|tiː|fiː|luː|roː|ɡiː|piː|hoː|huː|kɛː|roː|huː|vaː|hoː|ɡiː|luː|tiː|ʃaː|piː|faː|fiː|kɛː|tiː|ʃaː|piː|faː|ɡiː|kɛː|roː|huː|luː|hoː|fiː|vaː|hoː|ʃaː|luː|faː|fiː|kɛː|tiː|huː|vaː|roː|ɡiː|piː|hoː|huː|kɛː|faː|ʃaː|vaː|tiː|ɡiː|luː|roː|fiː|piː|roː|ʃaː|kɛː|hoː|ɡiː|vaː|faː|huː|piː|tiː|fiː|luː|tiː|ɡiː|luː|faː|ʃaː|piː|roː|huː|kɛː|hoː|fiː|vaː|faː|huː|vaː|tiː|fiː|kɛː|roː|ʃaː|luː|hoː|ɡiː|piː|tiː|ʃaː|kɛː|faː|ɡiː|vaː|hoː|huː|luː|roː|fiː|piː|faː|fiː|luː|tiː|huː|piː|hoː|ʃaː|vaː|roː|ɡiː|kɛː\n",
      "TP mode: position_controlled\n",
      "Lexicon: roːfiːkɛː|faːɡiːluː|tiːhuːvaː|hoːʃaːpiː\n",
      "Feature PRIs: {'phon_1_son': 0.06140350877192982, 'phon_1_back': 0.010526315789473684, 'phon_1_hi': 0.010526315789473684, 'phon_1_lab': 0.05964912280701754, 'phon_1_cor': 0.06491228070175438, 'phon_1_cont': 0.0017543859649122807, 'phon_1_lat': 0.021052631578947368, 'phon_1_nas': 0.0, 'phon_1_voi': 0.04035087719298246, 'phon_2_back': 0.012280701754385965, 'phon_2_hi': 0.06491228070175438, 'phon_2_lo': 0.028070175438596492, 'phon_2_lab': 0.02982456140350877, 'phon_2_tense': 0.0, 'phon_2_long': 0.0}\n",
      "\n",
      "Num Streams:  12\n"
     ]
    }
   ],
   "source": [
    "from arc import make_streams, make_lexicons, load_words\n",
    "\n",
    "words = load_words(\"words.json\")\n",
    "lexicons = make_lexicons(words, n_lexicons=20, n_words=4, control_features=True)\n",
    "streams = make_streams(lexicons, max_rhythmicity=0.1, require_all_tp_modes=True)\n",
    "print(\"\")\n",
    "\n",
    "for stream in streams:\n",
    "    print_stream_info(stream)\n",
    "\n",
    "print(\"Num Streams: \", len(streams))"
   ]
  }
 ],
 "metadata": {
  "kernelspec": {
   "display_name": "arc",
   "language": "python",
   "name": "python3"
  },
  "language_info": {
   "codemirror_mode": {
    "name": "ipython",
    "version": 3
   },
   "file_extension": ".py",
   "mimetype": "text/x-python",
   "name": "python",
   "nbconvert_exporter": "python",
   "pygments_lexer": "ipython3",
   "version": "3.9.18"
  }
 },
 "nbformat": 4,
 "nbformat_minor": 5
}
