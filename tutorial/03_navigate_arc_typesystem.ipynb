{
 "cells": [
  {
   "attachments": {},
   "cell_type": "markdown",
   "id": "d6dcef0d-76e5-4330-a879-ab8ff03acbd8",
   "metadata": {},
   "source": [
    "# ARC Typesystem\n",
    "In this tutorial, you will learn the basic data structures of the ARC Typesystem, as well as saving and load with the core ARC-Types."
   ]
  },
  {
   "attachments": {},
   "cell_type": "markdown",
   "id": "8c650cf2-9c82-4215-8538-340acc7d1735",
   "metadata": {},
   "source": [
    "## Basic Types\n",
    "\n",
    "There are two types of objects we deal with in ARC:\n",
    "\n",
    "An **Element** is any linguistic object of interest. In our case, `Phoneme`, `Syllable`, `Word`, and `Stream` are Elements. These objects can consist of other elements, in a dictionary-style fashion, i.e. `Word`, and `Stream` consist of `Syllable`s, a `Syllable` consists of `Phoneme`s, and `Phonemes` are atomic. If an Element consists of multiple sub-elements, like in the case of a Syllable, the sub-elements can repeat, e.g. a Phoneme can repeat multiple times inside a Syllable. Elements can be part of a Register, which can be thought of as a corpus of Elements.  Like in real corpora, every element can be annotated, hence it has an `.info` field, which can hold arbitrary annotations in dictionary format. Elements in a Register *don't repeat*.\n",
    "\n",
    "A **Register** is essentially an ordered set with some extra functionality. We use this container type to create ordered collections of Elements that do not repeat, i.e. ordered, annotated sets of Phonemes, Syllables, and Words (like little corpora). Since every element in the Register has a unique string representation, it can be hashed and thus found quickly in memory. The `Lexicon` type is implemented as a Register of words, as well as any collection of Phonemes, Syllables or Words we use to generate higher level elements.\n",
    "\n",
    "In summary\n",
    "- `Phoneme`, `Syllable`, `Word` are subclasses of `Element`\n",
    "- `Stream` is the same as a `Word` just longer, since it consists of repeatable `Syllable` objects\n",
    "- whenever you see multiple elements, e.g. a `phonemes` object, its a `Register`\n",
    "- `Lexicon` is a special `Register` of `Word`s"
   ]
  },
  {
   "attachments": {},
   "cell_type": "markdown",
   "id": "ffb4f9a4-e047-435a-b364-b71ad4119ca2",
   "metadata": {},
   "source": [
    "## Phonemes\n",
    "Phonemes are the atomic unit of the ARC-Typesystem and built the basis for constructing other types like Syllables and Words. \n",
    "To enjoy the full functionolity of ARC, you'll need Phonemes annotated with their phonetic features. Luckily, ARC comes with an extensive corpus of Phonemes with phonetic features.\n",
    "Let's load them and see what they look like."
   ]
  },
  {
   "cell_type": "code",
   "execution_count": 24,
   "id": "40897af7-61dd-4020-b0d0-09591856814f",
   "metadata": {},
   "outputs": [
    {
     "name": "stdout",
     "output_type": "stream",
     "text": [
      "Help on function load_phonemes in module arc.io:\n",
      "\n",
      "load_phonemes(path_to_json: Union[str, os.PathLike, NoneType] = None, language_control=False) -> ~RegisterType\n",
      "\n"
     ]
    }
   ],
   "source": [
    "from arc import load_phonemes\n",
    "help(load_phonemes)"
   ]
  },
  {
   "cell_type": "code",
   "execution_count": 27,
   "id": "b38768ae-6d3a-43cd-943f-394683b7962b",
   "metadata": {},
   "outputs": [
    {
     "name": "stdout",
     "output_type": "stream",
     "text": [
      "k͡p|ɡ͡b|c|ɡ|k|q|ɖ|ɟ|ɠ|ɢ|... (5275 elements total)\n"
     ]
    }
   ],
   "source": [
    "phonemes = load_phonemes()\n",
    "print(phonemes)"
   ]
  },
  {
   "attachments": {},
   "cell_type": "markdown",
   "id": "9c11c164-8de3-4604-97cc-7a6f405161c5",
   "metadata": {},
   "source": [
    "The `phonemes` variable is a Collection of Phoneme-Objects, more specifically a `Register`. What you see when you print any Register is a short summary of the first elements.\n",
    "You can treat the Register like most Python collection types, meaning you can access elements, iterate over it etc.\n",
    "\n",
    "> Note: Internally, `Register`s are `OrderedDict`s (with some extra convenience methods). Essentially, you can treat it like both Python builtin types `Dict`and `List`.\n",
    "\n",
    "Let's see that in action."
   ]
  },
  {
   "cell_type": "code",
   "execution_count": 28,
   "id": "8939c5c5",
   "metadata": {},
   "outputs": [
    {
     "name": "stdout",
     "output_type": "stream",
     "text": [
      "We can reference elements of a Corpus by position/index: k͡p , or by its string representation: k\n"
     ]
    }
   ],
   "source": [
    "print(\"We can reference elements of a Corpus by position/index:\", phonemes[0], \", or by its string representation:\", phonemes[\"k\"])"
   ]
  },
  {
   "attachments": {},
   "cell_type": "markdown",
   "id": "16c7d30f",
   "metadata": {},
   "source": [
    "Internally, Elements are `Dict`-like objects, more specifically, [Pydantic](https://docs.pydantic.dev/latest/) types."
   ]
  },
  {
   "cell_type": "code",
   "execution_count": 29,
   "id": "4db8949b",
   "metadata": {},
   "outputs": [
    {
     "name": "stdout",
     "output_type": "stream",
     "text": [
      "k\n"
     ]
    },
    {
     "data": {
      "text/plain": [
       "Phoneme(id='k', info={'features': ['-', '-', '+', '-', '-', '-', '-', '0', '-', '-', '-', '-', '-', '0', '-', '+', '-', '+', '-', '0', '-']})"
      ]
     },
     "execution_count": 29,
     "metadata": {},
     "output_type": "execute_result"
    }
   ],
   "source": [
    "print(phonemes[\"k\"])\n",
    "phonemes[\"k\"]"
   ]
  },
  {
   "attachments": {},
   "cell_type": "markdown",
   "id": "5d7efbca-c661-4510-a0f7-694e5926e12b",
   "metadata": {},
   "source": [
    "Annotations can be referenced via the `.info` property, which can hold arbitrary dictionary data"
   ]
  },
  {
   "cell_type": "code",
   "execution_count": 30,
   "id": "b540a558-6740-4873-aa82-943128df52d0",
   "metadata": {},
   "outputs": [
    {
     "name": "stdout",
     "output_type": "stream",
     "text": [
      "{'features': ['-', '-', '+', '-', '-', '-', '-', '0', '-', '-', '-', '-', '-', '0', '-', '+', '-', '+', '-', '0', '-']}\n"
     ]
    }
   ],
   "source": [
    "print(phonemes[\"k\"].info)"
   ]
  },
  {
   "attachments": {},
   "cell_type": "markdown",
   "id": "2f26a0de",
   "metadata": {},
   "source": [
    "Phoneme features can be hard to interpret, so you can also get features directly, e.g. the \"is labial\" binary feature, called `lab`:"
   ]
  },
  {
   "cell_type": "code",
   "execution_count": 31,
   "id": "adce190a",
   "metadata": {},
   "outputs": [
    {
     "name": "stdout",
     "output_type": "stream",
     "text": [
      "Help on method get_binary_feature in module arc.types.phoneme:\n",
      "\n",
      "get_binary_feature(label: Literal['syl', 'son', 'cons', 'cont', 'delrel', 'lat', 'nas', 'strid', 'voi', 'sg', 'cg', 'ant', 'cor', 'distr', 'lab', 'hi', 'lo', 'back', 'round', 'tense', 'long']) method of arc.types.phoneme.Phoneme instance\n",
      "\n"
     ]
    }
   ],
   "source": [
    "help(phonemes[\"k\"].get_binary_feature)"
   ]
  },
  {
   "cell_type": "code",
   "execution_count": 32,
   "id": "35bff672",
   "metadata": {},
   "outputs": [
    {
     "data": {
      "text/plain": [
       "False"
      ]
     },
     "execution_count": 32,
     "metadata": {},
     "output_type": "execute_result"
    }
   ],
   "source": [
    "phonemes[\"k\"].get_binary_feature(\"lab\")"
   ]
  },
  {
   "attachments": {},
   "cell_type": "markdown",
   "id": "d053135c-8d52-47c0-8557-1edae8041d2a",
   "metadata": {},
   "source": [
    "## The Register\n",
    "\n",
    "While Registers in ARC print as compact summaries of their contents, they can be arbitrarily complex data structures."
   ]
  },
  {
   "attachments": {},
   "cell_type": "markdown",
   "id": "a7a4bfe6-c816-4a9c-9bc7-247db67fa32c",
   "metadata": {},
   "source": [
    "Regardless of the contents, Elements and Registers are always JSON serializable, as long as they are valid (which is checked at initialization):"
   ]
  },
  {
   "cell_type": "code",
   "execution_count": 34,
   "id": "fbcfb029-2e21-4841-bc84-9aecdb3ecfa5",
   "metadata": {},
   "outputs": [
    {
     "name": "stdout",
     "output_type": "stream",
     "text": [
      "{\"k͡p\": {\"id\": \"k͡p\", \"info\": {\"features\": [\"-\", \"-\", \"+\", \"-\", \"-\", \"-\", \"-\", \"...\n"
     ]
    }
   ],
   "source": [
    "print(phonemes.to_json()[:80] + \"...\")"
   ]
  },
  {
   "attachments": {},
   "cell_type": "markdown",
   "id": "5bc101a9-5470-4222-aa62-11230c5797f6",
   "metadata": {},
   "source": [
    "... which means they can be written to file and read later as a register. The Register container type has methods for reading and writing:"
   ]
  },
  {
   "cell_type": "code",
   "execution_count": 35,
   "id": "b1c93b5b-a2bb-4640-926a-91b672aa41d9",
   "metadata": {},
   "outputs": [
    {
     "name": "stdout",
     "output_type": "stream",
     "text": [
      "Help on method save in module arc.types.base_types:\n",
      "\n",
      "save(path: Union[str, os.PathLike] = None) method of arc.types.base_types.Register instance\n",
      "\n"
     ]
    }
   ],
   "source": [
    "help(phonemes.save)"
   ]
  },
  {
   "cell_type": "code",
   "execution_count": 36,
   "id": "39ed742a-a23f-4522-bb17-c21df7642ce7",
   "metadata": {},
   "outputs": [
    {
     "name": "stdout",
     "output_type": "stream",
     "text": [
      "k͡p|ɡ͡b|c|ɡ|k|q|ɖ|ɟ|ɠ|ɢ|... (5275 elements total)\n"
     ]
    }
   ],
   "source": [
    "import os\n",
    "\n",
    "os.makedirs(\"results\", exist_ok=True)\n",
    "phonemes.save(os.path.join(\"results\", \"test_phonemes.json\"))\n",
    "loaded_phonemes = load_phonemes(os.path.join(\"results\", \"test_phonemes.json\"))\n",
    "print(loaded_phonemes)"
   ]
  },
  {
   "attachments": {},
   "cell_type": "markdown",
   "id": "8c0ef8d3-a81e-408b-9119-869bce4a7163",
   "metadata": {},
   "source": [
    "### Some useful operations"
   ]
  },
  {
   "cell_type": "code",
   "execution_count": 52,
   "id": "5552c7ab-38d5-45b0-ba5f-08f618e18818",
   "metadata": {},
   "outputs": [
    {
     "name": "stdout",
     "output_type": "stream",
     "text": [
      "Help on class Register in module arc.types.base_types:\n",
      "\n",
      "class Register(collections.OrderedDict)\n",
      " |  Register(other=(), /, **kwargs)\n",
      " |  \n",
      " |  Method resolution order:\n",
      " |      Register\n",
      " |      collections.OrderedDict\n",
      " |      builtins.dict\n",
      " |      builtins.object\n",
      " |  \n",
      " |  Methods defined here:\n",
      " |  \n",
      " |  __contains__(self, item: Union[str, arc.types.base_types.Element])\n",
      " |      True if the dictionary has the specified key, else False.\n",
      " |  \n",
      " |  __getitem__(self, item)\n",
      " |      x.__getitem__(y) <==> x[y]\n",
      " |  \n",
      " |  __init__(self, other=(), /, **kwargs)\n",
      " |      Initialize self.  See help(type(self)) for accurate signature.\n",
      " |  \n",
      " |  __iter__(self)\n",
      " |      Implement iter(self).\n",
      " |  \n",
      " |  __str__(self)\n",
      " |      Return str(self).\n",
      " |  \n",
      " |  append(self, obj: arc.types.base_types.Element)\n",
      " |  \n",
      " |  empty_like(self)\n",
      " |  \n",
      " |  filter(self, func, *args, **kwargs)\n",
      " |  \n",
      " |  flatten(self) -> ~RegisterType\n",
      " |  \n",
      " |  get_self_with_info_key(self)\n",
      " |  \n",
      " |  get_subset(self, size: int) -> ~RegisterType\n",
      " |      Create a new Register as a random subset of this one\n",
      " |  \n",
      " |  intersection(self, other: ~RegisterType) -> ~RegisterType\n",
      " |      Select Elements that are in both registers and merge the data\n",
      " |      :param other:\n",
      " |      :return:\n",
      " |  \n",
      " |  new_from_dict(self, dictionary: dict) -> ~RegisterType\n",
      " |  \n",
      " |  save(self, path: Union[str, os.PathLike] = None)\n",
      " |  \n",
      " |  to_json(self)\n",
      " |  \n",
      " |  ----------------------------------------------------------------------\n",
      " |  Data descriptors defined here:\n",
      " |  \n",
      " |  info\n",
      " |  \n",
      " |  ----------------------------------------------------------------------\n",
      " |  Data and other attributes defined here:\n",
      " |  \n",
      " |  INFO_KEY = '_info'\n",
      " |  \n",
      " |  MAX_PRINT_ELEMENTS = 10\n",
      " |  \n",
      " |  ----------------------------------------------------------------------\n",
      " |  Methods inherited from collections.OrderedDict:\n",
      " |  \n",
      " |  __delitem__(self, key, /)\n",
      " |      Delete self[key].\n",
      " |  \n",
      " |  __eq__(self, value, /)\n",
      " |      Return self==value.\n",
      " |  \n",
      " |  __ge__(self, value, /)\n",
      " |      Return self>=value.\n",
      " |  \n",
      " |  __gt__(self, value, /)\n",
      " |      Return self>value.\n",
      " |  \n",
      " |  __ior__(self, value, /)\n",
      " |      Return self|=value.\n",
      " |  \n",
      " |  __le__(self, value, /)\n",
      " |      Return self<=value.\n",
      " |  \n",
      " |  __lt__(self, value, /)\n",
      " |      Return self<value.\n",
      " |  \n",
      " |  __ne__(self, value, /)\n",
      " |      Return self!=value.\n",
      " |  \n",
      " |  __or__(self, value, /)\n",
      " |      Return self|value.\n",
      " |  \n",
      " |  __reduce__(...)\n",
      " |      Return state information for pickling\n",
      " |  \n",
      " |  __repr__(self, /)\n",
      " |      Return repr(self).\n",
      " |  \n",
      " |  __reversed__(...)\n",
      " |      od.__reversed__() <==> reversed(od)\n",
      " |  \n",
      " |  __ror__(self, value, /)\n",
      " |      Return value|self.\n",
      " |  \n",
      " |  __setitem__(self, key, value, /)\n",
      " |      Set self[key] to value.\n",
      " |  \n",
      " |  __sizeof__(...)\n",
      " |      D.__sizeof__() -> size of D in memory, in bytes\n",
      " |  \n",
      " |  clear(...)\n",
      " |      od.clear() -> None.  Remove all items from od.\n",
      " |  \n",
      " |  copy(...)\n",
      " |      od.copy() -> a shallow copy of od\n",
      " |  \n",
      " |  items(...)\n",
      " |      D.items() -> a set-like object providing a view on D's items\n",
      " |  \n",
      " |  keys(...)\n",
      " |      D.keys() -> a set-like object providing a view on D's keys\n",
      " |  \n",
      " |  move_to_end(self, /, key, last=True)\n",
      " |      Move an existing element to the end (or beginning if last is false).\n",
      " |      \n",
      " |      Raise KeyError if the element does not exist.\n",
      " |  \n",
      " |  pop(...)\n",
      " |      od.pop(k[,d]) -> v, remove specified key and return the corresponding\n",
      " |      value.  If key is not found, d is returned if given, otherwise KeyError\n",
      " |      is raised.\n",
      " |  \n",
      " |  popitem(self, /, last=True)\n",
      " |      Remove and return a (key, value) pair from the dictionary.\n",
      " |      \n",
      " |      Pairs are returned in LIFO order if last is true or FIFO order if false.\n",
      " |  \n",
      " |  setdefault(self, /, key, default=None)\n",
      " |      Insert key with a value of default if key is not in the dictionary.\n",
      " |      \n",
      " |      Return the value for key if key is in the dictionary, else default.\n",
      " |  \n",
      " |  update(...)\n",
      " |      D.update([E, ]**F) -> None.  Update D from dict/iterable E and F.\n",
      " |      If E is present and has a .keys() method, then does:  for k in E: D[k] = E[k]\n",
      " |      If E is present and lacks a .keys() method, then does:  for k, v in E: D[k] = v\n",
      " |      In either case, this is followed by: for k in F:  D[k] = F[k]\n",
      " |  \n",
      " |  values(...)\n",
      " |      D.values() -> an object providing a view on D's values\n",
      " |  \n",
      " |  ----------------------------------------------------------------------\n",
      " |  Class methods inherited from collections.OrderedDict:\n",
      " |  \n",
      " |  fromkeys(iterable, value=None) from builtins.type\n",
      " |      Create a new ordered dictionary with keys from iterable and values set to value.\n",
      " |  \n",
      " |  ----------------------------------------------------------------------\n",
      " |  Data descriptors inherited from collections.OrderedDict:\n",
      " |  \n",
      " |  __dict__\n",
      " |  \n",
      " |  ----------------------------------------------------------------------\n",
      " |  Data and other attributes inherited from collections.OrderedDict:\n",
      " |  \n",
      " |  __hash__ = None\n",
      " |  \n",
      " |  ----------------------------------------------------------------------\n",
      " |  Methods inherited from builtins.dict:\n",
      " |  \n",
      " |  __getattribute__(self, name, /)\n",
      " |      Return getattr(self, name).\n",
      " |  \n",
      " |  __len__(self, /)\n",
      " |      Return len(self).\n",
      " |  \n",
      " |  get(self, key, default=None, /)\n",
      " |      Return the value for key if key is in the dictionary, else default.\n",
      " |  \n",
      " |  ----------------------------------------------------------------------\n",
      " |  Class methods inherited from builtins.dict:\n",
      " |  \n",
      " |  __class_getitem__(...) from builtins.type\n",
      " |      See PEP 585\n",
      " |  \n",
      " |  ----------------------------------------------------------------------\n",
      " |  Static methods inherited from builtins.dict:\n",
      " |  \n",
      " |  __new__(*args, **kwargs) from builtins.type\n",
      " |      Create and return a new object.  See help(type) for accurate signature.\n",
      "\n"
     ]
    }
   ],
   "source": [
    "from arc import Register\n",
    "help(Register)"
   ]
  },
  {
   "cell_type": "code",
   "execution_count": 38,
   "id": "15dcc704-464c-40b4-a995-3a907a89e584",
   "metadata": {},
   "outputs": [
    {
     "name": "stdout",
     "output_type": "stream",
     "text": [
      "k͡p|ɡ͡b|c|ɡ|k|q|ɖ|ɟ|ɠ|ɢ|... (5275 elements total)\n",
      "ɡ|k|b|d|p|t|x|ç|ʃ|f|... (38 elements total)\n"
     ]
    }
   ],
   "source": [
    "from arc.io import read_phoneme_corpus\n",
    "corpus_phonemes = read_phoneme_corpus()\n",
    "print(phonemes)\n",
    "phonemes = phonemes.intersection(corpus_phonemes)\n",
    "print(phonemes)"
   ]
  },
  {
   "attachments": {},
   "cell_type": "markdown",
   "id": "69c94d59-f484-4728-ae83-2b0451266f75",
   "metadata": {},
   "source": [
    "## Syllables\n",
    "Our first composite type is the `Syllable`, consisting of a list of `Phoneme`s. Let's make a collection of syllables, that follow the `cV` pattern, meaning they consist of a single-character phoneme `c` followed by a long vowel `V`."
   ]
  },
  {
   "cell_type": "code",
   "execution_count": 41,
   "id": "756b70c4-3c0b-4373-aac7-5095cddf7b2a",
   "metadata": {},
   "outputs": [
    {
     "name": "stdout",
     "output_type": "stream",
     "text": [
      "Help on function make_syllables in module arc.core.syllable:\n",
      "\n",
      "make_syllables(phonemes: ~RegisterType, phoneme_pattern: str = 'cV', unigram_control: bool = True, language_control: bool = True, language_alpha: Optional[float] = 0.05, from_format: Literal['ipa', 'xsampa'] = 'xsampa', lang: str = 'deu') -> ~RegisterType\n",
      "    _summary_\n",
      "    \n",
      "    Args:\n",
      "        phonemes (RegisterType): A Register of phonemes that will be used as a basis to generate the syllables\n",
      "        phoneme_pattern (str, optional): describes how a syllable is structured, e.g. \"cV\" syllables consist of a single-consonant character and a long vowel. Defaults to \"cV\".\n",
      "        unigram_control (bool, optional): apply statistical control (on the basis of p-val of uniform distribution) to single unigrams. Defaults to True.\n",
      "        language_control (bool, optional): apply language specific controls (only german for now) on the syllable level. Defaults to True.\n",
      "        language_alpha (Optional[float], optional): which p-value to assume for language based statistical control. Defaults to 0.05.\n",
      "        from_format (Literal[&quot;ipa&quot;, &quot;xsampa&quot;], optional): language control will read from a syllable corpus. which format to assume. Defaults to \"xsampa\".\n",
      "        lang (str, optional): which language to use for language controls. Defaults to \"deu\".\n",
      "    \n",
      "    Returns:\n",
      "        RegisterType: The final Register of syllables\n",
      "\n"
     ]
    }
   ],
   "source": [
    "from arc.core.syllable import make_syllables\n",
    "help(make_syllables)"
   ]
  },
  {
   "cell_type": "code",
   "execution_count": 42,
   "id": "5a857502-e57a-4aa9-9577-cbf8f3d52ce0",
   "metadata": {},
   "outputs": [
    {
     "name": "stdout",
     "output_type": "stream",
     "text": [
      "ɡaː|ɡiː|ɡyː|ɡɛː|kaː|koː|kuː|køː|kɛː|baː|... (75 elements total)\n"
     ]
    }
   ],
   "source": [
    "syllables = make_syllables(phonemes, phoneme_pattern=\"cV\")\n",
    "print(syllables)"
   ]
  },
  {
   "attachments": {},
   "cell_type": "markdown",
   "id": "331227cd",
   "metadata": {},
   "source": [
    "They behave pretty much like the phonemes register except that each is further composed of phonemes."
   ]
  },
  {
   "cell_type": "code",
   "execution_count": 43,
   "id": "fb75600e",
   "metadata": {},
   "outputs": [
    {
     "name": "stdout",
     "output_type": "stream",
     "text": [
      "ɡaː ɡiː\n"
     ]
    },
    {
     "data": {
      "text/plain": [
       "(Syllable(id='ɡaː', info={'binary_features': [0, 1, 1, 0, 0, 0, 0, 0, 1, 1, 0, 1, 0, 1, 1], 'phonotactic_features': [['plo', 'oth'], ['a']], 'freq': 85, 'prob': 8.41048e-05}, phonemes=[Phoneme(id='ɡ', info={'features': ['-', '-', '+', '-', '-', '-', '-', '0', '+', '-', '-', '-', '-', '0', '-', '+', '-', '+', '-', '0', '-'], 'word_position_prob': {0: 0.6206003986790039, 1: 0.0370116926006367, 2: 0.18437416322037428, 3: 0.0536729047038172, 4: 0.03079349022641397, 5: 0.030019933950194876, 6: 0.016601707774240575, 7: 0.013061200202314719, 8: 0.004938859302014221, 9: 0.00395703787450537, 10: 0.0016958733747880158, 11: 0.0011603344143286424, 12: 0.0006545476183392342, 13: 0.00038677813810954746, 14: 0.0003570259736395823, 15: 0.00020826515128975634, 16: 0.00014876082234982596, 17: 0.00017851298681979114, 18: 5.950432893993038e-05, 19: 5.950432893993038e-05, 20: 0.0, 21: 0.0, 22: 2.975216446996519e-05, 23: 0.0, 24: 2.975216446996519e-05}}), Phoneme(id='aː', info={'features': ['+', '+', '-', '+', '-', '-', '-', '0', '+', '-', '-', '-', '-', '-', '-', '-', '+', '+', '-', '+', '+'], 'word_position_prob': {0: 0.12874454553597706, 1: 0.7254789051403124, 2: 0.04774335547109934, 3: 0.0355100003838919, 4: 0.0217922632986551, 5: 0.014895005566432492, 6: 0.008714346040155092, 7: 0.009034255953523487, 8: 0.003506212650517614, 9: 0.0017275135321893355, 10: 0.0008957477574315073, 11: 0.0005374486544589043, 12: 0.0005246522579241686, 13: 0.00033270630990313126, 14: 0.00015355675841682983, 15: 0.000140760361882094, 16: 0.00010237117227788655, 17: 5.1185586138943275e-05, 18: 1.2796396534735819e-05, 19: 2.5592793069471637e-05, 20: 3.838918960420746e-05, 21: 1.2796396534735819e-05, 22: 1.2796396534735819e-05, 23: 1.2796396534735819e-05}})]),\n",
       " Syllable(id='ɡiː', info={'binary_features': [0, 1, 1, 0, 0, 0, 0, 0, 1, 0, 1, 0, 0, 1, 1], 'phonotactic_features': [['plo', 'oth'], ['i']], 'freq': 61, 'prob': 6.03576e-05}, phonemes=[Phoneme(id='ɡ', info={'features': ['-', '-', '+', '-', '-', '-', '-', '0', '+', '-', '-', '-', '-', '0', '-', '+', '-', '+', '-', '0', '-'], 'word_position_prob': {0: 0.6206003986790039, 1: 0.0370116926006367, 2: 0.18437416322037428, 3: 0.0536729047038172, 4: 0.03079349022641397, 5: 0.030019933950194876, 6: 0.016601707774240575, 7: 0.013061200202314719, 8: 0.004938859302014221, 9: 0.00395703787450537, 10: 0.0016958733747880158, 11: 0.0011603344143286424, 12: 0.0006545476183392342, 13: 0.00038677813810954746, 14: 0.0003570259736395823, 15: 0.00020826515128975634, 16: 0.00014876082234982596, 17: 0.00017851298681979114, 18: 5.950432893993038e-05, 19: 5.950432893993038e-05, 20: 0.0, 21: 0.0, 22: 2.975216446996519e-05, 23: 0.0, 24: 2.975216446996519e-05}}), Phoneme(id='iː', info={'features': ['+', '+', '-', '+', '-', '-', '-', '0', '+', '-', '-', '-', '-', '-', '-', '+', '-', '-', '-', '+', '+'], 'word_position_prob': {0: 0.0045906656465187455, 1: 0.6486610558530987, 2: 0.07486610558530987, 3: 0.04254016832440704, 4: 0.07333588370313696, 5: 0.023182861514919665, 6: 0.020696250956388676, 7: 0.08446824789594491, 8: 0.012853863810252487, 9: 0.005814843152257078, 10: 0.0035195103289977045, 11: 0.002180566182096404, 12: 0.000918133129303749, 13: 0.00038255547054322876, 14: 0.0008416220351951033, 15: 0.000612088752869166, 16: 3.8255547054322874e-05, 17: 0.0001530221882172915, 18: 0.00026778882938026014, 19: 7.651109410864575e-05}})]))"
      ]
     },
     "execution_count": 43,
     "metadata": {},
     "output_type": "execute_result"
    }
   ],
   "source": [
    "print(syllables[\"ɡaː\"], syllables[1])\n",
    "syllables[\"ɡaː\"], syllables[1]"
   ]
  },
  {
   "attachments": {},
   "cell_type": "markdown",
   "id": "62b55802",
   "metadata": {},
   "source": [
    "You can get the sub-elements of any composite element as a list:"
   ]
  },
  {
   "cell_type": "code",
   "execution_count": 44,
   "id": "456c6079",
   "metadata": {},
   "outputs": [
    {
     "data": {
      "text/plain": [
       "[Phoneme(id='ɡ', info={'features': ['-', '-', '+', '-', '-', '-', '-', '0', '+', '-', '-', '-', '-', '0', '-', '+', '-', '+', '-', '0', '-'], 'word_position_prob': {0: 0.6206003986790039, 1: 0.0370116926006367, 2: 0.18437416322037428, 3: 0.0536729047038172, 4: 0.03079349022641397, 5: 0.030019933950194876, 6: 0.016601707774240575, 7: 0.013061200202314719, 8: 0.004938859302014221, 9: 0.00395703787450537, 10: 0.0016958733747880158, 11: 0.0011603344143286424, 12: 0.0006545476183392342, 13: 0.00038677813810954746, 14: 0.0003570259736395823, 15: 0.00020826515128975634, 16: 0.00014876082234982596, 17: 0.00017851298681979114, 18: 5.950432893993038e-05, 19: 5.950432893993038e-05, 20: 0.0, 21: 0.0, 22: 2.975216446996519e-05, 23: 0.0, 24: 2.975216446996519e-05}}),\n",
       " Phoneme(id='aː', info={'features': ['+', '+', '-', '+', '-', '-', '-', '0', '+', '-', '-', '-', '-', '-', '-', '-', '+', '+', '-', '+', '+'], 'word_position_prob': {0: 0.12874454553597706, 1: 0.7254789051403124, 2: 0.04774335547109934, 3: 0.0355100003838919, 4: 0.0217922632986551, 5: 0.014895005566432492, 6: 0.008714346040155092, 7: 0.009034255953523487, 8: 0.003506212650517614, 9: 0.0017275135321893355, 10: 0.0008957477574315073, 11: 0.0005374486544589043, 12: 0.0005246522579241686, 13: 0.00033270630990313126, 14: 0.00015355675841682983, 15: 0.000140760361882094, 16: 0.00010237117227788655, 17: 5.1185586138943275e-05, 18: 1.2796396534735819e-05, 19: 2.5592793069471637e-05, 20: 3.838918960420746e-05, 21: 1.2796396534735819e-05, 22: 1.2796396534735819e-05, 23: 1.2796396534735819e-05}})]"
      ]
     },
     "execution_count": 44,
     "metadata": {},
     "output_type": "execute_result"
    }
   ],
   "source": [
    "syllables[\"ɡaː\"].get_elements()"
   ]
  },
  {
   "attachments": {},
   "cell_type": "markdown",
   "id": "5d441188",
   "metadata": {},
   "source": [
    "Finally, you can iterate over both, the Elements of a Register and over the Sub-Elements of an Element:"
   ]
  },
  {
   "cell_type": "code",
   "execution_count": 45,
   "id": "44b8027c",
   "metadata": {},
   "outputs": [
    {
     "name": "stdout",
     "output_type": "stream",
     "text": [
      "Syllable ɡaː consists of phonemes ɡ aː \n",
      "Syllable ɡiː consists of phonemes ɡ iː \n"
     ]
    }
   ],
   "source": [
    "for syllable in syllables[:2]:\n",
    "    print(\"Syllable\", syllable, f\"consists of phonemes \", end=\"\") \n",
    "    for phoneme in syllable:\n",
    "        print(phoneme, end=\" \")\n",
    "    print(\"\")"
   ]
  },
  {
   "attachments": {},
   "cell_type": "markdown",
   "id": "fbf91d4c-f5d4-482c-93e5-dc3d95bde840",
   "metadata": {},
   "source": [
    "## Export to SSML\n",
    "Once we are done making syllables, we can export them to Speech Synthesis Markup Language (SSML) for later reference."
   ]
  },
  {
   "cell_type": "code",
   "execution_count": 46,
   "id": "7837841d-8d86-4e6e-9e86-7a7497480444",
   "metadata": {},
   "outputs": [
    {
     "name": "stdout",
     "output_type": "stream",
     "text": [
      "Done\n"
     ]
    }
   ],
   "source": [
    "from arc.io import export_speech_synthesiser\n",
    "export_speech_synthesiser(syllables, syllables_dir=os.path.join(\"results\", \"ssml\"))"
   ]
  },
  {
   "attachments": {},
   "cell_type": "markdown",
   "id": "734630a5-f0f0-46fb-8848-c9324b802cc2",
   "metadata": {},
   "source": [
    "## Words\n",
    "`Word`s are made out of `Syllable`s, same as before when we made syllables from phonemes.\n",
    "\n",
    "Since one of ARC's main features is rythmicity control, our `make_words` function will only create words that have minimum overlap of phonotactic features. By default, this function generates 10000 words, but you can change that with the `n_words` option. With 10000 words, this should run fairly quickly, however, when you set the number higher you may want to also set the `progress_bar=True` flag in the function arguments."
   ]
  },
  {
   "cell_type": "code",
   "execution_count": 47,
   "id": "a76f5094-73bc-4ca9-9831-75791b6d25be",
   "metadata": {},
   "outputs": [
    {
     "name": "stdout",
     "output_type": "stream",
     "text": [
      "Help on function make_words in module arc.core.word:\n",
      "\n",
      "make_words(syllables: ~RegisterType, num_syllables=3, bigram_control=True, bigram_alpha=None, trigram_control=True, trigram_alpha=None, positional_control=True, positional_control_position=None, position_alpha=0, phonotactic_control=True, n_look_back=2, n_words=10000, max_tries=100000, progress_bar: bool = True) -> ~RegisterType\n",
      "    _summary_\n",
      "    \n",
      "    Args:\n",
      "        syllables (RegisterType): The Register of syllables to use as a basis for word generation\n",
      "        num_syllables (int, optional): how many syllables are in a word. Defaults to 3.\n",
      "        bigram_control (bool, optional): apply statistical control on the bigram level. Defaults to True.\n",
      "        bigram_alpha (_type_, optional): which p-value to assume for bigram control. Defaults to None.\n",
      "        trigram_control (bool, optional): apply statistical control on the trigram level. Defaults to True.\n",
      "        trigram_alpha (_type_, optional): which p-value to assume for trigram control. Defaults to None.\n",
      "        positional_control (bool, optional): control phoneme positions in words to be likely given the language. Defaults to True.\n",
      "        positional_control_position (int, optional): At which position to control phoneme likelihood (None means all). Defaults to None.\n",
      "        position_alpha (float, optional): probability throshold for positional control. Defaults to 0.\n",
      "        phonotactic_control (bool, optional): control each syllabel for minimum feature overlap with previous syllables. Defaults to True.\n",
      "        n_look_back (int, optional): how far to look back in the feature overlap control of the syllables. Defaults to 2.\n",
      "        n_words (_type_, optional): how many words to generate. Defaults to 10_000.\n",
      "        max_tries (_type_, optional): how often to attemt to add a word to the Register, before the function gives up. Defaults to 100_000.\n",
      "        progress_bar (bool, optional): print a progress bar based on 'n_words'. Defaults to True.\n",
      "    \n",
      "    Returns:\n",
      "        RegisterType: The Register of words.\n",
      "\n"
     ]
    }
   ],
   "source": [
    "from arc import make_words\n",
    "help(make_words)"
   ]
  },
  {
   "cell_type": "code",
   "execution_count": 48,
   "id": "4e32d88d-c32c-47a8-91f9-373c6b0b6020",
   "metadata": {
    "is_executing": true
   },
   "outputs": [
    {
     "name": "stdout",
     "output_type": "stream",
     "text": [
      "bigram control...\n",
      "trigram control...\n",
      "positional control...\n",
      "ʃoːpaːhuː|foːryːkaː|løːbyːçaː|fuːnøːɡaː|løːkuːfiː|ʃuːbiːhøː|nyːɡaːfoː|seːmyːkaː|ʃuːhøːbyː|nɛːbiːçaː|... (9720 elements total)\n"
     ]
    }
   ],
   "source": [
    "words = make_words(syllables, n_words=10_000, progress_bar=False, positional_control=True, position_alpha=0.001)\n",
    "print(words)"
   ]
  },
  {
   "attachments": {},
   "cell_type": "markdown",
   "id": "3052c084-76a8-45b5-8f44-e1e509716cbb",
   "metadata": {},
   "source": [
    "The words register has some relevant info about how it has been created:"
   ]
  },
  {
   "cell_type": "code",
   "execution_count": 49,
   "id": "5546f1ec-89b7-4275-9f3c-22681daa0fe1",
   "metadata": {},
   "outputs": [
    {
     "name": "stdout",
     "output_type": "stream",
     "text": [
      "n_syllables_per_word\n",
      "n_look_back\n",
      "phonotactic_control\n",
      "syllables_info\n",
      "bigram_pval\n",
      "trigram_pval\n",
      "\n",
      "For example, the type of syllables used to create the words is 'cV'\n"
     ]
    }
   ],
   "source": [
    "for key in words.info:\n",
    "    print(key)\n",
    "print(\"\")\n",
    "print(f\"For example, the type of syllables used to create the words is '{words.info['syllables_info']['syllable_type']}'\")"
   ]
  },
  {
   "attachments": {},
   "cell_type": "markdown",
   "id": "5896e8bf-1b21-4fd1-b052-8c1d97552694",
   "metadata": {},
   "source": [
    "## Summary of important functions"
   ]
  },
  {
   "cell_type": "code",
   "execution_count": 14,
   "id": "faac3748",
   "metadata": {},
   "outputs": [
    {
     "name": "stdout",
     "output_type": "stream",
     "text": [
      "ɡ|k|b|d|p|t|x|ç|ʃ|f|... (38 elements total)\n",
      "ɡaː|ɡiː|ɡyː|ɡɛː|kaː|koː|kuː|køː|kɛː|baː|... (75 elements total)\n"
     ]
    },
    {
     "name": "stderr",
     "output_type": "stream",
     "text": [
      "100%|██████████| 10000/10000 [00:12<00:00, 827.13it/s]\n"
     ]
    },
    {
     "name": "stdout",
     "output_type": "stream",
     "text": [
      "bigram control...\n",
      "trigram control...\n",
      "positional control...\n",
      "heːʃøːpaː|kaːʃuːmoː|peːryːçaː|kaːfyːroː|loːpuːçaː|riːpuːçaː|doːfiːhøː|ɡɛːnyːfuː|moːtɛːçaː|puːʃaːhøː|... (10000 elements total)\n"
     ]
    }
   ],
   "source": [
    "from arc import load_phonemes, make_syllables, make_words, Register, Element\n",
    "\n",
    "phonemes: Register = load_phonemes()\n",
    "print(phonemes)\n",
    "\n",
    "syllables = make_syllables(phonemes)\n",
    "print(syllables)\n",
    "\n",
    "words = make_words(syllables)\n",
    "print(words)"
   ]
  },
  {
   "cell_type": "code",
   "execution_count": 15,
   "id": "0a9c63ad",
   "metadata": {},
   "outputs": [],
   "source": [
    "import os\n",
    "words.save(os.path.join(\"results\", \"words.json\"))"
   ]
  },
  {
   "cell_type": "code",
   "execution_count": 17,
   "id": "72acf189",
   "metadata": {},
   "outputs": [
    {
     "name": "stdout",
     "output_type": "stream",
     "text": [
      "heːʃøːpaː|kaːʃuːmoː|peːryːçaː|kaːfyːroː|loːpuːçaː|riːpuːçaː|doːfiːhøː|ɡɛːnyːfuː|moːtɛːçaː|puːʃaːhøː|... (10000 elements total)\n"
     ]
    }
   ],
   "source": [
    "from arc import load_words\n",
    "\n",
    "print(load_words(os.path.join(\"results\", \"words.json\")))"
   ]
  },
  {
   "cell_type": "code",
   "execution_count": 18,
   "id": "211e7945",
   "metadata": {},
   "outputs": [
    {
     "name": "stdout",
     "output_type": "stream",
     "text": [
      "Done\n"
     ]
    }
   ],
   "source": [
    "from arc.io import export_speech_synthesiser\n",
    "export_speech_synthesiser(syllables, syllables_dir=os.path.join(\"results\", \"ssml\"))"
   ]
  },
  {
   "cell_type": "code",
   "execution_count": 19,
   "id": "a430f124-cb84-42b4-82b7-29e7cd112bc9",
   "metadata": {},
   "outputs": [
    {
     "name": "stdout",
     "output_type": "stream",
     "text": [
      "zøːhuːpeː|vaːɡɛːreː|ɡɛːruːfaː|faːhoːtuː|ɡɛːluːvaː|myːkoːsuː|poːzyːhiː|ruːɡaːfiː|paːheːʃoː|puːçaːnøː\n"
     ]
    }
   ],
   "source": [
    "print(words.get_subset(10))"
   ]
  },
  {
   "cell_type": "code",
   "execution_count": 20,
   "id": "a27e0679",
   "metadata": {},
   "outputs": [
    {
     "name": "stdout",
     "output_type": "stream",
     "text": [
      "byːhøːsiː\n",
      "reːkoːfiː\n"
     ]
    }
   ],
   "source": [
    "for word in words.get_subset(2):\n",
    "    print(word)"
   ]
  },
  {
   "cell_type": "code",
   "execution_count": 21,
   "id": "6590f0a7",
   "metadata": {},
   "outputs": [
    {
     "name": "stdout",
     "output_type": "stream",
     "text": [
      "lyːfiːkɛː\n"
     ]
    }
   ],
   "source": [
    "print(words['lyːfiːkɛː'])"
   ]
  },
  {
   "cell_type": "code",
   "execution_count": 22,
   "id": "0d0bf5ed",
   "metadata": {},
   "outputs": [
    {
     "data": {
      "text/plain": [
       "Word(id='lyːfiːkɛː', info={'binary_features': [[1, 0, 0], [0, 0, 1], [0, 0, 1], [0, 1, 0], [1, 0, 0], [1, 1, 0], [1, 0, 0], [0, 0, 0], [1, 0, 0], [0, 0, 0], [1, 1, 0], [0, 0, 0], [1, 0, 0], [1, 1, 0], [1, 1, 1]]}, syllables=[Syllable(id='lyː', info={'binary_features': [1, 0, 0, 0, 1, 1, 1, 0, 1, 0, 1, 0, 1, 1, 1], 'phonotactic_features': [['son', 'den'], ['y']], 'freq': 60, 'prob': 5.93681e-05}, phonemes=[Phoneme(id='l', info={'features': ['-', '+', '+', '+', '-', '+', '-', '-', '+', '-', '-', '+', '+', '-', '-', '-', '-', '-', '-', '0', '-'], 'word_position_prob': {0: 0.07766470273165506, 1: 0.26216619481215087, 2: 0.3287359400107124, 3: 0.07513964343101998, 4: 0.08835794628510216, 5: 0.08066799296044073, 6: 0.04361466064733338, 7: 0.015590328257709082, 8: 0.01289310582293978, 9: 0.0055092202922947435, 10: 0.003825847425204683, 11: 0.002065957609610529, 12: 0.0013199173616956156, 13: 0.00078429872216696, 14: 0.0006695232994108195, 15: 0.0003634555053944449, 16: 0.00034432626826842147, 17: 7.651694850409365e-05, 18: 5.7387711378070245e-05, 19: 5.7387711378070245e-05, 20: 1.9129237126023413e-05, 21: 3.8258474252046826e-05, 22: 0.0, 23: 1.9129237126023413e-05, 24: 0.0, 25: 0.0, 26: 0.0, 27: 0.0, 28: 1.9129237126023413e-05}}), Phoneme(id='yː', info={'features': ['+', '+', '-', '+', '-', '-', '-', '0', '+', '-', '-', '-', '-', '-', '+', '+', '-', '-', '+', '+', '+'], 'word_position_prob': {0: 0.2777124029183337, 1: 0.3132501765121205, 2: 0.13250176512120498, 3: 0.15297717109908213, 4: 0.0583666745116498, 5: 0.028712638267827724, 6: 0.008472581783949164, 7: 0.008001882795951988, 8: 0.00564838785596611, 9: 0.00564838785596611, 10: 0.0025888444339844667, 11: 0.003059543421981643, 12: 0.0011767474699929394, 13: 0.0007060484819957637, 14: 0.0002353494939985879, 15: 0.0004706989879971758, 16: 0.0002353494939985879, 17: 0.0, 18: 0.0, 19: 0.0, 20: 0.0, 21: 0.0, 22: 0.0, 23: 0.0, 24: 0.0, 25: 0.0, 26: 0.0, 27: 0.0002353494939985879}})]), Syllable(id='fiː', info={'binary_features': [0, 0, 0, 1, 0, 1, 0, 0, 0, 0, 1, 0, 0, 1, 1], 'phonotactic_features': [['fri', 'lab'], ['i']], 'freq': 368, 'prob': 0.0003641243}, phonemes=[Phoneme(id='f', info={'features': ['-', '-', '+', '+', '-', '-', '-', '0', '-', '-', '-', '+', '-', '0', '+', '-', '-', '-', '-', '0', '-'], 'word_position_prob': {0: 0.4268284300247457, 1: 0.17538493263678856, 2: 0.1895793236183668, 3: 0.0858880945834479, 4: 0.03859637063513885, 5: 0.029110530657135, 6: 0.020312070387682155, 7: 0.012750893593621117, 8: 0.008214187517184493, 9: 0.005052240857849877, 10: 0.0029901017321968654, 11: 0.0015122353588122078, 12: 0.0010998075336816058, 13: 0.000962331591971405, 14: 0.00044679681055815235, 15: 0.0004124278251306021, 16: 0.0003093208688479516, 17: 0.0004124278251306021, 18: 0.0, 19: 3.436898542755018e-05, 20: 6.873797085510036e-05, 21: 0.0, 22: 0.0, 23: 0.0, 24: 0.0, 25: 0.0, 26: 3.436898542755018e-05}}), Phoneme(id='iː', info={'features': ['+', '+', '-', '+', '-', '-', '-', '0', '+', '-', '-', '-', '-', '-', '-', '+', '-', '-', '-', '+', '+'], 'word_position_prob': {0: 0.0045906656465187455, 1: 0.6486610558530987, 2: 0.07486610558530987, 3: 0.04254016832440704, 4: 0.07333588370313696, 5: 0.023182861514919665, 6: 0.020696250956388676, 7: 0.08446824789594491, 8: 0.012853863810252487, 9: 0.005814843152257078, 10: 0.0035195103289977045, 11: 0.002180566182096404, 12: 0.000918133129303749, 13: 0.00038255547054322876, 14: 0.0008416220351951033, 15: 0.000612088752869166, 16: 3.8255547054322874e-05, 17: 0.0001530221882172915, 18: 0.00026778882938026014, 19: 7.651109410864575e-05}})]), Syllable(id='kɛː', info={'binary_features': [0, 1, 1, 0, 0, 0, 0, 0, 0, 0, 0, 0, 0, 0, 1], 'phonotactic_features': [['plo', 'oth'], ['ɛ']], 'freq': 37, 'prob': 3.66103e-05}, phonemes=[Phoneme(id='k', info={'features': ['-', '-', '+', '-', '-', '-', '-', '0', '-', '-', '-', '-', '-', '0', '-', '+', '-', '+', '-', '0', '-'], 'word_position_prob': {0: 0.43693215730486107, 1: 0.090158498574176, 2: 0.12746203329133232, 3: 0.12480933748922342, 4: 0.07626500431063069, 5: 0.0564361031898667, 6: 0.03693878904436634, 7: 0.017607268386497777, 8: 0.013926652961071689, 9: 0.00882021354201207, 10: 0.0035148219377942836, 11: 0.002022680549108031, 12: 0.001823728363949864, 13: 0.0009616022282644738, 14: 0.0006631739505272233, 15: 0.0006963326480535845, 16: 0.0005636978579481398, 17: 0.0002652695802108893, 18: 0.0, 19: 0.0, 20: 9.94760925790835e-05, 21: 3.3158697526361164e-05}}), Phoneme(id='ɛː', info={'features': ['+', '+', '-', '+', '-', '-', '-', '0', '+', '-', '-', '-', '-', '-', '-', '-', '-', '-', '-', '-', '+'], 'word_position_prob': {0: 0.10854647535870243, 1: 0.48346849656893326, 2: 0.198378041172801, 3: 0.028696194635059263, 4: 0.043044291952588895, 5: 0.034310667498440424, 6: 0.044291952588895823, 7: 0.018714909544603867, 8: 0.010605115408608859, 9: 0.004366812227074236, 10: 0.008109794135995009, 11: 0.007485963817841547, 12: 0.004366812227074236, 13: 0.0037429819089207735, 14: 0.0012476606363069245, 15: 0.0, 16: 0.0006238303181534623}})])])"
      ]
     },
     "execution_count": 22,
     "metadata": {},
     "output_type": "execute_result"
    }
   ],
   "source": [
    "words['lyːfiːkɛː']"
   ]
  },
  {
   "cell_type": "code",
   "execution_count": 8,
   "id": "ac9f2376",
   "metadata": {},
   "outputs": [
    {
     "name": "stdout",
     "output_type": "stream",
     "text": [
      "nuː\n",
      "{'binary_features': [1, 0, 0, 0, 1, 0, 0, 1, 1, 1, 1, 0, 1, 1, 1], 'phonotactic_features': [['son', 'den'], ['u']], 'freq': 357, 'prob': 0.0003532401}\n",
      "køː\n",
      "{'binary_features': [0, 1, 1, 0, 0, 0, 0, 0, 0, 0, 0, 0, 0, 1, 1], 'phonotactic_features': [['plo', 'oth'], ['ø']], 'freq': 45, 'prob': 4.45261e-05}\n",
      "vaː\n",
      "{'binary_features': [0, 0, 0, 1, 0, 1, 0, 0, 1, 1, 0, 1, 0, 1, 1], 'phonotactic_features': [['fri', 'lab'], ['a']], 'freq': 100, 'prob': 9.89468e-05}\n",
      "nuː\n",
      "Sub-elements are accessed by index, not by key, because they can repeat, i.e. there could be multiple appearences of the same syllable in a word etc.\n",
      "It will throw a TypeError\n"
     ]
    }
   ],
   "source": [
    "nu_ko_va = words['nuːkøːvaː']\n",
    "\n",
    "for syllable in nu_ko_va:\n",
    "    print(syllable)\n",
    "    print(syllable.info)\n",
    "\n",
    "print(nu_ko_va[0])\n",
    "\n",
    "try:\n",
    "    nu_ko_va['nuː']\n",
    "except TypeError:\n",
    "    print(\"Sub-elements are accessed by index, not by key, because they can repeat, i.e. there could be multiple appearences of the same syllable in a word etc.\")\n",
    "    print(\"It will throw a TypeError\")"
   ]
  },
  {
   "cell_type": "code",
   "execution_count": 9,
   "id": "213c692b",
   "metadata": {},
   "outputs": [
    {
     "data": {
      "text/plain": [
       "[Syllable(id='nuː', info={'binary_features': [1, 0, 0, 0, 1, 0, 0, 1, 1, 1, 1, 0, 1, 1, 1], 'phonotactic_features': [['son', 'den'], ['u']], 'freq': 357, 'prob': 0.0003532401}, phonemes=[Phoneme(id='n', info={'features': ['-', '+', '+', '-', '-', '-', '+', '-', '+', '-', '-', '+', '+', '-', '-', '-', '-', '-', '-', '0', '-'], 'word_position_prob': {0: 0.18406973725953912, 1: 0.17740028264067143, 2: 0.2780405502840827, 3: 0.05586479393187783, 4: 0.11546448245032158, 5: 0.05872725175208375, 6: 0.0460084215383728, 7: 0.03188359818879243, 8: 0.020361664695872868, 9: 0.013274017246849134, 10: 0.007671675367000259, 11: 0.004441496265105414, 12: 0.002862457820205924, 13: 0.001542987338851556, 14: 0.0008075447754737115, 15: 0.0005119257058806564, 16: 0.00036772128168892224, 17: 0.00024514752112594814, 18: 0.0001442044241917342, 19: 0.00015862486661090763, 20: 9.373287572462723e-05, 21: 2.884088483834684e-05, 22: 1.442044241917342e-05, 23: 7.21022120958671e-06, 24: 7.21022120958671e-06}}), Phoneme(id='uː', info={'features': ['+', '+', '-', '+', '-', '-', '-', '0', '+', '-', '-', '-', '-', '-', '+', '+', '-', '+', '+', '+', '+'], 'word_position_prob': {0: 0.21468460464525954, 1: 0.4075390277954055, 2: 0.22210940474679527, 3: 0.05076786394212463, 4: 0.04930828785378855, 5: 0.018593730168803148, 6: 0.01085163091762914, 7: 0.00888437618987181, 8: 0.0052671658839954305, 9: 0.0036172103058763803, 10: 0.0032364513263104457, 11: 0.0017134154080467065, 12: 0.0007615179591318695, 13: 0.0008884376189871811, 14: 0.0005076786394212463, 15: 0.00044421880949359056, 16: 0.0005076786394212463, 17: 0.00012691965985531158, 18: 0.00012691965985531158, 19: 0.0, 20: 6.345982992765579e-05}})]),\n",
       " Syllable(id='køː', info={'binary_features': [0, 1, 1, 0, 0, 0, 0, 0, 0, 0, 0, 0, 0, 1, 1], 'phonotactic_features': [['plo', 'oth'], ['ø']], 'freq': 45, 'prob': 4.45261e-05}, phonemes=[Phoneme(id='k', info={'features': ['-', '-', '+', '-', '-', '-', '-', '0', '-', '-', '-', '-', '-', '0', '-', '+', '-', '+', '-', '0', '-'], 'word_position_prob': {0: 0.43693215730486107, 1: 0.090158498574176, 2: 0.12746203329133232, 3: 0.12480933748922342, 4: 0.07626500431063069, 5: 0.0564361031898667, 6: 0.03693878904436634, 7: 0.017607268386497777, 8: 0.013926652961071689, 9: 0.00882021354201207, 10: 0.0035148219377942836, 11: 0.002022680549108031, 12: 0.001823728363949864, 13: 0.0009616022282644738, 14: 0.0006631739505272233, 15: 0.0006963326480535845, 16: 0.0005636978579481398, 17: 0.0002652695802108893, 18: 0.0, 19: 0.0, 20: 9.94760925790835e-05, 21: 3.3158697526361164e-05}}), Phoneme(id='øː', info={'features': ['+', '+', '-', '+', '-', '-', '-', '0', '+', '-', '-', '-', '-', '-', '-', '-', '-', '-', '+', '+', '+'], 'word_position_prob': {0: 0.02181818181818182, 1: 0.5498181818181819, 2: 0.23927272727272728, 3: 0.05090909090909091, 4: 0.030545454545454546, 5: 0.024727272727272726, 6: 0.04290909090909091, 7: 0.024, 8: 0.008, 9: 0.002181818181818182, 10: 0.002181818181818182, 11: 0.0007272727272727272, 12: 0.0007272727272727272, 13: 0.0, 14: 0.0, 15: 0.0007272727272727272, 16: 0.0014545454545454545}})]),\n",
       " Syllable(id='vaː', info={'binary_features': [0, 0, 0, 1, 0, 1, 0, 0, 1, 1, 0, 1, 0, 1, 1], 'phonotactic_features': [['fri', 'lab'], ['a']], 'freq': 100, 'prob': 9.89468e-05}, phonemes=[Phoneme(id='v', info={'features': ['-', '-', '+', '+', '-', '-', '-', '0', '+', '-', '-', '+', '-', '0', '+', '-', '-', '-', '-', '0', '-'], 'word_position_prob': {0: 0.7452716737728217, 1: 0.049087132393134364, 2: 0.07251011260522576, 3: 0.026593418607193615, 4: 0.011533836230458073, 5: 0.008035421449655624, 6: 0.07581720782770307, 7: 0.002077183776101454, 8: 0.005302284902153712, 9: 0.001667213293976167, 10: 0.001065923253525746, 11: 0.0004373018476003061, 12: 0.0002459822892751722, 13: 0.00013665682737509566, 14: 8.199409642505739e-05, 15: 8.199409642505739e-05, 16: 5.466273095003826e-05}}), Phoneme(id='aː', info={'features': ['+', '+', '-', '+', '-', '-', '-', '0', '+', '-', '-', '-', '-', '-', '-', '-', '+', '+', '-', '+', '+'], 'word_position_prob': {0: 0.12874454553597706, 1: 0.7254789051403124, 2: 0.04774335547109934, 3: 0.0355100003838919, 4: 0.0217922632986551, 5: 0.014895005566432492, 6: 0.008714346040155092, 7: 0.009034255953523487, 8: 0.003506212650517614, 9: 0.0017275135321893355, 10: 0.0008957477574315073, 11: 0.0005374486544589043, 12: 0.0005246522579241686, 13: 0.00033270630990313126, 14: 0.00015355675841682983, 15: 0.000140760361882094, 16: 0.00010237117227788655, 17: 5.1185586138943275e-05, 18: 1.2796396534735819e-05, 19: 2.5592793069471637e-05, 20: 3.838918960420746e-05, 21: 1.2796396534735819e-05, 22: 1.2796396534735819e-05, 23: 1.2796396534735819e-05}})])]"
      ]
     },
     "execution_count": 9,
     "metadata": {},
     "output_type": "execute_result"
    }
   ],
   "source": [
    "nu_ko_va.get_elements()"
   ]
  },
  {
   "cell_type": "code",
   "execution_count": 10,
   "id": "9d528c0c",
   "metadata": {},
   "outputs": [
    {
     "name": "stdout",
     "output_type": "stream",
     "text": [
      "n\n",
      "{'features': ['-', '+', '+', '-', '-', '-', '+', '-', '+', '-', '-', '+', '+', '-', '-', '-', '-', '-', '-', '0', '-'], 'word_position_prob': {0: 0.18406973725953912, 1: 0.17740028264067143, 2: 0.2780405502840827, 3: 0.05586479393187783, 4: 0.11546448245032158, 5: 0.05872725175208375, 6: 0.0460084215383728, 7: 0.03188359818879243, 8: 0.020361664695872868, 9: 0.013274017246849134, 10: 0.007671675367000259, 11: 0.004441496265105414, 12: 0.002862457820205924, 13: 0.001542987338851556, 14: 0.0008075447754737115, 15: 0.0005119257058806564, 16: 0.00036772128168892224, 17: 0.00024514752112594814, 18: 0.0001442044241917342, 19: 0.00015862486661090763, 20: 9.373287572462723e-05, 21: 2.884088483834684e-05, 22: 1.442044241917342e-05, 23: 7.21022120958671e-06, 24: 7.21022120958671e-06}}\n",
      "uː\n",
      "{'features': ['+', '+', '-', '+', '-', '-', '-', '0', '+', '-', '-', '-', '-', '-', '+', '+', '-', '+', '+', '+', '+'], 'word_position_prob': {0: 0.21468460464525954, 1: 0.4075390277954055, 2: 0.22210940474679527, 3: 0.05076786394212463, 4: 0.04930828785378855, 5: 0.018593730168803148, 6: 0.01085163091762914, 7: 0.00888437618987181, 8: 0.0052671658839954305, 9: 0.0036172103058763803, 10: 0.0032364513263104457, 11: 0.0017134154080467065, 12: 0.0007615179591318695, 13: 0.0008884376189871811, 14: 0.0005076786394212463, 15: 0.00044421880949359056, 16: 0.0005076786394212463, 17: 0.00012691965985531158, 18: 0.00012691965985531158, 19: 0.0, 20: 6.345982992765579e-05}}\n"
     ]
    }
   ],
   "source": [
    "nu = words['nuːkøːvaː'][0]\n",
    "\n",
    "for phoneme in nu:\n",
    "    print(phoneme)\n",
    "    print(phoneme.info)"
   ]
  },
  {
   "cell_type": "code",
   "execution_count": 11,
   "id": "1950fefa",
   "metadata": {},
   "outputs": [
    {
     "name": "stdout",
     "output_type": "stream",
     "text": [
      "Registers are like Dicts: True True True True\n",
      "Subsets of Registers are Registers again: True\n",
      "Elements are the things inside a Register: True True True True True\n",
      "Sub-Elements of an Element are Lists: True True\n"
     ]
    }
   ],
   "source": [
    "from arc import Syllable, Word, Register, Element\n",
    "\n",
    "print(\"Registers are like Dicts:\", isinstance(words, Register), isinstance(syllables, Register), isinstance(phonemes, Register), isinstance(words, dict))\n",
    "\n",
    "print(\"Subsets of Registers are Registers again:\", isinstance(words.get_subset(10), Register))\n",
    "\n",
    "print(\"Elements are the things inside a Register:\", isinstance(nu_ko_va, Element), isinstance(nu_ko_va, Word), isinstance(nu, Element), isinstance(nu, Syllable), isinstance(syllables[0], Syllable))\n",
    "\n",
    "print(\"Sub-Elements of an Element are Lists:\", isinstance(nu_ko_va.get_elements(), list), isinstance(nu_ko_va[:2], list))"
   ]
  },
  {
   "cell_type": "code",
   "execution_count": 12,
   "id": "81d36606",
   "metadata": {},
   "outputs": [
    {
     "name": "stdout",
     "output_type": "stream",
     "text": [
      "muː|kaː|zøː|tuː|hiː|faː|ɡyː|moː|byː|nøː|... (75 elements total)\n"
     ]
    }
   ],
   "source": [
    "syllables = words.flatten()\n",
    "print(syllables)"
   ]
  },
  {
   "cell_type": "code",
   "execution_count": 23,
   "id": "3d28ff53-a309-428c-997a-c69955502184",
   "metadata": {},
   "outputs": [
    {
     "name": "stdout",
     "output_type": "stream",
     "text": [
      "toːsts|ɪçs|kras|ʃtɔʏ|bsəŋ|zɔɐkt|iːz|darft|tseːn|flan|... (3198 elements total)\n",
      "ɡaː|ɡiː|ɡyː|ɡɛː|kaː|koː|kuː|køː|kɛː|baː|... (75 elements total)\n"
     ]
    }
   ],
   "source": [
    "from arc.io import read_syllables_corpus\n",
    "\n",
    "corpus = read_syllables_corpus()\n",
    "half_corpus = corpus.get_subset(len(corpus)//2)\n",
    "\n",
    "print(half_corpus)\n",
    "\n",
    "print(syllables.intersection(corpus))"
   ]
  },
  {
   "cell_type": "code",
   "execution_count": null,
   "id": "30c0b987",
   "metadata": {},
   "outputs": [],
   "source": []
  }
 ],
 "metadata": {
  "kernelspec": {
   "display_name": "test_arc",
   "language": "python",
   "name": "python3"
  },
  "language_info": {
   "codemirror_mode": {
    "name": "ipython",
    "version": 3
   },
   "file_extension": ".py",
   "mimetype": "text/x-python",
   "name": "python",
   "nbconvert_exporter": "python",
   "pygments_lexer": "ipython3",
   "version": "3.9.19"
  }
 },
 "nbformat": 4,
 "nbformat_minor": 5
}
